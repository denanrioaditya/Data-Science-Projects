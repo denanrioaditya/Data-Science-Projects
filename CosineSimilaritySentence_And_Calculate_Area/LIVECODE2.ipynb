{
 "cells": [
  {
   "cell_type": "markdown",
   "metadata": {},
   "source": [
    "# Live Code 2\n",
    "\n",
    "```txt\n",
    "Adnan Rio\n",
    "Batch 14\n",
    "```"
   ]
  },
  {
   "cell_type": "markdown",
   "metadata": {},
   "source": [
    "## Description\n",
    "\n",
    "\n",
    "### Problem Statement\n",
    "\n",
    "```\n",
    "### Problem 1 ###\n",
    "Berikut tabel yang berisikan frekuensi kata yang muncul pada kedua kalimat:\n",
    "\n",
    "Kata\tKalimat 1\tKalimat 2\n",
    "me\t2\t2\n",
    "Jane\t0\t1\n",
    "Julie\t1\t1\n",
    "Linda\t1\t0\n",
    "likes\t0\t1\n",
    "loves\t2\t1\n",
    "more\t1\t1\n",
    "than\t1\t1\n",
    "\n",
    "Buatlah vektor yang merupakan representasi masing-masing kalimat berdasarkan tabel di atas dan hitung cosine similarity antar kedua vektor.\n",
    "\n",
    "### Problem 2 ###\n",
    "1. Gunakan tabel `states` pada dataset `geo_us_boundaries`.\n",
    "2. Buatlah query dengan kriteria sebagai berikut:\n",
    "   - Pilih semua kolom dan **HANYA** data negara bagian `Colorado` (Informasi nama negara bagian terdapat di kolom `state_name`).\n",
    "3. Simpan dataset dalam bentuk csv, dengan nama `h8dsft_P0LC2_<nama-students>.csv`.\n",
    "4. Salin query yang telah dibuat di Google Cloud Platform, tulislah pada bagian atas notebook!\n",
    "5. Tampilkan data pada notebook (Data hanya mengandung satu baris saja)!\n",
    "\n",
    "Menggunakan konsep integral untuk menghitung luas dibawah kurva, tentukan luas negara bagian Colorado jika diketahui koordinat batas-batasnya pada data yang sudah kamu ambil dari big query. \n",
    "\n",
    "```"
   ]
  },
  {
   "cell_type": "markdown",
   "metadata": {},
   "source": [
    "## Working Area\n"
   ]
  },
  {
   "cell_type": "markdown",
   "metadata": {},
   "source": [
    "3.  Import Pustaka"
   ]
  },
  {
   "cell_type": "code",
   "execution_count": 58,
   "metadata": {},
   "outputs": [
    {
     "data": {
      "text/html": [
       "<div>\n",
       "<style scoped>\n",
       "    .dataframe tbody tr th:only-of-type {\n",
       "        vertical-align: middle;\n",
       "    }\n",
       "\n",
       "    .dataframe tbody tr th {\n",
       "        vertical-align: top;\n",
       "    }\n",
       "\n",
       "    .dataframe thead th {\n",
       "        text-align: right;\n",
       "    }\n",
       "</style>\n",
       "<table border=\"1\" class=\"dataframe\">\n",
       "  <thead>\n",
       "    <tr style=\"text-align: right;\">\n",
       "      <th></th>\n",
       "      <th>geo_id</th>\n",
       "      <th>region_code</th>\n",
       "      <th>division_code</th>\n",
       "      <th>state_fips_code</th>\n",
       "      <th>state_gnis_code</th>\n",
       "      <th>state</th>\n",
       "      <th>state_name</th>\n",
       "      <th>lsad_code</th>\n",
       "      <th>mtfcc_feature_class_code</th>\n",
       "      <th>functional_status</th>\n",
       "      <th>area_land_meters</th>\n",
       "      <th>area_water_meters</th>\n",
       "      <th>int_point_lat</th>\n",
       "      <th>int_point_lon</th>\n",
       "      <th>int_point_geom</th>\n",
       "      <th>state_geom</th>\n",
       "    </tr>\n",
       "  </thead>\n",
       "  <tbody>\n",
       "    <tr>\n",
       "      <th>0</th>\n",
       "      <td>8</td>\n",
       "      <td>4</td>\n",
       "      <td>8</td>\n",
       "      <td>8</td>\n",
       "      <td>1779779</td>\n",
       "      <td>CO</td>\n",
       "      <td>Colorado</td>\n",
       "      <td>0</td>\n",
       "      <td>G4000</td>\n",
       "      <td>A</td>\n",
       "      <td>268419875371</td>\n",
       "      <td>1184637800</td>\n",
       "      <td>38.993848</td>\n",
       "      <td>-105.508317</td>\n",
       "      <td>POINT(-105.5083165 38.9938482)</td>\n",
       "      <td>POLYGON((-109.050949 40.222647, -109.050952 40...</td>\n",
       "    </tr>\n",
       "  </tbody>\n",
       "</table>\n",
       "</div>"
      ],
      "text/plain": [
       "   geo_id  region_code  division_code  state_fips_code  state_gnis_code state  \\\n",
       "0       8            4              8                8          1779779    CO   \n",
       "\n",
       "  state_name  lsad_code mtfcc_feature_class_code functional_status  \\\n",
       "0   Colorado          0                    G4000                 A   \n",
       "\n",
       "   area_land_meters  area_water_meters  int_point_lat  int_point_lon  \\\n",
       "0      268419875371         1184637800      38.993848    -105.508317   \n",
       "\n",
       "                   int_point_geom  \\\n",
       "0  POINT(-105.5083165 38.9938482)   \n",
       "\n",
       "                                          state_geom  \n",
       "0  POLYGON((-109.050949 40.222647, -109.050952 40...  "
      ]
     },
     "execution_count": 58,
     "metadata": {},
     "output_type": "execute_result"
    }
   ],
   "source": [
    "#Problem 1\n",
    "import pandas as pd\n",
    "import numpy as np\n",
    "#Problem 2\n",
    "import re\n",
    "from scipy import integrate \n",
    "from scipy.integrate import trapz\n",
    "data=pd.read_csv('h8dsft_P0LC2_adnan_rio.csv')\n",
    "data"
   ]
  },
  {
   "cell_type": "markdown",
   "metadata": {},
   "source": [
    "4. Data Loading"
   ]
  },
  {
   "cell_type": "code",
   "execution_count": 49,
   "metadata": {},
   "outputs": [
    {
     "name": "stdout",
     "output_type": "stream",
     "text": [
      "[2 0 1 1 0 2 1 1]\n",
      "[2 1 1 0 1 1 1 1]\n"
     ]
    }
   ],
   "source": [
    "# Problem 1\n",
    "# Membuat vektor kalimat 1 dan kalimat 2\n",
    "k_1=np.array([2, 0, 1, 1, 0, 2, 1, 1])\n",
    "k_2=np.array([2, 1, 1, 0, 1, 1, 1, 1])\n",
    "print(k_1)\n",
    "print(k_2)"
   ]
  },
  {
   "cell_type": "code",
   "execution_count": 47,
   "metadata": {},
   "outputs": [],
   "source": [
    "# Problem 2\n",
    "# query GCP\n",
    "## SELECT *\n",
    "## ROM `bigquery-public-data.geo_us_boundaries.states` AS stat\n",
    "## WHERE stat.state_name ='Colorado';\n",
    "\n",
    "def data_preprocess(data):\n",
    "   long = []\n",
    "   lat = []\n",
    "   for row in data['state_geom'][0].split(', '):\n",
    "     row = re.sub('MULTIPOLYGON','',row)\n",
    "     row = re.sub('POLYGON','',row)\n",
    "     row = re.sub(r'\\(','',row)\n",
    "     row = re.sub(r'\\)','',row)\n",
    "     long.append(float(row.split(' ')[0]))\n",
    "     lat.append(float(row.split(' ')[1]))\n",
    "   return pd.DataFrame({'long':long,'lat':lat}).sort_values('long',ascending=True)"
   ]
  },
  {
   "cell_type": "code",
   "execution_count": 51,
   "metadata": {},
   "outputs": [],
   "source": [
    "data_colorado = data_preprocess(data)"
   ]
  },
  {
   "cell_type": "code",
   "execution_count": 57,
   "metadata": {},
   "outputs": [
    {
     "data": {
      "text/html": [
       "<div>\n",
       "<style scoped>\n",
       "    .dataframe tbody tr th:only-of-type {\n",
       "        vertical-align: middle;\n",
       "    }\n",
       "\n",
       "    .dataframe tbody tr th {\n",
       "        vertical-align: top;\n",
       "    }\n",
       "\n",
       "    .dataframe thead th {\n",
       "        text-align: right;\n",
       "    }\n",
       "</style>\n",
       "<table border=\"1\" class=\"dataframe\">\n",
       "  <thead>\n",
       "    <tr style=\"text-align: right;\">\n",
       "      <th></th>\n",
       "      <th>long</th>\n",
       "      <th>lat</th>\n",
       "    </tr>\n",
       "  </thead>\n",
       "  <tbody>\n",
       "    <tr>\n",
       "      <th>759</th>\n",
       "      <td>-109.060204</td>\n",
       "      <td>38.278238</td>\n",
       "    </tr>\n",
       "    <tr>\n",
       "      <th>760</th>\n",
       "      <td>-109.060187</td>\n",
       "      <td>38.275528</td>\n",
       "    </tr>\n",
       "    <tr>\n",
       "      <th>751</th>\n",
       "      <td>-109.060185</td>\n",
       "      <td>38.318670</td>\n",
       "    </tr>\n",
       "    <tr>\n",
       "      <th>743</th>\n",
       "      <td>-109.060180</td>\n",
       "      <td>38.344908</td>\n",
       "    </tr>\n",
       "    <tr>\n",
       "      <th>659</th>\n",
       "      <td>-109.060176</td>\n",
       "      <td>38.462300</td>\n",
       "    </tr>\n",
       "  </tbody>\n",
       "</table>\n",
       "</div>"
      ],
      "text/plain": [
       "           long        lat\n",
       "759 -109.060204  38.278238\n",
       "760 -109.060187  38.275528\n",
       "751 -109.060185  38.318670\n",
       "743 -109.060180  38.344908\n",
       "659 -109.060176  38.462300"
      ]
     },
     "execution_count": 57,
     "metadata": {},
     "output_type": "execute_result"
    }
   ],
   "source": [
    "data_area_sorted = data_for_area.sort_values('long')\n",
    "data_area_sorted.head(5) #Menampilkan 5 baris pertama"
   ]
  },
  {
   "cell_type": "markdown",
   "metadata": {},
   "source": [
    "5.  Mathematical Calculations"
   ]
  },
  {
   "cell_type": "code",
   "execution_count": null,
   "metadata": {},
   "outputs": [],
   "source": [
    "# Problem 1\n",
    "# Menghitung cosine similarity\n",
    "similarity_kon = k_1.dot(k_2)/(np.linalg.norm(k_1) * np.linalg.norm(k_2))\n",
    "print(similarity_kon)"
   ]
  },
  {
   "cell_type": "code",
   "execution_count": 53,
   "metadata": {},
   "outputs": [],
   "source": [
    "# Problem 2\n",
    "max_lat = data_area_sorted['lat'].max() #Menentukan nilai maksimum latitude Colorado\n",
    "min_lat = data_area_sorted['lat'].min() #Menentukan nilai minimum latitude Colorado\n",
    "mid_lat = (max_lat+min_lat)/2 #Menentukan nilai tengah latitude Colorado"
   ]
  },
  {
   "cell_type": "code",
   "execution_count": 55,
   "metadata": {},
   "outputs": [],
   "source": [
    "#Colorado dan Northern Colorado berdasarkan nilai tengah latitudenya\n",
    "northern_area = data_area_sorted[data_area_sorted['lat'] >= mid_lat]\n",
    "southern_area = data_area_sorted[data_area_sorted['lat'] < mid_lat]"
   ]
  },
  {
   "cell_type": "code",
   "execution_count": null,
   "metadata": {},
   "outputs": [],
   "source": [
    "area_N = integrate.trapz(northern_area['lat'],northern_area['long']) #Menghitung area dari latitude y=0 ke latitude pada northern area\n",
    "area_S = integrate.trapz(southern_area['lat'],southern_area['long']) #Menghitung area dari latitude y=0 ke latitude pada southern area\n",
    "total_area = area_N-area_S #total area Colorado\n",
    "print(f'Colorada sebesar {round(total_area)} derajat kuadrat.')"
   ]
  },
  {
   "cell_type": "markdown",
   "metadata": {},
   "source": [
    "6.  Hasil"
   ]
  },
  {
   "cell_type": "markdown",
   "metadata": {},
   "source": [
    "####Problem 1####\n",
    "\n",
    "a. Apakah kedua kalimat memiliki konteks yang serupa? jika iya, mengapa dan jika tidak, mengapa (jawab berdasarkan hasil perhitungan cosine similaritynya)==\n",
    "   iya , karena kedua kalimat memiliki cosine similaritynya 0.8215838362577491 yang mendekati 1\n",
    "\n",
    "b. Jika meninjau dua buah vektor dan dihitung cosine similaritynya (cos theta), jelaskan secara singkat, jelas, padat apa makna cosine similarity yang      bernilai 0 dan 1 (tinjau dari posisi dua vektor di koordinat kartesian)==\n",
    "   Jika semakin mendekati 1 berarti dua vektor memiliki orientasi mendekati sama. Nilai yang mendekati 0 menunjukkan bahwa kedua kalimat tersebut memiliki kemiripan yang lebih kecil.\n",
    "\n",
    "c. Apa kekurangan dari perhitungan kemiripan menggunakan cosine similarity==\n",
    "   Besarnya vektor tidak diperhitungkan, hanya arahnya artinya perbedaan nilai tidak sepenuhnya diperhitungkan atau cosine similarity tidak memperhitungkan perbedaan skala penilaian antara pengguna yang berbeda.\n",
    "\n",
    "####Problem 2####\n",
    "\n",
    "a. Integral jenis apa yang diterapkan pada kasus ini? (Tertentu/Tak tentu) dan mengapa demikian? berikan alasan!== tidak tentu karena luas wilayah mempunyai bentuk yang tidak beraturan akan sangat sulit untuk menentukan luasnya dikarenakan tidak ada rumus baku untuk menentukan luasnya\n",
    "\n",
    "b. Untuk kasus ini, metode apa yang kamu pakai dalam perhitungan integral? secara simbolik atau numerik, dan mengapa? == numeric karena hanya memerlukan titik – titik koordinat , di mana menyatakan panjang dan lebar dari sebuah segiempat dengan menyatakan jumlahnya ke empat pinggiran yang berbentuk segiempat\n",
    "\n",
    "\n",
    "c. Library Scipy menyediakan banyak function/modul untuk menghitung integral. Function apa yang kamu gunakan dan berikan alasan yang logis!\n",
    "   Function trapz karena mencari total luas dari tiap sepanjang sumbu yang diberikan menggunakan aturan trapesium komposit.\n"
   ]
  }
 ],
 "metadata": {
  "kernelspec": {
   "display_name": "Python 3.9.12 ('base')",
   "language": "python",
   "name": "python3"
  },
  "language_info": {
   "codemirror_mode": {
    "name": "ipython",
    "version": 3
   },
   "file_extension": ".py",
   "mimetype": "text/x-python",
   "name": "python",
   "nbconvert_exporter": "python",
   "pygments_lexer": "ipython3",
   "version": "3.9.12"
  },
  "orig_nbformat": 4,
  "vscode": {
   "interpreter": {
    "hash": "f4cbc2fb82ae63074d8ddbad6dfccddac99fbfb746d69302fc9985b976028d0b"
   }
  }
 },
 "nbformat": 4,
 "nbformat_minor": 2
}
