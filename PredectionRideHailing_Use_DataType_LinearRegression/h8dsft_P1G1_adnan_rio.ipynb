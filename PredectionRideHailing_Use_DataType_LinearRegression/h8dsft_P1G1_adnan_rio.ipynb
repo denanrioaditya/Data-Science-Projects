{
  "cells": [
    {
      "cell_type": "markdown",
      "metadata": {
        "id": "eJmhTvjTLOKL"
      },
      "source": [
        "# 1 - Perkenalan"
      ]
    },
    {
      "cell_type": "markdown",
      "metadata": {
        "id": "2_PhN11sLP6I"
      },
      "source": [
        "> Bab pengenalan harus diisi dengan identitas, gambaran besar dataset yang digunakan, dan objective yang ingin dicapai."
      ]
    },
    {
      "cell_type": "markdown",
      "metadata": {},
      "source": [
        "## Problems\n",
        "\n",
        "Buatlah model Regression menggunakan Linear Regression untuk memprediksi harga perjalanan platform ride-hailing dengan dataset yang disediakan."
      ]
    },
    {
      "cell_type": "markdown",
      "metadata": {
        "id": "WiD5g5ONLUUI"
      },
      "source": [
        "Nama. : Adnan Rio\n",
        "\n",
        "Batch : FTDS-014\n",
        "\n",
        "Dataset : Transportasi Uber dan Lyft di Boston,MT "
      ]
    },
    {
      "cell_type": "markdown",
      "metadata": {},
      "source": [
        "## Objective : \n",
        "\n",
        "- Mampu memahami konsep regression dengan Linear Regression.\n",
        "- Mampu mempersiapkan data untuk digunakan dalam model Linear Regression.\n",
        "- Mampu mengimplementasikan Linear Regression untuk membuat prediksi."
      ]
    },
    {
      "cell_type": "markdown",
      "metadata": {
        "id": "km727JdcLh0z"
      },
      "source": [
        "# 2 - Import Libraries"
      ]
    },
    {
      "cell_type": "markdown",
      "metadata": {
        "id": "ravK69wPLlcE"
      },
      "source": [
        "> Cell pertama pada notebook harus berisi dan hanya berisi semua library yang digunakan dalam project."
      ]
    },
    {
      "cell_type": "code",
      "execution_count": 1,
      "metadata": {
        "id": "GMpBWMAADj5y"
      },
      "outputs": [],
      "source": [
        "# Import Libraries\n",
        "\n",
        "import pandas as pd\n",
        "import numpy as np\n",
        "import seaborn as sns\n",
        "import matplotlib.pyplot as plt\n",
        "from sklearn.linear_model import LinearRegression \n",
        "from sklearn.model_selection import train_test_split\n",
        "from sklearn.preprocessing import OrdinalEncoder\n",
        "from sklearn.preprocessing import MinMaxScaler\n",
        "from sklearn.metrics import mean_absolute_error, mean_squared_error, r2_score"
      ]
    },
    {
      "cell_type": "markdown",
      "metadata": {
        "id": "pi8FD5OCMRiT"
      },
      "source": [
        "# 3 - Data Loading"
      ]
    },
    {
      "cell_type": "markdown",
      "metadata": {
        "id": "o9whQcgWMWrI"
      },
      "source": [
        "> Bagian ini berisi proses penyiapan data sebelum dilakukan eksplorasi data lebih lanjut. Proses Data Loading dapat berupa memberi nama baru untuk setiap kolom, mengecek ukuran dataset, dll."
      ]
    },
    {
      "cell_type": "code",
      "execution_count": 2,
      "metadata": {
        "colab": {
          "base_uri": "https://localhost:8080/",
          "height": 540
        },
        "id": "wmjnoakcMWTq",
        "outputId": "c93b2487-2221-44ee-b221-77fae62fe1ab"
      },
      "outputs": [
        {
          "data": {
            "text/html": [
              "<div>\n",
              "<style scoped>\n",
              "    .dataframe tbody tr th:only-of-type {\n",
              "        vertical-align: middle;\n",
              "    }\n",
              "\n",
              "    .dataframe tbody tr th {\n",
              "        vertical-align: top;\n",
              "    }\n",
              "\n",
              "    .dataframe thead th {\n",
              "        text-align: right;\n",
              "    }\n",
              "</style>\n",
              "<table border=\"1\" class=\"dataframe\">\n",
              "  <thead>\n",
              "    <tr style=\"text-align: right;\">\n",
              "      <th></th>\n",
              "      <th>id</th>\n",
              "      <th>timestamp</th>\n",
              "      <th>hour</th>\n",
              "      <th>day</th>\n",
              "      <th>month</th>\n",
              "      <th>datetime</th>\n",
              "      <th>timezone</th>\n",
              "      <th>source</th>\n",
              "      <th>destination</th>\n",
              "      <th>cab_type</th>\n",
              "      <th>...</th>\n",
              "      <th>precipIntensityMax</th>\n",
              "      <th>uvIndexTime</th>\n",
              "      <th>temperatureMin</th>\n",
              "      <th>temperatureMinTime</th>\n",
              "      <th>temperatureMax</th>\n",
              "      <th>temperatureMaxTime</th>\n",
              "      <th>apparentTemperatureMin</th>\n",
              "      <th>apparentTemperatureMinTime</th>\n",
              "      <th>apparentTemperatureMax</th>\n",
              "      <th>apparentTemperatureMaxTime</th>\n",
              "    </tr>\n",
              "  </thead>\n",
              "  <tbody>\n",
              "    <tr>\n",
              "      <th>0</th>\n",
              "      <td>424553bb-7174-41ea-aeb4-fe06d4f4b9d7</td>\n",
              "      <td>1.544953e+09</td>\n",
              "      <td>9</td>\n",
              "      <td>16</td>\n",
              "      <td>12</td>\n",
              "      <td>2018-12-16 09:30:07</td>\n",
              "      <td>America/New_York</td>\n",
              "      <td>Haymarket Square</td>\n",
              "      <td>North Station</td>\n",
              "      <td>Lyft</td>\n",
              "      <td>...</td>\n",
              "      <td>0.1276</td>\n",
              "      <td>1544979600</td>\n",
              "      <td>39.89</td>\n",
              "      <td>1545012000</td>\n",
              "      <td>43.68</td>\n",
              "      <td>1544968800</td>\n",
              "      <td>33.73</td>\n",
              "      <td>1545012000</td>\n",
              "      <td>38.07</td>\n",
              "      <td>1544958000</td>\n",
              "    </tr>\n",
              "    <tr>\n",
              "      <th>1</th>\n",
              "      <td>4bd23055-6827-41c6-b23b-3c491f24e74d</td>\n",
              "      <td>1.543284e+09</td>\n",
              "      <td>2</td>\n",
              "      <td>27</td>\n",
              "      <td>11</td>\n",
              "      <td>2018-11-27 02:00:23</td>\n",
              "      <td>America/New_York</td>\n",
              "      <td>Haymarket Square</td>\n",
              "      <td>North Station</td>\n",
              "      <td>Lyft</td>\n",
              "      <td>...</td>\n",
              "      <td>0.1300</td>\n",
              "      <td>1543251600</td>\n",
              "      <td>40.49</td>\n",
              "      <td>1543233600</td>\n",
              "      <td>47.30</td>\n",
              "      <td>1543251600</td>\n",
              "      <td>36.20</td>\n",
              "      <td>1543291200</td>\n",
              "      <td>43.92</td>\n",
              "      <td>1543251600</td>\n",
              "    </tr>\n",
              "    <tr>\n",
              "      <th>2</th>\n",
              "      <td>981a3613-77af-4620-a42a-0c0866077d1e</td>\n",
              "      <td>1.543367e+09</td>\n",
              "      <td>1</td>\n",
              "      <td>28</td>\n",
              "      <td>11</td>\n",
              "      <td>2018-11-28 01:00:22</td>\n",
              "      <td>America/New_York</td>\n",
              "      <td>Haymarket Square</td>\n",
              "      <td>North Station</td>\n",
              "      <td>Lyft</td>\n",
              "      <td>...</td>\n",
              "      <td>0.1064</td>\n",
              "      <td>1543338000</td>\n",
              "      <td>35.36</td>\n",
              "      <td>1543377600</td>\n",
              "      <td>47.55</td>\n",
              "      <td>1543320000</td>\n",
              "      <td>31.04</td>\n",
              "      <td>1543377600</td>\n",
              "      <td>44.12</td>\n",
              "      <td>1543320000</td>\n",
              "    </tr>\n",
              "    <tr>\n",
              "      <th>3</th>\n",
              "      <td>c2d88af2-d278-4bfd-a8d0-29ca77cc5512</td>\n",
              "      <td>1.543554e+09</td>\n",
              "      <td>4</td>\n",
              "      <td>30</td>\n",
              "      <td>11</td>\n",
              "      <td>2018-11-30 04:53:02</td>\n",
              "      <td>America/New_York</td>\n",
              "      <td>Haymarket Square</td>\n",
              "      <td>North Station</td>\n",
              "      <td>Lyft</td>\n",
              "      <td>...</td>\n",
              "      <td>0.0000</td>\n",
              "      <td>1543507200</td>\n",
              "      <td>34.67</td>\n",
              "      <td>1543550400</td>\n",
              "      <td>45.03</td>\n",
              "      <td>1543510800</td>\n",
              "      <td>30.30</td>\n",
              "      <td>1543550400</td>\n",
              "      <td>38.53</td>\n",
              "      <td>1543510800</td>\n",
              "    </tr>\n",
              "    <tr>\n",
              "      <th>4</th>\n",
              "      <td>e0126e1f-8ca9-4f2e-82b3-50505a09db9a</td>\n",
              "      <td>1.543463e+09</td>\n",
              "      <td>3</td>\n",
              "      <td>29</td>\n",
              "      <td>11</td>\n",
              "      <td>2018-11-29 03:49:20</td>\n",
              "      <td>America/New_York</td>\n",
              "      <td>Haymarket Square</td>\n",
              "      <td>North Station</td>\n",
              "      <td>Lyft</td>\n",
              "      <td>...</td>\n",
              "      <td>0.0001</td>\n",
              "      <td>1543420800</td>\n",
              "      <td>33.10</td>\n",
              "      <td>1543402800</td>\n",
              "      <td>42.18</td>\n",
              "      <td>1543420800</td>\n",
              "      <td>29.11</td>\n",
              "      <td>1543392000</td>\n",
              "      <td>35.75</td>\n",
              "      <td>1543420800</td>\n",
              "    </tr>\n",
              "    <tr>\n",
              "      <th>...</th>\n",
              "      <td>...</td>\n",
              "      <td>...</td>\n",
              "      <td>...</td>\n",
              "      <td>...</td>\n",
              "      <td>...</td>\n",
              "      <td>...</td>\n",
              "      <td>...</td>\n",
              "      <td>...</td>\n",
              "      <td>...</td>\n",
              "      <td>...</td>\n",
              "      <td>...</td>\n",
              "      <td>...</td>\n",
              "      <td>...</td>\n",
              "      <td>...</td>\n",
              "      <td>...</td>\n",
              "      <td>...</td>\n",
              "      <td>...</td>\n",
              "      <td>...</td>\n",
              "      <td>...</td>\n",
              "      <td>...</td>\n",
              "      <td>...</td>\n",
              "    </tr>\n",
              "    <tr>\n",
              "      <th>693066</th>\n",
              "      <td>616d3611-1820-450a-9845-a9ff304a4842</td>\n",
              "      <td>1.543708e+09</td>\n",
              "      <td>23</td>\n",
              "      <td>1</td>\n",
              "      <td>12</td>\n",
              "      <td>2018-12-01 23:53:05</td>\n",
              "      <td>America/New_York</td>\n",
              "      <td>West End</td>\n",
              "      <td>North End</td>\n",
              "      <td>Uber</td>\n",
              "      <td>...</td>\n",
              "      <td>0.0000</td>\n",
              "      <td>1543683600</td>\n",
              "      <td>31.42</td>\n",
              "      <td>1543658400</td>\n",
              "      <td>44.76</td>\n",
              "      <td>1543690800</td>\n",
              "      <td>27.77</td>\n",
              "      <td>1543658400</td>\n",
              "      <td>44.09</td>\n",
              "      <td>1543690800</td>\n",
              "    </tr>\n",
              "    <tr>\n",
              "      <th>693067</th>\n",
              "      <td>633a3fc3-1f86-4b9e-9d48-2b7132112341</td>\n",
              "      <td>1.543708e+09</td>\n",
              "      <td>23</td>\n",
              "      <td>1</td>\n",
              "      <td>12</td>\n",
              "      <td>2018-12-01 23:53:05</td>\n",
              "      <td>America/New_York</td>\n",
              "      <td>West End</td>\n",
              "      <td>North End</td>\n",
              "      <td>Uber</td>\n",
              "      <td>...</td>\n",
              "      <td>0.0000</td>\n",
              "      <td>1543683600</td>\n",
              "      <td>31.42</td>\n",
              "      <td>1543658400</td>\n",
              "      <td>44.76</td>\n",
              "      <td>1543690800</td>\n",
              "      <td>27.77</td>\n",
              "      <td>1543658400</td>\n",
              "      <td>44.09</td>\n",
              "      <td>1543690800</td>\n",
              "    </tr>\n",
              "    <tr>\n",
              "      <th>693068</th>\n",
              "      <td>64d451d0-639f-47a4-9b7c-6fd92fbd264f</td>\n",
              "      <td>1.543708e+09</td>\n",
              "      <td>23</td>\n",
              "      <td>1</td>\n",
              "      <td>12</td>\n",
              "      <td>2018-12-01 23:53:05</td>\n",
              "      <td>America/New_York</td>\n",
              "      <td>West End</td>\n",
              "      <td>North End</td>\n",
              "      <td>Uber</td>\n",
              "      <td>...</td>\n",
              "      <td>0.0000</td>\n",
              "      <td>1543683600</td>\n",
              "      <td>31.42</td>\n",
              "      <td>1543658400</td>\n",
              "      <td>44.76</td>\n",
              "      <td>1543690800</td>\n",
              "      <td>27.77</td>\n",
              "      <td>1543658400</td>\n",
              "      <td>44.09</td>\n",
              "      <td>1543690800</td>\n",
              "    </tr>\n",
              "    <tr>\n",
              "      <th>693069</th>\n",
              "      <td>727e5f07-a96b-4ad1-a2c7-9abc3ad55b4e</td>\n",
              "      <td>1.543708e+09</td>\n",
              "      <td>23</td>\n",
              "      <td>1</td>\n",
              "      <td>12</td>\n",
              "      <td>2018-12-01 23:53:05</td>\n",
              "      <td>America/New_York</td>\n",
              "      <td>West End</td>\n",
              "      <td>North End</td>\n",
              "      <td>Uber</td>\n",
              "      <td>...</td>\n",
              "      <td>0.0000</td>\n",
              "      <td>1543683600</td>\n",
              "      <td>31.42</td>\n",
              "      <td>1543658400</td>\n",
              "      <td>44.76</td>\n",
              "      <td>1543690800</td>\n",
              "      <td>27.77</td>\n",
              "      <td>1543658400</td>\n",
              "      <td>44.09</td>\n",
              "      <td>1543690800</td>\n",
              "    </tr>\n",
              "    <tr>\n",
              "      <th>693070</th>\n",
              "      <td>e7fdc087-fe86-40a5-a3c3-3b2a8badcbda</td>\n",
              "      <td>1.543708e+09</td>\n",
              "      <td>23</td>\n",
              "      <td>1</td>\n",
              "      <td>12</td>\n",
              "      <td>2018-12-01 23:53:05</td>\n",
              "      <td>America/New_York</td>\n",
              "      <td>West End</td>\n",
              "      <td>North End</td>\n",
              "      <td>Uber</td>\n",
              "      <td>...</td>\n",
              "      <td>0.0000</td>\n",
              "      <td>1543683600</td>\n",
              "      <td>31.42</td>\n",
              "      <td>1543658400</td>\n",
              "      <td>44.76</td>\n",
              "      <td>1543690800</td>\n",
              "      <td>27.77</td>\n",
              "      <td>1543658400</td>\n",
              "      <td>44.09</td>\n",
              "      <td>1543690800</td>\n",
              "    </tr>\n",
              "  </tbody>\n",
              "</table>\n",
              "<p>693071 rows × 57 columns</p>\n",
              "</div>"
            ],
            "text/plain": [
              "                                          id     timestamp  hour  day  month  \\\n",
              "0       424553bb-7174-41ea-aeb4-fe06d4f4b9d7  1.544953e+09     9   16     12   \n",
              "1       4bd23055-6827-41c6-b23b-3c491f24e74d  1.543284e+09     2   27     11   \n",
              "2       981a3613-77af-4620-a42a-0c0866077d1e  1.543367e+09     1   28     11   \n",
              "3       c2d88af2-d278-4bfd-a8d0-29ca77cc5512  1.543554e+09     4   30     11   \n",
              "4       e0126e1f-8ca9-4f2e-82b3-50505a09db9a  1.543463e+09     3   29     11   \n",
              "...                                      ...           ...   ...  ...    ...   \n",
              "693066  616d3611-1820-450a-9845-a9ff304a4842  1.543708e+09    23    1     12   \n",
              "693067  633a3fc3-1f86-4b9e-9d48-2b7132112341  1.543708e+09    23    1     12   \n",
              "693068  64d451d0-639f-47a4-9b7c-6fd92fbd264f  1.543708e+09    23    1     12   \n",
              "693069  727e5f07-a96b-4ad1-a2c7-9abc3ad55b4e  1.543708e+09    23    1     12   \n",
              "693070  e7fdc087-fe86-40a5-a3c3-3b2a8badcbda  1.543708e+09    23    1     12   \n",
              "\n",
              "                   datetime          timezone            source  \\\n",
              "0       2018-12-16 09:30:07  America/New_York  Haymarket Square   \n",
              "1       2018-11-27 02:00:23  America/New_York  Haymarket Square   \n",
              "2       2018-11-28 01:00:22  America/New_York  Haymarket Square   \n",
              "3       2018-11-30 04:53:02  America/New_York  Haymarket Square   \n",
              "4       2018-11-29 03:49:20  America/New_York  Haymarket Square   \n",
              "...                     ...               ...               ...   \n",
              "693066  2018-12-01 23:53:05  America/New_York          West End   \n",
              "693067  2018-12-01 23:53:05  America/New_York          West End   \n",
              "693068  2018-12-01 23:53:05  America/New_York          West End   \n",
              "693069  2018-12-01 23:53:05  America/New_York          West End   \n",
              "693070  2018-12-01 23:53:05  America/New_York          West End   \n",
              "\n",
              "          destination cab_type  ... precipIntensityMax uvIndexTime  \\\n",
              "0       North Station     Lyft  ...             0.1276  1544979600   \n",
              "1       North Station     Lyft  ...             0.1300  1543251600   \n",
              "2       North Station     Lyft  ...             0.1064  1543338000   \n",
              "3       North Station     Lyft  ...             0.0000  1543507200   \n",
              "4       North Station     Lyft  ...             0.0001  1543420800   \n",
              "...               ...      ...  ...                ...         ...   \n",
              "693066      North End     Uber  ...             0.0000  1543683600   \n",
              "693067      North End     Uber  ...             0.0000  1543683600   \n",
              "693068      North End     Uber  ...             0.0000  1543683600   \n",
              "693069      North End     Uber  ...             0.0000  1543683600   \n",
              "693070      North End     Uber  ...             0.0000  1543683600   \n",
              "\n",
              "        temperatureMin  temperatureMinTime  temperatureMax  \\\n",
              "0                39.89          1545012000           43.68   \n",
              "1                40.49          1543233600           47.30   \n",
              "2                35.36          1543377600           47.55   \n",
              "3                34.67          1543550400           45.03   \n",
              "4                33.10          1543402800           42.18   \n",
              "...                ...                 ...             ...   \n",
              "693066           31.42          1543658400           44.76   \n",
              "693067           31.42          1543658400           44.76   \n",
              "693068           31.42          1543658400           44.76   \n",
              "693069           31.42          1543658400           44.76   \n",
              "693070           31.42          1543658400           44.76   \n",
              "\n",
              "        temperatureMaxTime  apparentTemperatureMin  \\\n",
              "0               1544968800                   33.73   \n",
              "1               1543251600                   36.20   \n",
              "2               1543320000                   31.04   \n",
              "3               1543510800                   30.30   \n",
              "4               1543420800                   29.11   \n",
              "...                    ...                     ...   \n",
              "693066          1543690800                   27.77   \n",
              "693067          1543690800                   27.77   \n",
              "693068          1543690800                   27.77   \n",
              "693069          1543690800                   27.77   \n",
              "693070          1543690800                   27.77   \n",
              "\n",
              "        apparentTemperatureMinTime  apparentTemperatureMax  \\\n",
              "0                       1545012000                   38.07   \n",
              "1                       1543291200                   43.92   \n",
              "2                       1543377600                   44.12   \n",
              "3                       1543550400                   38.53   \n",
              "4                       1543392000                   35.75   \n",
              "...                            ...                     ...   \n",
              "693066                  1543658400                   44.09   \n",
              "693067                  1543658400                   44.09   \n",
              "693068                  1543658400                   44.09   \n",
              "693069                  1543658400                   44.09   \n",
              "693070                  1543658400                   44.09   \n",
              "\n",
              "       apparentTemperatureMaxTime  \n",
              "0                      1544958000  \n",
              "1                      1543251600  \n",
              "2                      1543320000  \n",
              "3                      1543510800  \n",
              "4                      1543420800  \n",
              "...                           ...  \n",
              "693066                 1543690800  \n",
              "693067                 1543690800  \n",
              "693068                 1543690800  \n",
              "693069                 1543690800  \n",
              "693070                 1543690800  \n",
              "\n",
              "[693071 rows x 57 columns]"
            ]
          },
          "execution_count": 2,
          "metadata": {},
          "output_type": "execute_result"
        }
      ],
      "source": [
        "# Load Dataset \n",
        "\n",
        "data = pd.read_csv('h8dsft_P1GC1_Set_1_adnan_rio.csv')\n",
        "data"
      ]
    },
    {
      "cell_type": "code",
      "execution_count": 3,
      "metadata": {
        "id": "k4EGb-pmMX9O"
      },
      "outputs": [],
      "source": [
        "# Duplicate Dataset\n",
        "\n",
        "data_copy = data.copy()"
      ]
    },
    {
      "cell_type": "code",
      "execution_count": 4,
      "metadata": {
        "colab": {
          "base_uri": "https://localhost:8080/"
        },
        "id": "yS7nUBNhNZDT",
        "outputId": "1499be28-4ded-41bd-b611-67381752c015"
      },
      "outputs": [
        {
          "name": "stdout",
          "output_type": "stream",
          "text": [
            "<class 'pandas.core.frame.DataFrame'>\n",
            "RangeIndex: 693071 entries, 0 to 693070\n",
            "Data columns (total 57 columns):\n",
            " #   Column                       Non-Null Count   Dtype  \n",
            "---  ------                       --------------   -----  \n",
            " 0   id                           693071 non-null  object \n",
            " 1   timestamp                    693071 non-null  float64\n",
            " 2   hour                         693071 non-null  int64  \n",
            " 3   day                          693071 non-null  int64  \n",
            " 4   month                        693071 non-null  int64  \n",
            " 5   datetime                     693071 non-null  object \n",
            " 6   timezone                     693071 non-null  object \n",
            " 7   source                       693071 non-null  object \n",
            " 8   destination                  693071 non-null  object \n",
            " 9   cab_type                     693071 non-null  object \n",
            " 10  product_id                   693071 non-null  object \n",
            " 11  name                         693071 non-null  object \n",
            " 12  price                        637976 non-null  float64\n",
            " 13  distance                     693071 non-null  float64\n",
            " 14  surge_multiplier             693071 non-null  float64\n",
            " 15  latitude                     693071 non-null  float64\n",
            " 16  longitude                    693071 non-null  float64\n",
            " 17  temperature                  693071 non-null  float64\n",
            " 18  apparentTemperature          693071 non-null  float64\n",
            " 19  short_summary                693071 non-null  object \n",
            " 20  long_summary                 693071 non-null  object \n",
            " 21  precipIntensity              693071 non-null  float64\n",
            " 22  precipProbability            693071 non-null  float64\n",
            " 23  humidity                     693071 non-null  float64\n",
            " 24  windSpeed                    693071 non-null  float64\n",
            " 25  windGust                     693071 non-null  float64\n",
            " 26  windGustTime                 693071 non-null  int64  \n",
            " 27  visibility                   693071 non-null  float64\n",
            " 28  temperatureHigh              693071 non-null  float64\n",
            " 29  temperatureHighTime          693071 non-null  int64  \n",
            " 30  temperatureLow               693071 non-null  float64\n",
            " 31  temperatureLowTime           693071 non-null  int64  \n",
            " 32  apparentTemperatureHigh      693071 non-null  float64\n",
            " 33  apparentTemperatureHighTime  693071 non-null  int64  \n",
            " 34  apparentTemperatureLow       693071 non-null  float64\n",
            " 35  apparentTemperatureLowTime   693071 non-null  int64  \n",
            " 36  icon                         693071 non-null  object \n",
            " 37  dewPoint                     693071 non-null  float64\n",
            " 38  pressure                     693071 non-null  float64\n",
            " 39  windBearing                  693071 non-null  int64  \n",
            " 40  cloudCover                   693071 non-null  float64\n",
            " 41  uvIndex                      693071 non-null  int64  \n",
            " 42  visibility.1                 693071 non-null  float64\n",
            " 43  ozone                        693071 non-null  float64\n",
            " 44  sunriseTime                  693071 non-null  int64  \n",
            " 45  sunsetTime                   693071 non-null  int64  \n",
            " 46  moonPhase                    693071 non-null  float64\n",
            " 47  precipIntensityMax           693071 non-null  float64\n",
            " 48  uvIndexTime                  693071 non-null  int64  \n",
            " 49  temperatureMin               693071 non-null  float64\n",
            " 50  temperatureMinTime           693071 non-null  int64  \n",
            " 51  temperatureMax               693071 non-null  float64\n",
            " 52  temperatureMaxTime           693071 non-null  int64  \n",
            " 53  apparentTemperatureMin       693071 non-null  float64\n",
            " 54  apparentTemperatureMinTime   693071 non-null  int64  \n",
            " 55  apparentTemperatureMax       693071 non-null  float64\n",
            " 56  apparentTemperatureMaxTime   693071 non-null  int64  \n",
            "dtypes: float64(29), int64(17), object(11)\n",
            "memory usage: 301.4+ MB\n"
          ]
        }
      ],
      "source": [
        "# Check Dataset - 1\n",
        "\n",
        "data.info()"
      ]
    },
    {
      "cell_type": "markdown",
      "metadata": {
        "id": "H8H38sarNg_B"
      },
      "source": [
        "Mengecek tipe data dari setiap kolom yang ada di dataset dan jumlah data non null"
      ]
    },
    {
      "cell_type": "code",
      "execution_count": 5,
      "metadata": {
        "colab": {
          "base_uri": "https://localhost:8080/",
          "height": 364
        },
        "id": "O3F6KEJONpuO",
        "outputId": "1d02e59c-015e-4c8a-9839-1c4920d2b0eb"
      },
      "outputs": [
        {
          "data": {
            "text/html": [
              "<div>\n",
              "<style scoped>\n",
              "    .dataframe tbody tr th:only-of-type {\n",
              "        vertical-align: middle;\n",
              "    }\n",
              "\n",
              "    .dataframe tbody tr th {\n",
              "        vertical-align: top;\n",
              "    }\n",
              "\n",
              "    .dataframe thead th {\n",
              "        text-align: right;\n",
              "    }\n",
              "</style>\n",
              "<table border=\"1\" class=\"dataframe\">\n",
              "  <thead>\n",
              "    <tr style=\"text-align: right;\">\n",
              "      <th></th>\n",
              "      <th>timestamp</th>\n",
              "      <th>hour</th>\n",
              "      <th>day</th>\n",
              "      <th>month</th>\n",
              "      <th>price</th>\n",
              "      <th>distance</th>\n",
              "      <th>surge_multiplier</th>\n",
              "      <th>latitude</th>\n",
              "      <th>longitude</th>\n",
              "      <th>temperature</th>\n",
              "      <th>...</th>\n",
              "      <th>precipIntensityMax</th>\n",
              "      <th>uvIndexTime</th>\n",
              "      <th>temperatureMin</th>\n",
              "      <th>temperatureMinTime</th>\n",
              "      <th>temperatureMax</th>\n",
              "      <th>temperatureMaxTime</th>\n",
              "      <th>apparentTemperatureMin</th>\n",
              "      <th>apparentTemperatureMinTime</th>\n",
              "      <th>apparentTemperatureMax</th>\n",
              "      <th>apparentTemperatureMaxTime</th>\n",
              "    </tr>\n",
              "  </thead>\n",
              "  <tbody>\n",
              "    <tr>\n",
              "      <th>count</th>\n",
              "      <td>6.930710e+05</td>\n",
              "      <td>693071.000000</td>\n",
              "      <td>693071.000000</td>\n",
              "      <td>693071.000000</td>\n",
              "      <td>637976.000000</td>\n",
              "      <td>693071.000000</td>\n",
              "      <td>693071.000000</td>\n",
              "      <td>693071.000000</td>\n",
              "      <td>693071.000000</td>\n",
              "      <td>693071.000000</td>\n",
              "      <td>...</td>\n",
              "      <td>693071.000000</td>\n",
              "      <td>6.930710e+05</td>\n",
              "      <td>693071.000000</td>\n",
              "      <td>6.930710e+05</td>\n",
              "      <td>693071.000000</td>\n",
              "      <td>6.930710e+05</td>\n",
              "      <td>693071.000000</td>\n",
              "      <td>6.930710e+05</td>\n",
              "      <td>693071.000000</td>\n",
              "      <td>6.930710e+05</td>\n",
              "    </tr>\n",
              "    <tr>\n",
              "      <th>mean</th>\n",
              "      <td>1.544046e+09</td>\n",
              "      <td>11.619137</td>\n",
              "      <td>17.794365</td>\n",
              "      <td>11.586684</td>\n",
              "      <td>16.545125</td>\n",
              "      <td>2.189430</td>\n",
              "      <td>1.013870</td>\n",
              "      <td>42.338172</td>\n",
              "      <td>-71.066151</td>\n",
              "      <td>39.584388</td>\n",
              "      <td>...</td>\n",
              "      <td>0.037374</td>\n",
              "      <td>1.544044e+09</td>\n",
              "      <td>33.457774</td>\n",
              "      <td>1.544042e+09</td>\n",
              "      <td>45.261313</td>\n",
              "      <td>1.544047e+09</td>\n",
              "      <td>29.731002</td>\n",
              "      <td>1.544048e+09</td>\n",
              "      <td>41.997343</td>\n",
              "      <td>1.544048e+09</td>\n",
              "    </tr>\n",
              "    <tr>\n",
              "      <th>std</th>\n",
              "      <td>6.891925e+05</td>\n",
              "      <td>6.948114</td>\n",
              "      <td>9.982286</td>\n",
              "      <td>0.492429</td>\n",
              "      <td>9.324359</td>\n",
              "      <td>1.138937</td>\n",
              "      <td>0.091641</td>\n",
              "      <td>0.047840</td>\n",
              "      <td>0.020302</td>\n",
              "      <td>6.726084</td>\n",
              "      <td>...</td>\n",
              "      <td>0.055214</td>\n",
              "      <td>6.912028e+05</td>\n",
              "      <td>6.467224</td>\n",
              "      <td>6.901954e+05</td>\n",
              "      <td>5.645046</td>\n",
              "      <td>6.901353e+05</td>\n",
              "      <td>7.110494</td>\n",
              "      <td>6.871862e+05</td>\n",
              "      <td>6.936841</td>\n",
              "      <td>6.910777e+05</td>\n",
              "    </tr>\n",
              "    <tr>\n",
              "      <th>min</th>\n",
              "      <td>1.543204e+09</td>\n",
              "      <td>0.000000</td>\n",
              "      <td>1.000000</td>\n",
              "      <td>11.000000</td>\n",
              "      <td>2.500000</td>\n",
              "      <td>0.020000</td>\n",
              "      <td>1.000000</td>\n",
              "      <td>42.214800</td>\n",
              "      <td>-71.105400</td>\n",
              "      <td>18.910000</td>\n",
              "      <td>...</td>\n",
              "      <td>0.000000</td>\n",
              "      <td>1.543162e+09</td>\n",
              "      <td>15.630000</td>\n",
              "      <td>1.543122e+09</td>\n",
              "      <td>33.510000</td>\n",
              "      <td>1.543154e+09</td>\n",
              "      <td>11.810000</td>\n",
              "      <td>1.543136e+09</td>\n",
              "      <td>28.950000</td>\n",
              "      <td>1.543187e+09</td>\n",
              "    </tr>\n",
              "    <tr>\n",
              "      <th>25%</th>\n",
              "      <td>1.543444e+09</td>\n",
              "      <td>6.000000</td>\n",
              "      <td>13.000000</td>\n",
              "      <td>11.000000</td>\n",
              "      <td>9.000000</td>\n",
              "      <td>1.280000</td>\n",
              "      <td>1.000000</td>\n",
              "      <td>42.350300</td>\n",
              "      <td>-71.081000</td>\n",
              "      <td>36.450000</td>\n",
              "      <td>...</td>\n",
              "      <td>0.000000</td>\n",
              "      <td>1.543421e+09</td>\n",
              "      <td>30.170000</td>\n",
              "      <td>1.543399e+09</td>\n",
              "      <td>42.570000</td>\n",
              "      <td>1.543439e+09</td>\n",
              "      <td>27.760000</td>\n",
              "      <td>1.543399e+09</td>\n",
              "      <td>36.570000</td>\n",
              "      <td>1.543439e+09</td>\n",
              "    </tr>\n",
              "    <tr>\n",
              "      <th>50%</th>\n",
              "      <td>1.543737e+09</td>\n",
              "      <td>12.000000</td>\n",
              "      <td>17.000000</td>\n",
              "      <td>12.000000</td>\n",
              "      <td>13.500000</td>\n",
              "      <td>2.160000</td>\n",
              "      <td>1.000000</td>\n",
              "      <td>42.351900</td>\n",
              "      <td>-71.063100</td>\n",
              "      <td>40.490000</td>\n",
              "      <td>...</td>\n",
              "      <td>0.000400</td>\n",
              "      <td>1.543770e+09</td>\n",
              "      <td>34.240000</td>\n",
              "      <td>1.543727e+09</td>\n",
              "      <td>44.680000</td>\n",
              "      <td>1.543788e+09</td>\n",
              "      <td>30.130000</td>\n",
              "      <td>1.543745e+09</td>\n",
              "      <td>40.950000</td>\n",
              "      <td>1.543788e+09</td>\n",
              "    </tr>\n",
              "    <tr>\n",
              "      <th>75%</th>\n",
              "      <td>1.544828e+09</td>\n",
              "      <td>18.000000</td>\n",
              "      <td>28.000000</td>\n",
              "      <td>12.000000</td>\n",
              "      <td>22.500000</td>\n",
              "      <td>2.920000</td>\n",
              "      <td>1.000000</td>\n",
              "      <td>42.364700</td>\n",
              "      <td>-71.054200</td>\n",
              "      <td>43.580000</td>\n",
              "      <td>...</td>\n",
              "      <td>0.091600</td>\n",
              "      <td>1.544807e+09</td>\n",
              "      <td>38.880000</td>\n",
              "      <td>1.544789e+09</td>\n",
              "      <td>46.910000</td>\n",
              "      <td>1.544814e+09</td>\n",
              "      <td>35.710000</td>\n",
              "      <td>1.544789e+09</td>\n",
              "      <td>44.120000</td>\n",
              "      <td>1.544818e+09</td>\n",
              "    </tr>\n",
              "    <tr>\n",
              "      <th>max</th>\n",
              "      <td>1.545161e+09</td>\n",
              "      <td>23.000000</td>\n",
              "      <td>30.000000</td>\n",
              "      <td>12.000000</td>\n",
              "      <td>97.500000</td>\n",
              "      <td>7.860000</td>\n",
              "      <td>3.000000</td>\n",
              "      <td>42.366100</td>\n",
              "      <td>-71.033000</td>\n",
              "      <td>57.220000</td>\n",
              "      <td>...</td>\n",
              "      <td>0.145900</td>\n",
              "      <td>1.545152e+09</td>\n",
              "      <td>43.100000</td>\n",
              "      <td>1.545192e+09</td>\n",
              "      <td>57.870000</td>\n",
              "      <td>1.545109e+09</td>\n",
              "      <td>40.050000</td>\n",
              "      <td>1.545134e+09</td>\n",
              "      <td>57.200000</td>\n",
              "      <td>1.545109e+09</td>\n",
              "    </tr>\n",
              "  </tbody>\n",
              "</table>\n",
              "<p>8 rows × 46 columns</p>\n",
              "</div>"
            ],
            "text/plain": [
              "          timestamp           hour            day          month  \\\n",
              "count  6.930710e+05  693071.000000  693071.000000  693071.000000   \n",
              "mean   1.544046e+09      11.619137      17.794365      11.586684   \n",
              "std    6.891925e+05       6.948114       9.982286       0.492429   \n",
              "min    1.543204e+09       0.000000       1.000000      11.000000   \n",
              "25%    1.543444e+09       6.000000      13.000000      11.000000   \n",
              "50%    1.543737e+09      12.000000      17.000000      12.000000   \n",
              "75%    1.544828e+09      18.000000      28.000000      12.000000   \n",
              "max    1.545161e+09      23.000000      30.000000      12.000000   \n",
              "\n",
              "               price       distance  surge_multiplier       latitude  \\\n",
              "count  637976.000000  693071.000000     693071.000000  693071.000000   \n",
              "mean       16.545125       2.189430          1.013870      42.338172   \n",
              "std         9.324359       1.138937          0.091641       0.047840   \n",
              "min         2.500000       0.020000          1.000000      42.214800   \n",
              "25%         9.000000       1.280000          1.000000      42.350300   \n",
              "50%        13.500000       2.160000          1.000000      42.351900   \n",
              "75%        22.500000       2.920000          1.000000      42.364700   \n",
              "max        97.500000       7.860000          3.000000      42.366100   \n",
              "\n",
              "           longitude    temperature  ...  precipIntensityMax   uvIndexTime  \\\n",
              "count  693071.000000  693071.000000  ...       693071.000000  6.930710e+05   \n",
              "mean      -71.066151      39.584388  ...            0.037374  1.544044e+09   \n",
              "std         0.020302       6.726084  ...            0.055214  6.912028e+05   \n",
              "min       -71.105400      18.910000  ...            0.000000  1.543162e+09   \n",
              "25%       -71.081000      36.450000  ...            0.000000  1.543421e+09   \n",
              "50%       -71.063100      40.490000  ...            0.000400  1.543770e+09   \n",
              "75%       -71.054200      43.580000  ...            0.091600  1.544807e+09   \n",
              "max       -71.033000      57.220000  ...            0.145900  1.545152e+09   \n",
              "\n",
              "       temperatureMin  temperatureMinTime  temperatureMax  temperatureMaxTime  \\\n",
              "count   693071.000000        6.930710e+05   693071.000000        6.930710e+05   \n",
              "mean        33.457774        1.544042e+09       45.261313        1.544047e+09   \n",
              "std          6.467224        6.901954e+05        5.645046        6.901353e+05   \n",
              "min         15.630000        1.543122e+09       33.510000        1.543154e+09   \n",
              "25%         30.170000        1.543399e+09       42.570000        1.543439e+09   \n",
              "50%         34.240000        1.543727e+09       44.680000        1.543788e+09   \n",
              "75%         38.880000        1.544789e+09       46.910000        1.544814e+09   \n",
              "max         43.100000        1.545192e+09       57.870000        1.545109e+09   \n",
              "\n",
              "       apparentTemperatureMin  apparentTemperatureMinTime  \\\n",
              "count           693071.000000                6.930710e+05   \n",
              "mean                29.731002                1.544048e+09   \n",
              "std                  7.110494                6.871862e+05   \n",
              "min                 11.810000                1.543136e+09   \n",
              "25%                 27.760000                1.543399e+09   \n",
              "50%                 30.130000                1.543745e+09   \n",
              "75%                 35.710000                1.544789e+09   \n",
              "max                 40.050000                1.545134e+09   \n",
              "\n",
              "       apparentTemperatureMax  apparentTemperatureMaxTime  \n",
              "count           693071.000000                6.930710e+05  \n",
              "mean                41.997343                1.544048e+09  \n",
              "std                  6.936841                6.910777e+05  \n",
              "min                 28.950000                1.543187e+09  \n",
              "25%                 36.570000                1.543439e+09  \n",
              "50%                 40.950000                1.543788e+09  \n",
              "75%                 44.120000                1.544818e+09  \n",
              "max                 57.200000                1.545109e+09  \n",
              "\n",
              "[8 rows x 46 columns]"
            ]
          },
          "execution_count": 5,
          "metadata": {},
          "output_type": "execute_result"
        }
      ],
      "source": [
        "# Check Dataset - 2\n",
        "\n",
        "data.describe()"
      ]
    },
    {
      "cell_type": "markdown",
      "metadata": {
        "id": "4gJkybE_ORr8"
      },
      "source": [
        "# 4 - Exploratory Data Analysis (EDA)"
      ]
    },
    {
      "cell_type": "markdown",
      "metadata": {
        "id": "5TE-5NsVOUnT"
      },
      "source": [
        "> Bagian ini berisi eksplorasi data pada dataset diatas dengan menggunakan query, grouping, visualisasi sederhana, dan lain sebagainya."
      ]
    },
    {
      "cell_type": "code",
      "execution_count": 6,
      "metadata": {
        "colab": {
          "base_uri": "https://localhost:8080/",
          "height": 350
        },
        "id": "02KhUJsTOVZO",
        "outputId": "b1b14b9a-bcf5-4c76-e8b8-cb8d1e859752"
      },
      "outputs": [
        {
          "data": {
            "text/plain": [
              "Text(0.5, 1.0, 'surge_multiplier vs price')"
            ]
          },
          "execution_count": 6,
          "metadata": {},
          "output_type": "execute_result"
        },
        {
          "data": {
            "image/png": "[encoded data removed]",
            "text/plain": [
              "<Figure size 1080x360 with 1 Axes>"
            ]
          },
          "metadata": {
            "needs_background": "light"
          },
          "output_type": "display_data"
        },
        {
          "data": {
            "image/png": "[encoded data removed]",
            "text/plain": [
              "<Figure size 1080x360 with 2 Axes>"
            ]
          },
          "metadata": {
            "needs_background": "light"
          },
          "output_type": "display_data"
        }
      ],
      "source": [
        "# Create Histogram and Scatter Plot \n",
        "\n",
        "plt.figure(figsize=(15, 5))\n",
        "plt.subplot(1, 2, 1)\n",
        "sns.histplot(data['price'], bins=30, kde=True)\n",
        "plt.title('Histogram of Price')\n",
        "\n",
        "plt.figure(figsize=(15, 5))\n",
        "plt.subplot(1, 2, 1)\n",
        "sns.histplot(data['distance'], bins=30, kde=True)\n",
        "plt.title('Histogram of Distance')\n",
        "\n",
        "plt.subplot(1, 2, 2)\n",
        "sns.scatterplot(x='surge_multiplier', y='price', data=data_copy)\n",
        "plt.title('surge_multiplier vs price')"
      ]
    },
    {
      "cell_type": "markdown",
      "metadata": {
        "id": "qOLEPu5jPYof"
      },
      "source": [
        "Untuk melihat persebaran data pada kolom price, distance serta peresbaran surge_muliplier"
      ]
    },
    {
      "cell_type": "code",
      "execution_count": 7,
      "metadata": {},
      "outputs": [
        {
          "data": {
            "text/plain": [
              "cab_type\n",
              "Lyft    17.351396\n",
              "Uber    15.795343\n",
              "Name: price, dtype: float64"
            ]
          },
          "execution_count": 7,
          "metadata": {},
          "output_type": "execute_result"
        }
      ],
      "source": [
        "data.groupby('cab_type').mean()['price'].sort_values(ascending=False)"
      ]
    },
    {
      "cell_type": "markdown",
      "metadata": {},
      "source": [
        "Mean untuk price setiap cab_type yang ada di boston"
      ]
    },
    {
      "cell_type": "code",
      "execution_count": 8,
      "metadata": {},
      "outputs": [
        {
          "data": {
            "text/plain": [
              "Index(['price', 'distance', 'surge_multiplier', 'latitude', 'moonPhase',\n",
              "       'visibility.1', 'visibility', 'longitude', 'windBearing', 'humidity',\n",
              "       'windGust', 'precipIntensityMax', 'windSpeed', 'month', 'cloudCover',\n",
              "       'pressure', 'windGustTime', 'apparentTemperatureLow',\n",
              "       'apparentTemperatureMinTime', 'timestamp', 'temperatureMinTime',\n",
              "       'temperatureMaxTime', 'uvIndexTime', 'apparentTemperatureLowTime',\n",
              "       'sunsetTime', 'sunriseTime', 'temperatureHighTime',\n",
              "       'temperatureLowTime', 'apparentTemperatureMaxTime',\n",
              "       'apparentTemperatureHighTime', 'day', 'dewPoint',\n",
              "       'apparentTemperatureMin', 'hour', 'temperatureMax', 'temperatureHigh',\n",
              "       'ozone', 'temperatureMin', 'uvIndex', 'apparentTemperatureMax',\n",
              "       'apparentTemperatureHigh', 'precipProbability', 'apparentTemperature',\n",
              "       'temperatureLow', 'precipIntensity', 'temperature'],\n",
              "      dtype='object')"
            ]
          },
          "execution_count": 8,
          "metadata": {},
          "output_type": "execute_result"
        }
      ],
      "source": [
        "data.corr().sort_values('price',ascending=False, key=abs).index"
      ]
    },
    {
      "cell_type": "markdown",
      "metadata": {},
      "source": [
        "Melihat kolom mana saja yang berkorlasi dengan kolom price dengan urutan price, distance, surge_multuplier, latitude, moonPhase dan seterusnya. Untuk korelasi antar kolom kita tidak mengunakan subplot heatmap karena campuran Numeric dan Category. Sehingga tidak menvisualisai secara tepat korelasi antar kolom yang dimana plot heatmap lebih tepat untuk visualisasi data numeric"
      ]
    },
    {
      "cell_type": "markdown",
      "metadata": {
        "id": "ajPywLqjPzAM"
      },
      "source": [
        "# 5 - Data Preprocessing"
      ]
    },
    {
      "cell_type": "markdown",
      "metadata": {
        "id": "djzHlimyP1pq"
      },
      "source": [
        "> Bagian ini berisi proses penyiapan data untuk proses pelatihan model, seperti pembagian data menjadi train-dev-test, transformasi data (normalisasi, encoding, dll.), dan proses-proses lain yang dibutuhkan."
      ]
    },
    {
      "cell_type": "markdown",
      "metadata": {},
      "source": [
        "#### Cek kolom yang sangat terkorelasi\n",
        "\n",
        "Sort ini digunakan karena teralu banyak kolom, setelah di cek melalui data.corr() dan plot heatmap diketahui kolom dibawah ini yang sangat terkorelasi dengan kolom price agar optimal dan efisiensi proses dalam problem yang ingin kita solve"
      ]
    },
    {
      "cell_type": "code",
      "execution_count": 9,
      "metadata": {},
      "outputs": [
        {
          "data": {
            "text/html": [
              "<div>\n",
              "<style scoped>\n",
              "    .dataframe tbody tr th:only-of-type {\n",
              "        vertical-align: middle;\n",
              "    }\n",
              "\n",
              "    .dataframe tbody tr th {\n",
              "        vertical-align: top;\n",
              "    }\n",
              "\n",
              "    .dataframe thead th {\n",
              "        text-align: right;\n",
              "    }\n",
              "</style>\n",
              "<table border=\"1\" class=\"dataframe\">\n",
              "  <thead>\n",
              "    <tr style=\"text-align: right;\">\n",
              "      <th></th>\n",
              "      <th>price</th>\n",
              "      <th>distance</th>\n",
              "      <th>surge_multiplier</th>\n",
              "      <th>moonPhase</th>\n",
              "      <th>visibility</th>\n",
              "      <th>name</th>\n",
              "      <th>cab_type</th>\n",
              "    </tr>\n",
              "  </thead>\n",
              "  <tbody>\n",
              "    <tr>\n",
              "      <th>0</th>\n",
              "      <td>5.0</td>\n",
              "      <td>0.44</td>\n",
              "      <td>1.0</td>\n",
              "      <td>0.30</td>\n",
              "      <td>10.000</td>\n",
              "      <td>Shared</td>\n",
              "      <td>Lyft</td>\n",
              "    </tr>\n",
              "    <tr>\n",
              "      <th>1</th>\n",
              "      <td>11.0</td>\n",
              "      <td>0.44</td>\n",
              "      <td>1.0</td>\n",
              "      <td>0.64</td>\n",
              "      <td>4.786</td>\n",
              "      <td>Lux</td>\n",
              "      <td>Lyft</td>\n",
              "    </tr>\n",
              "    <tr>\n",
              "      <th>2</th>\n",
              "      <td>7.0</td>\n",
              "      <td>0.44</td>\n",
              "      <td>1.0</td>\n",
              "      <td>0.68</td>\n",
              "      <td>10.000</td>\n",
              "      <td>Lyft</td>\n",
              "      <td>Lyft</td>\n",
              "    </tr>\n",
              "    <tr>\n",
              "      <th>3</th>\n",
              "      <td>26.0</td>\n",
              "      <td>0.44</td>\n",
              "      <td>1.0</td>\n",
              "      <td>0.75</td>\n",
              "      <td>10.000</td>\n",
              "      <td>Lux Black XL</td>\n",
              "      <td>Lyft</td>\n",
              "    </tr>\n",
              "    <tr>\n",
              "      <th>4</th>\n",
              "      <td>9.0</td>\n",
              "      <td>0.44</td>\n",
              "      <td>1.0</td>\n",
              "      <td>0.72</td>\n",
              "      <td>10.000</td>\n",
              "      <td>Lyft XL</td>\n",
              "      <td>Lyft</td>\n",
              "    </tr>\n",
              "  </tbody>\n",
              "</table>\n",
              "</div>"
            ],
            "text/plain": [
              "   price  distance  surge_multiplier  moonPhase  visibility          name  \\\n",
              "0    5.0      0.44               1.0       0.30      10.000        Shared   \n",
              "1   11.0      0.44               1.0       0.64       4.786           Lux   \n",
              "2    7.0      0.44               1.0       0.68      10.000          Lyft   \n",
              "3   26.0      0.44               1.0       0.75      10.000  Lux Black XL   \n",
              "4    9.0      0.44               1.0       0.72      10.000       Lyft XL   \n",
              "\n",
              "  cab_type  \n",
              "0     Lyft  \n",
              "1     Lyft  \n",
              "2     Lyft  \n",
              "3     Lyft  \n",
              "4     Lyft  "
            ]
          },
          "execution_count": 9,
          "metadata": {},
          "output_type": "execute_result"
        }
      ],
      "source": [
        "kolrel= ['price', 'distance', 'surge_multiplier', 'moonPhase', 'visibility', 'name', 'cab_type']\n",
        "data_rel = data[kolrel]\n",
        "data_rel.head()"
      ]
    },
    {
      "cell_type": "markdown",
      "metadata": {},
      "source": [
        "#### Cek missing value kolom yang sangat terkorelasi\n",
        "\n",
        "Sort ini digunakan karena teralu banyak kolom, setelah di cek melalui data.corr() dan plot heatmap diketahui kolom dibawah ini yang sangat terkorelasi dengan kolom price agar optimal dan efisiensi proses dalam problem yang ingin kita solve"
      ]
    },
    {
      "cell_type": "code",
      "execution_count": 10,
      "metadata": {},
      "outputs": [
        {
          "data": {
            "text/plain": [
              "price               55095\n",
              "distance                0\n",
              "surge_multiplier        0\n",
              "moonPhase               0\n",
              "visibility              0\n",
              "name                    0\n",
              "cab_type                0\n",
              "dtype: int64"
            ]
          },
          "execution_count": 10,
          "metadata": {},
          "output_type": "execute_result"
        }
      ],
      "source": [
        "data_rel.isnull().sum() # Cek ada nilai null atau tidak pada sort kolom "
      ]
    },
    {
      "cell_type": "markdown",
      "metadata": {},
      "source": [
        "#### Cek tipe data pada setiap kolom yang sangat terkorelasi\n",
        "\n",
        "Sort ini digunakan karena teralu banyak kolom, setelah di cek melalui data.corr() dan plot heatmap diketahui kolom dibawah ini yang sangat terkorelasi dengan kolom price agar optimal dan efisiensi proses dalam problem yang ingin kita solve"
      ]
    },
    {
      "cell_type": "code",
      "execution_count": 11,
      "metadata": {},
      "outputs": [
        {
          "name": "stdout",
          "output_type": "stream",
          "text": [
            "<class 'pandas.core.frame.DataFrame'>\n",
            "RangeIndex: 693071 entries, 0 to 693070\n",
            "Data columns (total 7 columns):\n",
            " #   Column            Non-Null Count   Dtype  \n",
            "---  ------            --------------   -----  \n",
            " 0   price             637976 non-null  float64\n",
            " 1   distance          693071 non-null  float64\n",
            " 2   surge_multiplier  693071 non-null  float64\n",
            " 3   moonPhase         693071 non-null  float64\n",
            " 4   visibility        693071 non-null  float64\n",
            " 5   name              693071 non-null  object \n",
            " 6   cab_type          693071 non-null  object \n",
            "dtypes: float64(5), object(2)\n",
            "memory usage: 37.0+ MB\n"
          ]
        }
      ],
      "source": [
        "data_rel.info() # Cek tipe data pada yang telah saya sort kolom"
      ]
    },
    {
      "cell_type": "markdown",
      "metadata": {
        "id": "xab7EJ37Q7nJ"
      },
      "source": [
        "### Get Data for Model Inference"
      ]
    },
    {
      "cell_type": "code",
      "execution_count": 12,
      "metadata": {
        "colab": {
          "base_uri": "https://localhost:8080/",
          "height": 462
        },
        "id": "abDIFBb4P0_p",
        "outputId": "f968e797-8ced-4b60-bb3c-2b76b5e164fd"
      },
      "outputs": [
        {
          "data": {
            "text/html": [
              "<div>\n",
              "<style scoped>\n",
              "    .dataframe tbody tr th:only-of-type {\n",
              "        vertical-align: middle;\n",
              "    }\n",
              "\n",
              "    .dataframe tbody tr th {\n",
              "        vertical-align: top;\n",
              "    }\n",
              "\n",
              "    .dataframe thead th {\n",
              "        text-align: right;\n",
              "    }\n",
              "</style>\n",
              "<table border=\"1\" class=\"dataframe\">\n",
              "  <thead>\n",
              "    <tr style=\"text-align: right;\">\n",
              "      <th></th>\n",
              "      <th>price</th>\n",
              "      <th>distance</th>\n",
              "      <th>surge_multiplier</th>\n",
              "      <th>moonPhase</th>\n",
              "      <th>visibility</th>\n",
              "      <th>name</th>\n",
              "      <th>cab_type</th>\n",
              "    </tr>\n",
              "  </thead>\n",
              "  <tbody>\n",
              "    <tr>\n",
              "      <th>668305</th>\n",
              "      <td>7.0</td>\n",
              "      <td>3.05</td>\n",
              "      <td>1.00</td>\n",
              "      <td>0.33</td>\n",
              "      <td>3.606</td>\n",
              "      <td>Shared</td>\n",
              "      <td>Lyft</td>\n",
              "    </tr>\n",
              "    <tr>\n",
              "      <th>280573</th>\n",
              "      <td>13.5</td>\n",
              "      <td>4.22</td>\n",
              "      <td>1.00</td>\n",
              "      <td>0.37</td>\n",
              "      <td>10.000</td>\n",
              "      <td>Lyft</td>\n",
              "      <td>Lyft</td>\n",
              "    </tr>\n",
              "    <tr>\n",
              "      <th>539953</th>\n",
              "      <td>7.5</td>\n",
              "      <td>1.57</td>\n",
              "      <td>1.00</td>\n",
              "      <td>0.79</td>\n",
              "      <td>9.920</td>\n",
              "      <td>UberPool</td>\n",
              "      <td>Uber</td>\n",
              "    </tr>\n",
              "    <tr>\n",
              "      <th>332095</th>\n",
              "      <td>13.5</td>\n",
              "      <td>1.04</td>\n",
              "      <td>1.00</td>\n",
              "      <td>0.89</td>\n",
              "      <td>1.413</td>\n",
              "      <td>Lux</td>\n",
              "      <td>Lyft</td>\n",
              "    </tr>\n",
              "    <tr>\n",
              "      <th>167331</th>\n",
              "      <td>26.0</td>\n",
              "      <td>0.61</td>\n",
              "      <td>1.00</td>\n",
              "      <td>0.79</td>\n",
              "      <td>9.928</td>\n",
              "      <td>Lux Black XL</td>\n",
              "      <td>Lyft</td>\n",
              "    </tr>\n",
              "    <tr>\n",
              "      <th>321397</th>\n",
              "      <td>26.0</td>\n",
              "      <td>0.72</td>\n",
              "      <td>1.00</td>\n",
              "      <td>0.72</td>\n",
              "      <td>10.000</td>\n",
              "      <td>Black SUV</td>\n",
              "      <td>Uber</td>\n",
              "    </tr>\n",
              "    <tr>\n",
              "      <th>646337</th>\n",
              "      <td>7.0</td>\n",
              "      <td>1.56</td>\n",
              "      <td>1.00</td>\n",
              "      <td>0.64</td>\n",
              "      <td>4.273</td>\n",
              "      <td>Lyft</td>\n",
              "      <td>Lyft</td>\n",
              "    </tr>\n",
              "    <tr>\n",
              "      <th>245379</th>\n",
              "      <td>13.5</td>\n",
              "      <td>1.12</td>\n",
              "      <td>1.25</td>\n",
              "      <td>0.86</td>\n",
              "      <td>1.348</td>\n",
              "      <td>Lyft XL</td>\n",
              "      <td>Lyft</td>\n",
              "    </tr>\n",
              "    <tr>\n",
              "      <th>89662</th>\n",
              "      <td>7.0</td>\n",
              "      <td>2.46</td>\n",
              "      <td>1.00</td>\n",
              "      <td>0.72</td>\n",
              "      <td>9.996</td>\n",
              "      <td>Shared</td>\n",
              "      <td>Lyft</td>\n",
              "    </tr>\n",
              "    <tr>\n",
              "      <th>231176</th>\n",
              "      <td>9.5</td>\n",
              "      <td>1.34</td>\n",
              "      <td>1.00</td>\n",
              "      <td>0.30</td>\n",
              "      <td>2.994</td>\n",
              "      <td>UberX</td>\n",
              "      <td>Uber</td>\n",
              "    </tr>\n",
              "  </tbody>\n",
              "</table>\n",
              "</div>"
            ],
            "text/plain": [
              "        price  distance  surge_multiplier  moonPhase  visibility  \\\n",
              "668305    7.0      3.05              1.00       0.33       3.606   \n",
              "280573   13.5      4.22              1.00       0.37      10.000   \n",
              "539953    7.5      1.57              1.00       0.79       9.920   \n",
              "332095   13.5      1.04              1.00       0.89       1.413   \n",
              "167331   26.0      0.61              1.00       0.79       9.928   \n",
              "321397   26.0      0.72              1.00       0.72      10.000   \n",
              "646337    7.0      1.56              1.00       0.64       4.273   \n",
              "245379   13.5      1.12              1.25       0.86       1.348   \n",
              "89662     7.0      2.46              1.00       0.72       9.996   \n",
              "231176    9.5      1.34              1.00       0.30       2.994   \n",
              "\n",
              "                name cab_type  \n",
              "668305        Shared     Lyft  \n",
              "280573          Lyft     Lyft  \n",
              "539953      UberPool     Uber  \n",
              "332095           Lux     Lyft  \n",
              "167331  Lux Black XL     Lyft  \n",
              "321397     Black SUV     Uber  \n",
              "646337          Lyft     Lyft  \n",
              "245379       Lyft XL     Lyft  \n",
              "89662         Shared     Lyft  \n",
              "231176         UberX     Uber  "
            ]
          },
          "execution_count": 12,
          "metadata": {},
          "output_type": "execute_result"
        }
      ],
      "source": [
        "# Get Data for Model Inference\n",
        "## Mengambil data sejumlah 10 secara random \n",
        "\n",
        "data_inf = data_rel.sample(10, random_state=20)\n",
        "data_inf"
      ]
    },
    {
      "cell_type": "code",
      "execution_count": 13,
      "metadata": {
        "colab": {
          "base_uri": "https://localhost:8080/",
          "height": 540
        },
        "id": "dJE7LqGuSGaA",
        "outputId": "a3a78304-3333-4bf7-aff7-f17c8398d8dc"
      },
      "outputs": [
        {
          "data": {
            "text/html": [
              "<div>\n",
              "<style scoped>\n",
              "    .dataframe tbody tr th:only-of-type {\n",
              "        vertical-align: middle;\n",
              "    }\n",
              "\n",
              "    .dataframe tbody tr th {\n",
              "        vertical-align: top;\n",
              "    }\n",
              "\n",
              "    .dataframe thead th {\n",
              "        text-align: right;\n",
              "    }\n",
              "</style>\n",
              "<table border=\"1\" class=\"dataframe\">\n",
              "  <thead>\n",
              "    <tr style=\"text-align: right;\">\n",
              "      <th></th>\n",
              "      <th>price</th>\n",
              "      <th>distance</th>\n",
              "      <th>surge_multiplier</th>\n",
              "      <th>moonPhase</th>\n",
              "      <th>visibility</th>\n",
              "      <th>name</th>\n",
              "      <th>cab_type</th>\n",
              "    </tr>\n",
              "  </thead>\n",
              "  <tbody>\n",
              "    <tr>\n",
              "      <th>0</th>\n",
              "      <td>5.0</td>\n",
              "      <td>0.44</td>\n",
              "      <td>1.0</td>\n",
              "      <td>0.30</td>\n",
              "      <td>10.000</td>\n",
              "      <td>Shared</td>\n",
              "      <td>Lyft</td>\n",
              "    </tr>\n",
              "    <tr>\n",
              "      <th>1</th>\n",
              "      <td>11.0</td>\n",
              "      <td>0.44</td>\n",
              "      <td>1.0</td>\n",
              "      <td>0.64</td>\n",
              "      <td>4.786</td>\n",
              "      <td>Lux</td>\n",
              "      <td>Lyft</td>\n",
              "    </tr>\n",
              "    <tr>\n",
              "      <th>2</th>\n",
              "      <td>7.0</td>\n",
              "      <td>0.44</td>\n",
              "      <td>1.0</td>\n",
              "      <td>0.68</td>\n",
              "      <td>10.000</td>\n",
              "      <td>Lyft</td>\n",
              "      <td>Lyft</td>\n",
              "    </tr>\n",
              "    <tr>\n",
              "      <th>3</th>\n",
              "      <td>26.0</td>\n",
              "      <td>0.44</td>\n",
              "      <td>1.0</td>\n",
              "      <td>0.75</td>\n",
              "      <td>10.000</td>\n",
              "      <td>Lux Black XL</td>\n",
              "      <td>Lyft</td>\n",
              "    </tr>\n",
              "    <tr>\n",
              "      <th>4</th>\n",
              "      <td>9.0</td>\n",
              "      <td>0.44</td>\n",
              "      <td>1.0</td>\n",
              "      <td>0.72</td>\n",
              "      <td>10.000</td>\n",
              "      <td>Lyft XL</td>\n",
              "      <td>Lyft</td>\n",
              "    </tr>\n",
              "    <tr>\n",
              "      <th>...</th>\n",
              "      <td>...</td>\n",
              "      <td>...</td>\n",
              "      <td>...</td>\n",
              "      <td>...</td>\n",
              "      <td>...</td>\n",
              "      <td>...</td>\n",
              "      <td>...</td>\n",
              "    </tr>\n",
              "    <tr>\n",
              "      <th>693066</th>\n",
              "      <td>13.0</td>\n",
              "      <td>1.00</td>\n",
              "      <td>1.0</td>\n",
              "      <td>0.82</td>\n",
              "      <td>9.785</td>\n",
              "      <td>UberXL</td>\n",
              "      <td>Uber</td>\n",
              "    </tr>\n",
              "    <tr>\n",
              "      <th>693067</th>\n",
              "      <td>9.5</td>\n",
              "      <td>1.00</td>\n",
              "      <td>1.0</td>\n",
              "      <td>0.82</td>\n",
              "      <td>9.785</td>\n",
              "      <td>UberX</td>\n",
              "      <td>Uber</td>\n",
              "    </tr>\n",
              "    <tr>\n",
              "      <th>693068</th>\n",
              "      <td>NaN</td>\n",
              "      <td>1.00</td>\n",
              "      <td>1.0</td>\n",
              "      <td>0.82</td>\n",
              "      <td>9.785</td>\n",
              "      <td>Taxi</td>\n",
              "      <td>Uber</td>\n",
              "    </tr>\n",
              "    <tr>\n",
              "      <th>693069</th>\n",
              "      <td>27.0</td>\n",
              "      <td>1.00</td>\n",
              "      <td>1.0</td>\n",
              "      <td>0.82</td>\n",
              "      <td>9.785</td>\n",
              "      <td>Black SUV</td>\n",
              "      <td>Uber</td>\n",
              "    </tr>\n",
              "    <tr>\n",
              "      <th>693070</th>\n",
              "      <td>10.0</td>\n",
              "      <td>1.00</td>\n",
              "      <td>1.0</td>\n",
              "      <td>0.82</td>\n",
              "      <td>9.785</td>\n",
              "      <td>UberPool</td>\n",
              "      <td>Uber</td>\n",
              "    </tr>\n",
              "  </tbody>\n",
              "</table>\n",
              "<p>693061 rows × 7 columns</p>\n",
              "</div>"
            ],
            "text/plain": [
              "        price  distance  surge_multiplier  moonPhase  visibility  \\\n",
              "0         5.0      0.44               1.0       0.30      10.000   \n",
              "1        11.0      0.44               1.0       0.64       4.786   \n",
              "2         7.0      0.44               1.0       0.68      10.000   \n",
              "3        26.0      0.44               1.0       0.75      10.000   \n",
              "4         9.0      0.44               1.0       0.72      10.000   \n",
              "...       ...       ...               ...        ...         ...   \n",
              "693066   13.0      1.00               1.0       0.82       9.785   \n",
              "693067    9.5      1.00               1.0       0.82       9.785   \n",
              "693068    NaN      1.00               1.0       0.82       9.785   \n",
              "693069   27.0      1.00               1.0       0.82       9.785   \n",
              "693070   10.0      1.00               1.0       0.82       9.785   \n",
              "\n",
              "                name cab_type  \n",
              "0             Shared     Lyft  \n",
              "1                Lux     Lyft  \n",
              "2               Lyft     Lyft  \n",
              "3       Lux Black XL     Lyft  \n",
              "4            Lyft XL     Lyft  \n",
              "...              ...      ...  \n",
              "693066        UberXL     Uber  \n",
              "693067         UberX     Uber  \n",
              "693068          Taxi     Uber  \n",
              "693069     Black SUV     Uber  \n",
              "693070      UberPool     Uber  \n",
              "\n",
              "[693061 rows x 7 columns]"
            ]
          },
          "execution_count": 13,
          "metadata": {},
          "output_type": "execute_result"
        }
      ],
      "source": [
        "# Remove Inference-Set from Dataset\n",
        "## Memasukan 10 data sebelumnya ke dalam variable data_train_test\n",
        "\n",
        "data_train_test = data_rel.drop(data_inf.index)\n",
        "data_train_test"
      ]
    },
    {
      "cell_type": "code",
      "execution_count": 14,
      "metadata": {
        "colab": {
          "base_uri": "https://localhost:8080/",
          "height": 462
        },
        "id": "sdZZfHQESaz1",
        "outputId": "de087900-e08a-456d-de84-99de89854471"
      },
      "outputs": [
        {
          "data": {
            "text/html": [
              "<div>\n",
              "<style scoped>\n",
              "    .dataframe tbody tr th:only-of-type {\n",
              "        vertical-align: middle;\n",
              "    }\n",
              "\n",
              "    .dataframe tbody tr th {\n",
              "        vertical-align: top;\n",
              "    }\n",
              "\n",
              "    .dataframe thead th {\n",
              "        text-align: right;\n",
              "    }\n",
              "</style>\n",
              "<table border=\"1\" class=\"dataframe\">\n",
              "  <thead>\n",
              "    <tr style=\"text-align: right;\">\n",
              "      <th></th>\n",
              "      <th>price</th>\n",
              "      <th>distance</th>\n",
              "      <th>surge_multiplier</th>\n",
              "      <th>moonPhase</th>\n",
              "      <th>visibility</th>\n",
              "      <th>name</th>\n",
              "      <th>cab_type</th>\n",
              "    </tr>\n",
              "  </thead>\n",
              "  <tbody>\n",
              "    <tr>\n",
              "      <th>0</th>\n",
              "      <td>7.0</td>\n",
              "      <td>3.05</td>\n",
              "      <td>1.00</td>\n",
              "      <td>0.33</td>\n",
              "      <td>3.606</td>\n",
              "      <td>Shared</td>\n",
              "      <td>Lyft</td>\n",
              "    </tr>\n",
              "    <tr>\n",
              "      <th>1</th>\n",
              "      <td>13.5</td>\n",
              "      <td>4.22</td>\n",
              "      <td>1.00</td>\n",
              "      <td>0.37</td>\n",
              "      <td>10.000</td>\n",
              "      <td>Lyft</td>\n",
              "      <td>Lyft</td>\n",
              "    </tr>\n",
              "    <tr>\n",
              "      <th>2</th>\n",
              "      <td>7.5</td>\n",
              "      <td>1.57</td>\n",
              "      <td>1.00</td>\n",
              "      <td>0.79</td>\n",
              "      <td>9.920</td>\n",
              "      <td>UberPool</td>\n",
              "      <td>Uber</td>\n",
              "    </tr>\n",
              "    <tr>\n",
              "      <th>3</th>\n",
              "      <td>13.5</td>\n",
              "      <td>1.04</td>\n",
              "      <td>1.00</td>\n",
              "      <td>0.89</td>\n",
              "      <td>1.413</td>\n",
              "      <td>Lux</td>\n",
              "      <td>Lyft</td>\n",
              "    </tr>\n",
              "    <tr>\n",
              "      <th>4</th>\n",
              "      <td>26.0</td>\n",
              "      <td>0.61</td>\n",
              "      <td>1.00</td>\n",
              "      <td>0.79</td>\n",
              "      <td>9.928</td>\n",
              "      <td>Lux Black XL</td>\n",
              "      <td>Lyft</td>\n",
              "    </tr>\n",
              "    <tr>\n",
              "      <th>5</th>\n",
              "      <td>26.0</td>\n",
              "      <td>0.72</td>\n",
              "      <td>1.00</td>\n",
              "      <td>0.72</td>\n",
              "      <td>10.000</td>\n",
              "      <td>Black SUV</td>\n",
              "      <td>Uber</td>\n",
              "    </tr>\n",
              "    <tr>\n",
              "      <th>6</th>\n",
              "      <td>7.0</td>\n",
              "      <td>1.56</td>\n",
              "      <td>1.00</td>\n",
              "      <td>0.64</td>\n",
              "      <td>4.273</td>\n",
              "      <td>Lyft</td>\n",
              "      <td>Lyft</td>\n",
              "    </tr>\n",
              "    <tr>\n",
              "      <th>7</th>\n",
              "      <td>13.5</td>\n",
              "      <td>1.12</td>\n",
              "      <td>1.25</td>\n",
              "      <td>0.86</td>\n",
              "      <td>1.348</td>\n",
              "      <td>Lyft XL</td>\n",
              "      <td>Lyft</td>\n",
              "    </tr>\n",
              "    <tr>\n",
              "      <th>8</th>\n",
              "      <td>7.0</td>\n",
              "      <td>2.46</td>\n",
              "      <td>1.00</td>\n",
              "      <td>0.72</td>\n",
              "      <td>9.996</td>\n",
              "      <td>Shared</td>\n",
              "      <td>Lyft</td>\n",
              "    </tr>\n",
              "    <tr>\n",
              "      <th>9</th>\n",
              "      <td>9.5</td>\n",
              "      <td>1.34</td>\n",
              "      <td>1.00</td>\n",
              "      <td>0.30</td>\n",
              "      <td>2.994</td>\n",
              "      <td>UberX</td>\n",
              "      <td>Uber</td>\n",
              "    </tr>\n",
              "  </tbody>\n",
              "</table>\n",
              "</div>"
            ],
            "text/plain": [
              "   price  distance  surge_multiplier  moonPhase  visibility          name  \\\n",
              "0    7.0      3.05              1.00       0.33       3.606        Shared   \n",
              "1   13.5      4.22              1.00       0.37      10.000          Lyft   \n",
              "2    7.5      1.57              1.00       0.79       9.920      UberPool   \n",
              "3   13.5      1.04              1.00       0.89       1.413           Lux   \n",
              "4   26.0      0.61              1.00       0.79       9.928  Lux Black XL   \n",
              "5   26.0      0.72              1.00       0.72      10.000     Black SUV   \n",
              "6    7.0      1.56              1.00       0.64       4.273          Lyft   \n",
              "7   13.5      1.12              1.25       0.86       1.348       Lyft XL   \n",
              "8    7.0      2.46              1.00       0.72       9.996        Shared   \n",
              "9    9.5      1.34              1.00       0.30       2.994         UberX   \n",
              "\n",
              "  cab_type  \n",
              "0     Lyft  \n",
              "1     Lyft  \n",
              "2     Uber  \n",
              "3     Lyft  \n",
              "4     Lyft  \n",
              "5     Uber  \n",
              "6     Lyft  \n",
              "7     Lyft  \n",
              "8     Lyft  \n",
              "9     Uber  "
            ]
          },
          "execution_count": 14,
          "metadata": {},
          "output_type": "execute_result"
        }
      ],
      "source": [
        "# Reset Index \n",
        "# Mereset kedua variabel\n",
        "\n",
        "data_train_test.reset_index(drop=True, inplace=True) \n",
        "data_inf.reset_index(drop=True, inplace=True)\n",
        "data_inf"
      ]
    },
    {
      "cell_type": "markdown",
      "metadata": {
        "id": "x68F9jJcSatf"
      },
      "source": [
        "### Splitting between `X` (Features) and `y` (Target)"
      ]
    },
    {
      "cell_type": "code",
      "execution_count": 15,
      "metadata": {
        "colab": {
          "base_uri": "https://localhost:8080/",
          "height": 540
        },
        "id": "AuTxRD6HTFjI",
        "outputId": "79665288-3cf9-41e1-fa40-9b9c4f89dc3d"
      },
      "outputs": [
        {
          "data": {
            "text/html": [
              "<div>\n",
              "<style scoped>\n",
              "    .dataframe tbody tr th:only-of-type {\n",
              "        vertical-align: middle;\n",
              "    }\n",
              "\n",
              "    .dataframe tbody tr th {\n",
              "        vertical-align: top;\n",
              "    }\n",
              "\n",
              "    .dataframe thead th {\n",
              "        text-align: right;\n",
              "    }\n",
              "</style>\n",
              "<table border=\"1\" class=\"dataframe\">\n",
              "  <thead>\n",
              "    <tr style=\"text-align: right;\">\n",
              "      <th></th>\n",
              "      <th>distance</th>\n",
              "      <th>surge_multiplier</th>\n",
              "      <th>moonPhase</th>\n",
              "      <th>visibility</th>\n",
              "      <th>name</th>\n",
              "      <th>cab_type</th>\n",
              "    </tr>\n",
              "  </thead>\n",
              "  <tbody>\n",
              "    <tr>\n",
              "      <th>0</th>\n",
              "      <td>0.44</td>\n",
              "      <td>1.0</td>\n",
              "      <td>0.30</td>\n",
              "      <td>10.000</td>\n",
              "      <td>Shared</td>\n",
              "      <td>Lyft</td>\n",
              "    </tr>\n",
              "    <tr>\n",
              "      <th>1</th>\n",
              "      <td>0.44</td>\n",
              "      <td>1.0</td>\n",
              "      <td>0.64</td>\n",
              "      <td>4.786</td>\n",
              "      <td>Lux</td>\n",
              "      <td>Lyft</td>\n",
              "    </tr>\n",
              "    <tr>\n",
              "      <th>2</th>\n",
              "      <td>0.44</td>\n",
              "      <td>1.0</td>\n",
              "      <td>0.68</td>\n",
              "      <td>10.000</td>\n",
              "      <td>Lyft</td>\n",
              "      <td>Lyft</td>\n",
              "    </tr>\n",
              "    <tr>\n",
              "      <th>3</th>\n",
              "      <td>0.44</td>\n",
              "      <td>1.0</td>\n",
              "      <td>0.75</td>\n",
              "      <td>10.000</td>\n",
              "      <td>Lux Black XL</td>\n",
              "      <td>Lyft</td>\n",
              "    </tr>\n",
              "    <tr>\n",
              "      <th>4</th>\n",
              "      <td>0.44</td>\n",
              "      <td>1.0</td>\n",
              "      <td>0.72</td>\n",
              "      <td>10.000</td>\n",
              "      <td>Lyft XL</td>\n",
              "      <td>Lyft</td>\n",
              "    </tr>\n",
              "    <tr>\n",
              "      <th>...</th>\n",
              "      <td>...</td>\n",
              "      <td>...</td>\n",
              "      <td>...</td>\n",
              "      <td>...</td>\n",
              "      <td>...</td>\n",
              "      <td>...</td>\n",
              "    </tr>\n",
              "    <tr>\n",
              "      <th>693056</th>\n",
              "      <td>1.00</td>\n",
              "      <td>1.0</td>\n",
              "      <td>0.82</td>\n",
              "      <td>9.785</td>\n",
              "      <td>UberXL</td>\n",
              "      <td>Uber</td>\n",
              "    </tr>\n",
              "    <tr>\n",
              "      <th>693057</th>\n",
              "      <td>1.00</td>\n",
              "      <td>1.0</td>\n",
              "      <td>0.82</td>\n",
              "      <td>9.785</td>\n",
              "      <td>UberX</td>\n",
              "      <td>Uber</td>\n",
              "    </tr>\n",
              "    <tr>\n",
              "      <th>693058</th>\n",
              "      <td>1.00</td>\n",
              "      <td>1.0</td>\n",
              "      <td>0.82</td>\n",
              "      <td>9.785</td>\n",
              "      <td>Taxi</td>\n",
              "      <td>Uber</td>\n",
              "    </tr>\n",
              "    <tr>\n",
              "      <th>693059</th>\n",
              "      <td>1.00</td>\n",
              "      <td>1.0</td>\n",
              "      <td>0.82</td>\n",
              "      <td>9.785</td>\n",
              "      <td>Black SUV</td>\n",
              "      <td>Uber</td>\n",
              "    </tr>\n",
              "    <tr>\n",
              "      <th>693060</th>\n",
              "      <td>1.00</td>\n",
              "      <td>1.0</td>\n",
              "      <td>0.82</td>\n",
              "      <td>9.785</td>\n",
              "      <td>UberPool</td>\n",
              "      <td>Uber</td>\n",
              "    </tr>\n",
              "  </tbody>\n",
              "</table>\n",
              "<p>693061 rows × 6 columns</p>\n",
              "</div>"
            ],
            "text/plain": [
              "        distance  surge_multiplier  moonPhase  visibility          name  \\\n",
              "0           0.44               1.0       0.30      10.000        Shared   \n",
              "1           0.44               1.0       0.64       4.786           Lux   \n",
              "2           0.44               1.0       0.68      10.000          Lyft   \n",
              "3           0.44               1.0       0.75      10.000  Lux Black XL   \n",
              "4           0.44               1.0       0.72      10.000       Lyft XL   \n",
              "...          ...               ...        ...         ...           ...   \n",
              "693056      1.00               1.0       0.82       9.785        UberXL   \n",
              "693057      1.00               1.0       0.82       9.785         UberX   \n",
              "693058      1.00               1.0       0.82       9.785          Taxi   \n",
              "693059      1.00               1.0       0.82       9.785     Black SUV   \n",
              "693060      1.00               1.0       0.82       9.785      UberPool   \n",
              "\n",
              "       cab_type  \n",
              "0          Lyft  \n",
              "1          Lyft  \n",
              "2          Lyft  \n",
              "3          Lyft  \n",
              "4          Lyft  \n",
              "...         ...  \n",
              "693056     Uber  \n",
              "693057     Uber  \n",
              "693058     Uber  \n",
              "693059     Uber  \n",
              "693060     Uber  \n",
              "\n",
              "[693061 rows x 6 columns]"
            ]
          },
          "execution_count": 15,
          "metadata": {},
          "output_type": "execute_result"
        }
      ],
      "source": [
        "# Split between `X` (Features) and `y` (Target)\n",
        "# Memisahkan data fitur dan data data target uuntuk permodelan\n",
        "\n",
        "X = data_train_test.drop('price', axis=1) \n",
        "y = data_train_test['price']\n",
        "X"
      ]
    },
    {
      "cell_type": "code",
      "execution_count": 16,
      "metadata": {
        "colab": {
          "base_uri": "https://localhost:8080/"
        },
        "id": "kLUO4IMITcPw",
        "outputId": "4140ada4-92f8-4b77-cbec-6cb2fd2db200"
      },
      "outputs": [
        {
          "name": "stdout",
          "output_type": "stream",
          "text": [
            "X_Train Size :  (554448, 6)\n",
            "X_Test Size  :  (138613, 6)\n",
            "y_train Size = (554448,)\n",
            "y_test Size  = (138613,)\n"
          ]
        }
      ],
      "source": [
        "# Split between Train-Set and Test-Set\n",
        "\n",
        "X_train, X_test, y_train, y_test = train_test_split(X, y, test_size=0.2, random_state=17)\n",
        "\n",
        "print('X_Train Size : ', X_train.shape)\n",
        "print('X_Test Size  : ', X_test.shape)\n",
        "print('y_train Size =', y_train.shape)\n",
        "print('y_test Size  =', y_test.shape)"
      ]
    },
    {
      "cell_type": "code",
      "execution_count": 17,
      "metadata": {},
      "outputs": [
        {
          "data": {
            "text/html": [
              "<div>\n",
              "<style scoped>\n",
              "    .dataframe tbody tr th:only-of-type {\n",
              "        vertical-align: middle;\n",
              "    }\n",
              "\n",
              "    .dataframe tbody tr th {\n",
              "        vertical-align: top;\n",
              "    }\n",
              "\n",
              "    .dataframe thead th {\n",
              "        text-align: right;\n",
              "    }\n",
              "</style>\n",
              "<table border=\"1\" class=\"dataframe\">\n",
              "  <thead>\n",
              "    <tr style=\"text-align: right;\">\n",
              "      <th></th>\n",
              "      <th>distance</th>\n",
              "      <th>surge_multiplier</th>\n",
              "      <th>moonPhase</th>\n",
              "      <th>visibility</th>\n",
              "      <th>name</th>\n",
              "      <th>cab_type</th>\n",
              "    </tr>\n",
              "  </thead>\n",
              "  <tbody>\n",
              "    <tr>\n",
              "      <th>190502</th>\n",
              "      <td>3.01</td>\n",
              "      <td>1.0</td>\n",
              "      <td>0.64</td>\n",
              "      <td>8.677</td>\n",
              "      <td>Lux Black XL</td>\n",
              "      <td>Lyft</td>\n",
              "    </tr>\n",
              "    <tr>\n",
              "      <th>119148</th>\n",
              "      <td>2.65</td>\n",
              "      <td>1.0</td>\n",
              "      <td>0.79</td>\n",
              "      <td>9.966</td>\n",
              "      <td>Lux Black XL</td>\n",
              "      <td>Lyft</td>\n",
              "    </tr>\n",
              "    <tr>\n",
              "      <th>603648</th>\n",
              "      <td>3.20</td>\n",
              "      <td>1.0</td>\n",
              "      <td>0.79</td>\n",
              "      <td>10.000</td>\n",
              "      <td>UberXL</td>\n",
              "      <td>Uber</td>\n",
              "    </tr>\n",
              "    <tr>\n",
              "      <th>269185</th>\n",
              "      <td>2.66</td>\n",
              "      <td>1.0</td>\n",
              "      <td>0.68</td>\n",
              "      <td>9.961</td>\n",
              "      <td>Black SUV</td>\n",
              "      <td>Uber</td>\n",
              "    </tr>\n",
              "    <tr>\n",
              "      <th>632624</th>\n",
              "      <td>2.88</td>\n",
              "      <td>1.0</td>\n",
              "      <td>0.79</td>\n",
              "      <td>9.944</td>\n",
              "      <td>UberXL</td>\n",
              "      <td>Uber</td>\n",
              "    </tr>\n",
              "    <tr>\n",
              "      <th>...</th>\n",
              "      <td>...</td>\n",
              "      <td>...</td>\n",
              "      <td>...</td>\n",
              "      <td>...</td>\n",
              "      <td>...</td>\n",
              "      <td>...</td>\n",
              "    </tr>\n",
              "    <tr>\n",
              "      <th>516374</th>\n",
              "      <td>3.04</td>\n",
              "      <td>1.0</td>\n",
              "      <td>0.09</td>\n",
              "      <td>9.972</td>\n",
              "      <td>UberX</td>\n",
              "      <td>Uber</td>\n",
              "    </tr>\n",
              "    <tr>\n",
              "      <th>125680</th>\n",
              "      <td>7.46</td>\n",
              "      <td>1.0</td>\n",
              "      <td>0.37</td>\n",
              "      <td>10.000</td>\n",
              "      <td>UberXL</td>\n",
              "      <td>Uber</td>\n",
              "    </tr>\n",
              "    <tr>\n",
              "      <th>491926</th>\n",
              "      <td>1.03</td>\n",
              "      <td>1.0</td>\n",
              "      <td>0.68</td>\n",
              "      <td>3.522</td>\n",
              "      <td>Lux</td>\n",
              "      <td>Lyft</td>\n",
              "    </tr>\n",
              "    <tr>\n",
              "      <th>297103</th>\n",
              "      <td>1.69</td>\n",
              "      <td>1.0</td>\n",
              "      <td>0.89</td>\n",
              "      <td>3.729</td>\n",
              "      <td>Lux Black</td>\n",
              "      <td>Lyft</td>\n",
              "    </tr>\n",
              "    <tr>\n",
              "      <th>589041</th>\n",
              "      <td>1.97</td>\n",
              "      <td>1.0</td>\n",
              "      <td>0.72</td>\n",
              "      <td>9.924</td>\n",
              "      <td>UberPool</td>\n",
              "      <td>Uber</td>\n",
              "    </tr>\n",
              "  </tbody>\n",
              "</table>\n",
              "<p>554448 rows × 6 columns</p>\n",
              "</div>"
            ],
            "text/plain": [
              "        distance  surge_multiplier  moonPhase  visibility          name  \\\n",
              "190502      3.01               1.0       0.64       8.677  Lux Black XL   \n",
              "119148      2.65               1.0       0.79       9.966  Lux Black XL   \n",
              "603648      3.20               1.0       0.79      10.000        UberXL   \n",
              "269185      2.66               1.0       0.68       9.961     Black SUV   \n",
              "632624      2.88               1.0       0.79       9.944        UberXL   \n",
              "...          ...               ...        ...         ...           ...   \n",
              "516374      3.04               1.0       0.09       9.972         UberX   \n",
              "125680      7.46               1.0       0.37      10.000        UberXL   \n",
              "491926      1.03               1.0       0.68       3.522           Lux   \n",
              "297103      1.69               1.0       0.89       3.729     Lux Black   \n",
              "589041      1.97               1.0       0.72       9.924      UberPool   \n",
              "\n",
              "       cab_type  \n",
              "190502     Lyft  \n",
              "119148     Lyft  \n",
              "603648     Uber  \n",
              "269185     Uber  \n",
              "632624     Uber  \n",
              "...         ...  \n",
              "516374     Uber  \n",
              "125680     Uber  \n",
              "491926     Lyft  \n",
              "297103     Lyft  \n",
              "589041     Uber  \n",
              "\n",
              "[554448 rows x 6 columns]"
            ]
          },
          "execution_count": 17,
          "metadata": {},
          "output_type": "execute_result"
        }
      ],
      "source": [
        "X_train  # Data train yang akan menjadi model dan data test untuk mengetes model"
      ]
    },
    {
      "cell_type": "code",
      "execution_count": 18,
      "metadata": {},
      "outputs": [
        {
          "data": {
            "text/plain": [
              "190502    38.5\n",
              "119148    34.0\n",
              "603648    25.0\n",
              "269185    28.5\n",
              "632624    16.0\n",
              "          ... \n",
              "516374     9.5\n",
              "125680    28.5\n",
              "491926    10.5\n",
              "297103    22.5\n",
              "589041    10.0\n",
              "Name: price, Length: 554448, dtype: float64"
            ]
          },
          "execution_count": 18,
          "metadata": {},
          "output_type": "execute_result"
        }
      ],
      "source": [
        "y_train # Data train yang akan menjadi model dan data test untuk mengetes model"
      ]
    },
    {
      "cell_type": "markdown",
      "metadata": {},
      "source": [
        "Data X (fitur) dan y (target) akan dipisah menjadi data train untuk menjadi model dan data test untuk mengetest model"
      ]
    },
    {
      "cell_type": "markdown",
      "metadata": {
        "id": "3voLzR2zUhJ-"
      },
      "source": [
        "## Handling Outlier"
      ]
    },
    {
      "cell_type": "markdown",
      "metadata": {},
      "source": [
        "### Jika ada Outlier"
      ]
    },
    {
      "cell_type": "code",
      "execution_count": 19,
      "metadata": {},
      "outputs": [
        {
          "data": {
            "text/html": [
              "<div>\n",
              "<style scoped>\n",
              "    .dataframe tbody tr th:only-of-type {\n",
              "        vertical-align: middle;\n",
              "    }\n",
              "\n",
              "    .dataframe tbody tr th {\n",
              "        vertical-align: top;\n",
              "    }\n",
              "\n",
              "    .dataframe thead th {\n",
              "        text-align: right;\n",
              "    }\n",
              "</style>\n",
              "<table border=\"1\" class=\"dataframe\">\n",
              "  <thead>\n",
              "    <tr style=\"text-align: right;\">\n",
              "      <th></th>\n",
              "      <th>distance</th>\n",
              "      <th>surge_multiplier</th>\n",
              "      <th>moonPhase</th>\n",
              "      <th>visibility</th>\n",
              "    </tr>\n",
              "  </thead>\n",
              "  <tbody>\n",
              "    <tr>\n",
              "      <th>count</th>\n",
              "      <td>554448.000000</td>\n",
              "      <td>554448.000000</td>\n",
              "      <td>554448.000000</td>\n",
              "      <td>554448.000000</td>\n",
              "    </tr>\n",
              "    <tr>\n",
              "      <th>mean</th>\n",
              "      <td>2.189183</td>\n",
              "      <td>1.013867</td>\n",
              "      <td>0.579115</td>\n",
              "      <td>8.465371</td>\n",
              "    </tr>\n",
              "    <tr>\n",
              "      <th>std</th>\n",
              "      <td>1.138943</td>\n",
              "      <td>0.091692</td>\n",
              "      <td>0.244618</td>\n",
              "      <td>2.605015</td>\n",
              "    </tr>\n",
              "    <tr>\n",
              "      <th>min</th>\n",
              "      <td>0.020000</td>\n",
              "      <td>1.000000</td>\n",
              "      <td>0.090000</td>\n",
              "      <td>0.717000</td>\n",
              "    </tr>\n",
              "    <tr>\n",
              "      <th>25%</th>\n",
              "      <td>1.280000</td>\n",
              "      <td>1.000000</td>\n",
              "      <td>0.300000</td>\n",
              "      <td>8.432000</td>\n",
              "    </tr>\n",
              "    <tr>\n",
              "      <th>50%</th>\n",
              "      <td>2.160000</td>\n",
              "      <td>1.000000</td>\n",
              "      <td>0.680000</td>\n",
              "      <td>9.878000</td>\n",
              "    </tr>\n",
              "    <tr>\n",
              "      <th>75%</th>\n",
              "      <td>2.920000</td>\n",
              "      <td>1.000000</td>\n",
              "      <td>0.790000</td>\n",
              "      <td>9.996000</td>\n",
              "    </tr>\n",
              "    <tr>\n",
              "      <th>max</th>\n",
              "      <td>7.860000</td>\n",
              "      <td>3.000000</td>\n",
              "      <td>0.930000</td>\n",
              "      <td>10.000000</td>\n",
              "    </tr>\n",
              "  </tbody>\n",
              "</table>\n",
              "</div>"
            ],
            "text/plain": [
              "            distance  surge_multiplier      moonPhase     visibility\n",
              "count  554448.000000     554448.000000  554448.000000  554448.000000\n",
              "mean        2.189183          1.013867       0.579115       8.465371\n",
              "std         1.138943          0.091692       0.244618       2.605015\n",
              "min         0.020000          1.000000       0.090000       0.717000\n",
              "25%         1.280000          1.000000       0.300000       8.432000\n",
              "50%         2.160000          1.000000       0.680000       9.878000\n",
              "75%         2.920000          1.000000       0.790000       9.996000\n",
              "max         7.860000          3.000000       0.930000      10.000000"
            ]
          },
          "execution_count": 19,
          "metadata": {},
          "output_type": "execute_result"
        }
      ],
      "source": [
        "X_train.describe() # Cek Centreal tendency dari X_train"
      ]
    },
    {
      "cell_type": "code",
      "execution_count": 20,
      "metadata": {},
      "outputs": [
        {
          "data": {
            "text/plain": [
              "array([1.  , 1.5 , 2.  , 1.25, 1.75, 2.5 , 3.  ])"
            ]
          },
          "execution_count": 20,
          "metadata": {},
          "output_type": "execute_result"
        }
      ],
      "source": [
        "X_train['surge_multiplier'].unique()"
      ]
    },
    {
      "cell_type": "code",
      "execution_count": 21,
      "metadata": {
        "id": "xkQc2U61UrYC"
      },
      "outputs": [
        {
          "name": "stderr",
          "output_type": "stream",
          "text": [
            "c:\\Users\\SBD-HP\\anaconda3\\lib\\site-packages\\seaborn\\_decorators.py:36: FutureWarning: Pass the following variable as a keyword arg: x. From version 0.12, the only valid positional argument will be `data`, and passing other arguments without an explicit keyword will result in an error or misinterpretation.\n",
            "  warnings.warn(\n",
            "c:\\Users\\SBD-HP\\anaconda3\\lib\\site-packages\\seaborn\\_decorators.py:36: FutureWarning: Pass the following variable as a keyword arg: x. From version 0.12, the only valid positional argument will be `data`, and passing other arguments without an explicit keyword will result in an error or misinterpretation.\n",
            "  warnings.warn(\n",
            "c:\\Users\\SBD-HP\\anaconda3\\lib\\site-packages\\seaborn\\_decorators.py:36: FutureWarning: Pass the following variable as a keyword arg: x. From version 0.12, the only valid positional argument will be `data`, and passing other arguments without an explicit keyword will result in an error or misinterpretation.\n",
            "  warnings.warn(\n"
          ]
        },
        {
          "data": {
            "text/plain": [
              "Text(0.5, 1.0, 'visibility')"
            ]
          },
          "execution_count": 21,
          "metadata": {},
          "output_type": "execute_result"
        },
        {
          "data": {
            "image/png": "[encoded data removed]",
            "text/plain": [
              "<Figure size 1440x720 with 3 Axes>"
            ]
          },
          "metadata": {
            "needs_background": "light"
          },
          "output_type": "display_data"
        }
      ],
      "source": [
        "fig = plt.figure(figsize=(20,10))\n",
        "row = 1\n",
        "col = 3\n",
        "\n",
        "# figure, axis = plt.subplots(2,2)\n",
        "fig.add_subplot(row, col, 1)\n",
        "sns.boxplot(X_train['distance'])\n",
        "plt.title('Distance')\n",
        "\n",
        "fig.add_subplot(row, col, 2)\n",
        "# plt.subplot(1,2,1)\n",
        "sns.boxplot(X_train['moonPhase'])\n",
        "plt.title('moonPhase')\n",
        "\n",
        "fig.add_subplot(row, col, 3)\n",
        "# plt.subplot(1,2,1)\n",
        "sns.boxplot(X_train['visibility'])\n",
        "plt.title('visibility')"
      ]
    },
    {
      "cell_type": "markdown",
      "metadata": {},
      "source": [
        "Boxplot untuk mengetahui outlier pada masing masing kolom"
      ]
    },
    {
      "cell_type": "code",
      "execution_count": 22,
      "metadata": {},
      "outputs": [
        {
          "name": "stdout",
          "output_type": "stream",
          "text": [
            "y_train skewness =\n",
            " distance            0.832676\n",
            "surge_multiplier    8.335347\n",
            "moonPhase          -0.379752\n",
            "visibility         -1.504829\n",
            "dtype: float64\n",
            "X_test skewness =\n",
            " distance            0.841277\n",
            "surge_multiplier    8.259588\n",
            "moonPhase          -0.378771\n",
            "visibility         -1.516239\n",
            "dtype: float64\n"
          ]
        },
        {
          "name": "stderr",
          "output_type": "stream",
          "text": [
            "C:\\Users\\SBD-HP\\AppData\\Local\\Temp\\ipykernel_13880\\2798605321.py:1: FutureWarning: Dropping of nuisance columns in DataFrame reductions (with 'numeric_only=None') is deprecated; in a future version this will raise TypeError.  Select only valid columns before calling the reduction.\n",
            "  print('y_train skewness =\\n',X_train.skew()) # Cek skew pada X_train\n",
            "C:\\Users\\SBD-HP\\AppData\\Local\\Temp\\ipykernel_13880\\2798605321.py:2: FutureWarning: Dropping of nuisance columns in DataFrame reductions (with 'numeric_only=None') is deprecated; in a future version this will raise TypeError.  Select only valid columns before calling the reduction.\n",
            "  print('X_test skewness =\\n',X_test.skew()) # Cek skew pada X_test\n"
          ]
        }
      ],
      "source": [
        "print('y_train skewness =\\n',X_train.skew()) # Cek skew pada X_train\n",
        "print('X_test skewness =\\n',X_test.skew()) # Cek skew pada X_test"
      ]
    },
    {
      "cell_type": "markdown",
      "metadata": {},
      "source": [
        "Untuk nilai visibility dan distance sedikit skewed"
      ]
    },
    {
      "cell_type": "code",
      "execution_count": 23,
      "metadata": {},
      "outputs": [
        {
          "name": "stdout",
          "output_type": "stream",
          "text": [
            "0.25    1.28\n",
            "0.50    2.16\n",
            "0.75    2.92\n",
            "Name: distance, dtype: float64\n",
            "0.25    0.30\n",
            "0.50    0.68\n",
            "0.75    0.79\n",
            "Name: moonPhase, dtype: float64\n",
            "0.25    8.432\n",
            "0.50    9.878\n",
            "0.75    9.996\n",
            "Name: visibility, dtype: float64\n"
          ]
        }
      ],
      "source": [
        "print(X_train['distance'].quantile([0.25, 0.5, 0.75]))\n",
        "print(X_train['moonPhase'].quantile([0.25, 0.5, 0.75]))\n",
        "print(X_train['visibility'].quantile([0.25, 0.5, 0.75]))"
      ]
    },
    {
      "cell_type": "markdown",
      "metadata": {},
      "source": [
        "Match proses q1 q2 q3 untuk masing-masing kolom"
      ]
    },
    {
      "cell_type": "code",
      "execution_count": 24,
      "metadata": {},
      "outputs": [
        {
          "name": "stdout",
          "output_type": "stream",
          "text": [
            "Batas Minimum Outlier X_train distance = -1.18\n",
            "Batas Maximum Outlier X_train distance = 5.38\n",
            "Batas Minimum Outlier X_train moonPhase = -0.4350000000000001\n",
            "Batas Maximum Outlier X_train moonPhase = 1.5250000000000001\n",
            "Batas Minimum Outlier X_train visibility = 6.086\n",
            "Batas Maximum Outlier X_train visibility = 12.342\n"
          ]
        }
      ],
      "source": [
        "q1distance       = 1.28\n",
        "q3distance       = 2.92\n",
        "q1moonPhase      = 0.30\n",
        "q3moonPhase      = 0.79\n",
        "q1visibility     = 8.432\n",
        "q3visibility     = 9.996\n",
        "iqrdistance      = q3distance-q1distance\n",
        "iqrmoonPhase     = q3moonPhase - q1moonPhase\n",
        "iqrvisibility    = q3visibility - q1visibility\n",
        "minimumdistance  = q1distance - (1.5*iqrdistance)\n",
        "maximumdistance  = q3distance + (1.5*iqrdistance)\n",
        "minimummoon      = q1moonPhase - (1.5*iqrmoonPhase)\n",
        "maximummoon      = q3moonPhase + (1.5*iqrmoonPhase)\n",
        "minimumvisi      = q1visibility - (1.5*iqrvisibility)\n",
        "maximumvisi      = q3visibility + (1.5*iqrvisibility)\n",
        "print(\"Batas Minimum Outlier X_train distance =\", minimumdistance)\n",
        "print(\"Batas Maximum Outlier X_train distance =\", maximumdistance)\n",
        "print(\"Batas Minimum Outlier X_train moonPhase =\", minimummoon)\n",
        "print(\"Batas Maximum Outlier X_train moonPhase =\", maximummoon)\n",
        "print(\"Batas Minimum Outlier X_train visibility =\", minimumvisi)\n",
        "print(\"Batas Maximum Outlier X_train visibility =\", maximumvisi)"
      ]
    },
    {
      "cell_type": "code",
      "execution_count": 25,
      "metadata": {},
      "outputs": [],
      "source": [
        "# Handle outlier menggunakan winsorizing\n",
        "\n",
        "X_train.loc[X_train['distance']>=maximumdistance, 'distance'] = maximumdistance\n",
        "X_train.loc[X_train['distance']<=minimumdistance, 'distance'] = minimumdistance\n",
        "\n",
        "X_train.loc[X_train['moonPhase']>=maximummoon, 'moonPhase'] = maximummoon\n",
        "X_train.loc[X_train['moonPhase']<=minimummoon, 'moonPhase'] = minimummoon\n",
        "\n",
        "X_train.loc[X_train['visibility']>=maximumvisi, 'visibility'] = maximumvisi\n",
        "X_train.loc[X_train['visibility']<=minimumvisi, 'visibility'] = minimumvisi"
      ]
    },
    {
      "cell_type": "markdown",
      "metadata": {},
      "source": [
        "Nilai outliers dijadikan maksimal dan minimum dari setiap kolom yang telah disort agar mempertahankan shape X_train untuk permodelan selanjutnya"
      ]
    },
    {
      "cell_type": "code",
      "execution_count": 26,
      "metadata": {},
      "outputs": [
        {
          "data": {
            "text/plain": [
              "(array([], dtype=int64),)"
            ]
          },
          "execution_count": 26,
          "metadata": {},
          "output_type": "execute_result"
        }
      ],
      "source": [
        "np.where(X_train['distance']>maximumdistance) # cek outlier melaui dengan output array"
      ]
    },
    {
      "cell_type": "markdown",
      "metadata": {},
      "source": [
        "#### Jika tanpa Outlier\n",
        "\n",
        "Setelah cek dataframe describe() nilai outlier telah dihandle menggunakan metode winsorizing"
      ]
    },
    {
      "cell_type": "code",
      "execution_count": 27,
      "metadata": {},
      "outputs": [
        {
          "data": {
            "text/html": [
              "<div>\n",
              "<style scoped>\n",
              "    .dataframe tbody tr th:only-of-type {\n",
              "        vertical-align: middle;\n",
              "    }\n",
              "\n",
              "    .dataframe tbody tr th {\n",
              "        vertical-align: top;\n",
              "    }\n",
              "\n",
              "    .dataframe thead th {\n",
              "        text-align: right;\n",
              "    }\n",
              "</style>\n",
              "<table border=\"1\" class=\"dataframe\">\n",
              "  <thead>\n",
              "    <tr style=\"text-align: right;\">\n",
              "      <th></th>\n",
              "      <th>distance</th>\n",
              "      <th>surge_multiplier</th>\n",
              "      <th>moonPhase</th>\n",
              "      <th>visibility</th>\n",
              "    </tr>\n",
              "  </thead>\n",
              "  <tbody>\n",
              "    <tr>\n",
              "      <th>count</th>\n",
              "      <td>554448.000000</td>\n",
              "      <td>554448.000000</td>\n",
              "      <td>554448.000000</td>\n",
              "      <td>554448.000000</td>\n",
              "    </tr>\n",
              "    <tr>\n",
              "      <th>mean</th>\n",
              "      <td>2.179292</td>\n",
              "      <td>1.013867</td>\n",
              "      <td>0.579115</td>\n",
              "      <td>8.984987</td>\n",
              "    </tr>\n",
              "    <tr>\n",
              "      <th>std</th>\n",
              "      <td>1.103751</td>\n",
              "      <td>0.091692</td>\n",
              "      <td>0.244618</td>\n",
              "      <td>1.558123</td>\n",
              "    </tr>\n",
              "    <tr>\n",
              "      <th>min</th>\n",
              "      <td>0.020000</td>\n",
              "      <td>1.000000</td>\n",
              "      <td>0.090000</td>\n",
              "      <td>6.086000</td>\n",
              "    </tr>\n",
              "    <tr>\n",
              "      <th>25%</th>\n",
              "      <td>1.280000</td>\n",
              "      <td>1.000000</td>\n",
              "      <td>0.300000</td>\n",
              "      <td>8.432000</td>\n",
              "    </tr>\n",
              "    <tr>\n",
              "      <th>50%</th>\n",
              "      <td>2.160000</td>\n",
              "      <td>1.000000</td>\n",
              "      <td>0.680000</td>\n",
              "      <td>9.878000</td>\n",
              "    </tr>\n",
              "    <tr>\n",
              "      <th>75%</th>\n",
              "      <td>2.920000</td>\n",
              "      <td>1.000000</td>\n",
              "      <td>0.790000</td>\n",
              "      <td>9.996000</td>\n",
              "    </tr>\n",
              "    <tr>\n",
              "      <th>max</th>\n",
              "      <td>5.380000</td>\n",
              "      <td>3.000000</td>\n",
              "      <td>0.930000</td>\n",
              "      <td>10.000000</td>\n",
              "    </tr>\n",
              "  </tbody>\n",
              "</table>\n",
              "</div>"
            ],
            "text/plain": [
              "            distance  surge_multiplier      moonPhase     visibility\n",
              "count  554448.000000     554448.000000  554448.000000  554448.000000\n",
              "mean        2.179292          1.013867       0.579115       8.984987\n",
              "std         1.103751          0.091692       0.244618       1.558123\n",
              "min         0.020000          1.000000       0.090000       6.086000\n",
              "25%         1.280000          1.000000       0.300000       8.432000\n",
              "50%         2.160000          1.000000       0.680000       9.878000\n",
              "75%         2.920000          1.000000       0.790000       9.996000\n",
              "max         5.380000          3.000000       0.930000      10.000000"
            ]
          },
          "execution_count": 27,
          "metadata": {},
          "output_type": "execute_result"
        }
      ],
      "source": [
        "X_train.describe() # Cek handle outlier dengan metode winsorizing"
      ]
    },
    {
      "cell_type": "code",
      "execution_count": 28,
      "metadata": {},
      "outputs": [
        {
          "name": "stderr",
          "output_type": "stream",
          "text": [
            "c:\\Users\\SBD-HP\\anaconda3\\lib\\site-packages\\seaborn\\_decorators.py:36: FutureWarning: Pass the following variable as a keyword arg: x. From version 0.12, the only valid positional argument will be `data`, and passing other arguments without an explicit keyword will result in an error or misinterpretation.\n",
            "  warnings.warn(\n",
            "c:\\Users\\SBD-HP\\anaconda3\\lib\\site-packages\\seaborn\\_decorators.py:36: FutureWarning: Pass the following variable as a keyword arg: x. From version 0.12, the only valid positional argument will be `data`, and passing other arguments without an explicit keyword will result in an error or misinterpretation.\n",
            "  warnings.warn(\n",
            "c:\\Users\\SBD-HP\\anaconda3\\lib\\site-packages\\seaborn\\_decorators.py:36: FutureWarning: Pass the following variable as a keyword arg: x. From version 0.12, the only valid positional argument will be `data`, and passing other arguments without an explicit keyword will result in an error or misinterpretation.\n",
            "  warnings.warn(\n"
          ]
        },
        {
          "data": {
            "text/plain": [
              "Text(0.5, 1.0, 'visibility')"
            ]
          },
          "execution_count": 28,
          "metadata": {},
          "output_type": "execute_result"
        },
        {
          "data": {
            "image/png": "[encoded data removed]",
            "text/plain": [
              "<Figure size 2160x720 with 3 Axes>"
            ]
          },
          "metadata": {
            "needs_background": "light"
          },
          "output_type": "display_data"
        }
      ],
      "source": [
        "fig = plt.figure(figsize=(30,10))\n",
        "row = 1\n",
        "col = 3\n",
        "\n",
        "# figure, axis = plt.subplots(2,2)\n",
        "fig.add_subplot(row, col, 1)\n",
        "sns.boxplot(X_train['distance'])\n",
        "plt.title('Distance')\n",
        "\n",
        "fig.add_subplot(row, col, 2)\n",
        "# plt.subplot(1,2,1)\n",
        "sns.boxplot(X_train['moonPhase'])\n",
        "plt.title('moonPhase')\n",
        "\n",
        "fig.add_subplot(row, col, 3)\n",
        "# plt.subplot(1,2,1)\n",
        "sns.boxplot(X_train['visibility'])\n",
        "plt.title('visibility')"
      ]
    },
    {
      "cell_type": "markdown",
      "metadata": {},
      "source": [
        "Boxplot untuk cek outlier pada masing masing kolom masih ada atau tidak"
      ]
    },
    {
      "cell_type": "code",
      "execution_count": 29,
      "metadata": {},
      "outputs": [
        {
          "data": {
            "text/plain": [
              "0.25     9.0\n",
              "0.50    13.5\n",
              "0.75    22.5\n",
              "Name: price, dtype: float64"
            ]
          },
          "execution_count": 29,
          "metadata": {},
          "output_type": "execute_result"
        }
      ],
      "source": [
        "y_test.quantile([0.25, 0.5, 0.75])"
      ]
    },
    {
      "cell_type": "code",
      "execution_count": 30,
      "metadata": {},
      "outputs": [
        {
          "name": "stdout",
          "output_type": "stream",
          "text": [
            "Batas Minimum Outlier y_test = -11.25\n",
            "Batas Maximum Outlier y_test = 42.75\n"
          ]
        }
      ],
      "source": [
        "q1 = 9.0\n",
        "q3 = 22.5\n",
        "iqr = q3-q1\n",
        "minimum = q1 - (1.5*iqr)\n",
        "maximum = q3 + (1.5*iqr)\n",
        "print(\"Batas Minimum Outlier y_test =\", minimum)\n",
        "print(\"Batas Maximum Outlier y_test =\", maximum)"
      ]
    },
    {
      "cell_type": "markdown",
      "metadata": {},
      "source": [
        "Math proc q1 q2 q3 dari y_test"
      ]
    },
    {
      "cell_type": "code",
      "execution_count": 31,
      "metadata": {},
      "outputs": [
        {
          "name": "stderr",
          "output_type": "stream",
          "text": [
            "c:\\Users\\SBD-HP\\anaconda3\\lib\\site-packages\\seaborn\\_decorators.py:36: FutureWarning: Pass the following variable as a keyword arg: x. From version 0.12, the only valid positional argument will be `data`, and passing other arguments without an explicit keyword will result in an error or misinterpretation.\n",
            "  warnings.warn(\n",
            "c:\\Users\\SBD-HP\\anaconda3\\lib\\site-packages\\seaborn\\_decorators.py:36: FutureWarning: Pass the following variable as a keyword arg: x. From version 0.12, the only valid positional argument will be `data`, and passing other arguments without an explicit keyword will result in an error or misinterpretation.\n",
            "  warnings.warn(\n"
          ]
        },
        {
          "data": {
            "text/plain": [
              "Text(0.5, 1.0, 'y_test')"
            ]
          },
          "execution_count": 31,
          "metadata": {},
          "output_type": "execute_result"
        },
        {
          "data": {
            "image/png": "[encoded data removed]",
            "text/plain": [
              "<Figure size 1440x720 with 2 Axes>"
            ]
          },
          "metadata": {
            "needs_background": "light"
          },
          "output_type": "display_data"
        }
      ],
      "source": [
        "fig = plt.figure(figsize=(20,10))\n",
        "row = 1\n",
        "col = 3\n",
        "\n",
        "fig.add_subplot(row, col, 1)\n",
        "sns.boxplot(y_train)\n",
        "plt.title('y_train')\n",
        "\n",
        "fig.add_subplot(row, col, 2)\n",
        "sns.boxplot(y_test)\n",
        "plt.title('y_test')"
      ]
    },
    {
      "cell_type": "code",
      "execution_count": 32,
      "metadata": {},
      "outputs": [
        {
          "data": {
            "text/plain": [
              "Text(0.5, 1.0, 'y_test')"
            ]
          },
          "execution_count": 32,
          "metadata": {},
          "output_type": "execute_result"
        },
        {
          "data": {
            "image/png": "[encoded data removed]",
            "text/plain": [
              "<Figure size 1440x720 with 2 Axes>"
            ]
          },
          "metadata": {
            "needs_background": "light"
          },
          "output_type": "display_data"
        }
      ],
      "source": [
        "fig = plt.figure(figsize=(20,10))\n",
        "row = 1\n",
        "col = 2\n",
        "\n",
        "fig.add_subplot(row, col, 1)\n",
        "# plt.subplot(1,2,1)\n",
        "sns.histplot(y_train, bins=30, kde=True)\n",
        "plt.title('y_train')\n",
        "\n",
        "fig.add_subplot(row, col, 2)\n",
        "# plt.subplot(1,2,1)\n",
        "sns.histplot(y_test, bins=30, kde=True)\n",
        "plt.title('y_test')"
      ]
    },
    {
      "cell_type": "markdown",
      "metadata": {},
      "source": [
        "Distribusi data right skew"
      ]
    },
    {
      "cell_type": "code",
      "execution_count": 33,
      "metadata": {},
      "outputs": [
        {
          "name": "stdout",
          "output_type": "stream",
          "text": [
            "y_train skewness = 1.0451761578979797\n",
            "y_test skewness = 1.04802578317619\n"
          ]
        }
      ],
      "source": [
        "print('y_train skewness =',y_train.skew())\n",
        "print('y_test skewness =',y_test.skew())"
      ]
    },
    {
      "cell_type": "markdown",
      "metadata": {},
      "source": [
        "Nilai > 0 terbukti right skew"
      ]
    },
    {
      "cell_type": "code",
      "execution_count": 34,
      "metadata": {},
      "outputs": [
        {
          "data": {
            "text/plain": [
              "0.25     9.0\n",
              "0.50    13.5\n",
              "0.75    22.5\n",
              "Name: price, dtype: float64"
            ]
          },
          "execution_count": 34,
          "metadata": {},
          "output_type": "execute_result"
        }
      ],
      "source": [
        "y_train.quantile([0.25, 0.5, 0.75])"
      ]
    },
    {
      "cell_type": "code",
      "execution_count": 35,
      "metadata": {},
      "outputs": [
        {
          "name": "stdout",
          "output_type": "stream",
          "text": [
            "Batas Minimum Outlier y_train = -11.25\n",
            "Batas Maximum Outlier y_train = 42.75\n"
          ]
        }
      ],
      "source": [
        "q1 = 9.0\n",
        "q3 = 22.5\n",
        "iqr = q3-q1\n",
        "minimum = q1 - (1.5*iqr)\n",
        "maximum = q3 + (1.5*iqr)\n",
        "print(\"Batas Minimum Outlier y_train =\", minimum)\n",
        "print(\"Batas Maximum Outlier y_train =\", maximum)"
      ]
    },
    {
      "cell_type": "markdown",
      "metadata": {},
      "source": [
        "Math proc q1 q2 q3 dari y_train"
      ]
    },
    {
      "cell_type": "code",
      "execution_count": 36,
      "metadata": {},
      "outputs": [],
      "source": [
        "# Handle outlier menggunakan winsorizing\n",
        "\n",
        "y_train.loc[y_train>=maximum] = maximum\n",
        "y_train.loc[y_train<=minimum] = minimum\n",
        "y_test.loc[y_test>=maximum] = maximum\n",
        "y_test.loc[y_test<=minimum] = minimum"
      ]
    },
    {
      "cell_type": "markdown",
      "metadata": {},
      "source": [
        "Nilai outliers dijadikan maksimal dan minimum dari setiap kolom yang telah disort agar mempertahankan shape X_train untuk permodelan selanjutnya"
      ]
    },
    {
      "cell_type": "code",
      "execution_count": 37,
      "metadata": {},
      "outputs": [
        {
          "name": "stdout",
          "output_type": "stream",
          "text": [
            "X_train Size = (554448, 6)\n",
            "X_test Size  = (138613, 6)\n",
            "y_train Size = (554448,)\n",
            "y_test Size  = (138613,)\n"
          ]
        }
      ],
      "source": [
        "print('X_train Size =', X_train.shape)\n",
        "print('X_test Size  =', X_test.shape)\n",
        "print('y_train Size =', y_train.shape)\n",
        "print('y_test Size  =', y_test.shape)"
      ]
    },
    {
      "cell_type": "markdown",
      "metadata": {},
      "source": [
        "Shape Train Test set masih sama setelah Handling Outliers"
      ]
    },
    {
      "cell_type": "markdown",
      "metadata": {
        "id": "iEhwjV_KUxoR"
      },
      "source": [
        "### Handling Missing Values"
      ]
    },
    {
      "cell_type": "code",
      "execution_count": 38,
      "metadata": {
        "colab": {
          "base_uri": "https://localhost:8080/"
        },
        "id": "4bDrXZJlU-Hd",
        "outputId": "2baf5fc1-0a34-407b-efdf-8100a86c3ec4"
      },
      "outputs": [
        {
          "data": {
            "text/plain": [
              "distance            0\n",
              "surge_multiplier    0\n",
              "moonPhase           0\n",
              "visibility          0\n",
              "name                0\n",
              "cab_type            0\n",
              "dtype: int64"
            ]
          },
          "execution_count": 38,
          "metadata": {},
          "output_type": "execute_result"
        }
      ],
      "source": [
        "# Check Missing Values in `X_train`\n",
        "\n",
        "X_train.isnull().sum()"
      ]
    },
    {
      "cell_type": "code",
      "execution_count": 39,
      "metadata": {
        "colab": {
          "base_uri": "https://localhost:8080/"
        },
        "id": "XTJyCJgJVG9i",
        "outputId": "570c9db0-7b11-4ffb-d9e5-0a97e2671da4"
      },
      "outputs": [
        {
          "data": {
            "text/plain": [
              "distance            0\n",
              "surge_multiplier    0\n",
              "moonPhase           0\n",
              "visibility          0\n",
              "name                0\n",
              "cab_type            0\n",
              "dtype: int64"
            ]
          },
          "execution_count": 39,
          "metadata": {},
          "output_type": "execute_result"
        }
      ],
      "source": [
        "# Check Missing Values in `X_test`\n",
        "\n",
        "X_test.isnull().sum()"
      ]
    },
    {
      "cell_type": "code",
      "execution_count": 40,
      "metadata": {
        "colab": {
          "base_uri": "https://localhost:8080/"
        },
        "id": "l6TxfwAlVPpK",
        "outputId": "9a28c2d9-3543-4917-874c-144864806260"
      },
      "outputs": [
        {
          "data": {
            "text/plain": [
              "44016"
            ]
          },
          "execution_count": 40,
          "metadata": {},
          "output_type": "execute_result"
        }
      ],
      "source": [
        "# Check Missing Values in `y_train`\n",
        "\n",
        "y_train.isnull().sum()"
      ]
    },
    {
      "cell_type": "markdown",
      "metadata": {},
      "source": [
        "Cek nilai null pada y_train terdapat 44016"
      ]
    },
    {
      "cell_type": "code",
      "execution_count": 41,
      "metadata": {
        "colab": {
          "base_uri": "https://localhost:8080/"
        },
        "id": "gWdBNtBoVU5z",
        "outputId": "2c017980-ea95-4cde-8428-417176c55fc2"
      },
      "outputs": [
        {
          "data": {
            "text/plain": [
              "11079"
            ]
          },
          "execution_count": 41,
          "metadata": {},
          "output_type": "execute_result"
        }
      ],
      "source": [
        "# Check Missing Values in `y_test`\n",
        "\n",
        "y_test.isnull().sum()"
      ]
    },
    {
      "cell_type": "markdown",
      "metadata": {},
      "source": [
        "Cek nilai null pada y_train terdapat 11079\n",
        "\n",
        "Handle missing value ini akan menggunakan metode Missing Completely at Random (MCAR), y_train dan y_test tidak terdistribusi normal(right skewed) maka akan menggunakan nilai median untuk mengisi nilai null."
      ]
    },
    {
      "cell_type": "code",
      "execution_count": 42,
      "metadata": {},
      "outputs": [
        {
          "name": "stdout",
          "output_type": "stream",
          "text": [
            "y_train median : 13.5\n",
            "y_train mean   : 16.480981560717193\n",
            "y_test median : 13.5\n",
            "y_test mean   : 16.480981560717193\n"
          ]
        }
      ],
      "source": [
        "print('y_train median :', y_train.median())\n",
        "print('y_train mean   :', y_train.mean())\n",
        "\n",
        "print('y_test median :', y_train.median())\n",
        "print('y_test mean   :', y_train.mean())"
      ]
    },
    {
      "cell_type": "markdown",
      "metadata": {},
      "source": [
        "Menghitung nilai mean dan median pada y_train dan y_test"
      ]
    },
    {
      "cell_type": "code",
      "execution_count": 43,
      "metadata": {},
      "outputs": [],
      "source": [
        "y_train = y_train.fillna(y_train.median())\n",
        "y_test  = y_test.fillna(y_test.median())"
      ]
    },
    {
      "cell_type": "markdown",
      "metadata": {},
      "source": [
        "Handle missing value"
      ]
    },
    {
      "cell_type": "code",
      "execution_count": 44,
      "metadata": {},
      "outputs": [
        {
          "name": "stdout",
          "output_type": "stream",
          "text": [
            "y_train NaN = 0\n",
            "y_test NaN  = 0\n"
          ]
        }
      ],
      "source": [
        "# Handle missing value\n",
        "\n",
        "print('y_train NaN =',y_train.isnull().sum())\n",
        "print('y_test NaN  =',y_test.isnull().sum())"
      ]
    },
    {
      "cell_type": "code",
      "execution_count": 45,
      "metadata": {},
      "outputs": [
        {
          "name": "stdout",
          "output_type": "stream",
          "text": [
            "<class 'pandas.core.frame.DataFrame'>\n",
            "Int64Index: 554448 entries, 190502 to 589041\n",
            "Data columns (total 6 columns):\n",
            " #   Column            Non-Null Count   Dtype  \n",
            "---  ------            --------------   -----  \n",
            " 0   distance          554448 non-null  float64\n",
            " 1   surge_multiplier  554448 non-null  float64\n",
            " 2   moonPhase         554448 non-null  float64\n",
            " 3   visibility        554448 non-null  float64\n",
            " 4   name              554448 non-null  object \n",
            " 5   cab_type          554448 non-null  object \n",
            "dtypes: float64(4), object(2)\n",
            "memory usage: 29.6+ MB\n"
          ]
        }
      ],
      "source": [
        "X_train.info() # Cek sudah tidak ada nilai missing value"
      ]
    },
    {
      "cell_type": "markdown",
      "metadata": {
        "id": "Zc6Joe1-U7zm"
      },
      "source": [
        "## Feature Selection\n",
        "\n",
        "Feature Selection dilakukan sebelum data preprocessing untuk mempersempit cakupan preprocessing data sehingga dapat mengurangi waktu pengolahan data dan menghindari mengolah data yang pada akhirnya tidak terpakai."
      ]
    },
    {
      "cell_type": "markdown",
      "metadata": {
        "id": "XwwjgtldXpdc"
      },
      "source": [
        "### Split between Numerical Columns and Categorical Columns"
      ]
    },
    {
      "cell_type": "code",
      "execution_count": 46,
      "metadata": {
        "colab": {
          "base_uri": "https://localhost:8080/"
        },
        "id": "ZJM9ixoRYFhy",
        "outputId": "3a8b56c0-18ae-4b22-bfba-b3b5bd151da7"
      },
      "outputs": [
        {
          "name": "stdout",
          "output_type": "stream",
          "text": [
            "Numerical Columns :  ['distance', 'surge_multiplier', 'moonPhase', 'visibility']\n",
            "Categorical Columns :  ['name', 'cab_type']\n"
          ]
        }
      ],
      "source": [
        "# Get Numerical Columns and Categorical Columns\n",
        "\n",
        "num_kolom = X_train.select_dtypes(include=np.number).columns.tolist()\n",
        "cat_kolom = X_train.select_dtypes(include=['object']).columns.tolist()\n",
        "\n",
        "print('Numerical Columns : ', num_kolom)\n",
        "print('Categorical Columns : ', cat_kolom)"
      ]
    },
    {
      "cell_type": "markdown",
      "metadata": {},
      "source": [
        "Memisahkan data numerical dan categorical"
      ]
    },
    {
      "cell_type": "code",
      "execution_count": 47,
      "metadata": {
        "colab": {
          "base_uri": "https://localhost:8080/",
          "height": 424
        },
        "id": "uuxoSbq2Ytsr",
        "outputId": "f7ab7a94-7a42-4a3f-ce6c-b51d817d259a"
      },
      "outputs": [
        {
          "data": {
            "text/html": [
              "<div>\n",
              "<style scoped>\n",
              "    .dataframe tbody tr th:only-of-type {\n",
              "        vertical-align: middle;\n",
              "    }\n",
              "\n",
              "    .dataframe tbody tr th {\n",
              "        vertical-align: top;\n",
              "    }\n",
              "\n",
              "    .dataframe thead th {\n",
              "        text-align: right;\n",
              "    }\n",
              "</style>\n",
              "<table border=\"1\" class=\"dataframe\">\n",
              "  <thead>\n",
              "    <tr style=\"text-align: right;\">\n",
              "      <th></th>\n",
              "      <th>name</th>\n",
              "      <th>cab_type</th>\n",
              "    </tr>\n",
              "  </thead>\n",
              "  <tbody>\n",
              "    <tr>\n",
              "      <th>190502</th>\n",
              "      <td>Lux Black XL</td>\n",
              "      <td>Lyft</td>\n",
              "    </tr>\n",
              "    <tr>\n",
              "      <th>119148</th>\n",
              "      <td>Lux Black XL</td>\n",
              "      <td>Lyft</td>\n",
              "    </tr>\n",
              "    <tr>\n",
              "      <th>603648</th>\n",
              "      <td>UberXL</td>\n",
              "      <td>Uber</td>\n",
              "    </tr>\n",
              "    <tr>\n",
              "      <th>269185</th>\n",
              "      <td>Black SUV</td>\n",
              "      <td>Uber</td>\n",
              "    </tr>\n",
              "    <tr>\n",
              "      <th>632624</th>\n",
              "      <td>UberXL</td>\n",
              "      <td>Uber</td>\n",
              "    </tr>\n",
              "    <tr>\n",
              "      <th>...</th>\n",
              "      <td>...</td>\n",
              "      <td>...</td>\n",
              "    </tr>\n",
              "    <tr>\n",
              "      <th>516374</th>\n",
              "      <td>UberX</td>\n",
              "      <td>Uber</td>\n",
              "    </tr>\n",
              "    <tr>\n",
              "      <th>125680</th>\n",
              "      <td>UberXL</td>\n",
              "      <td>Uber</td>\n",
              "    </tr>\n",
              "    <tr>\n",
              "      <th>491926</th>\n",
              "      <td>Lux</td>\n",
              "      <td>Lyft</td>\n",
              "    </tr>\n",
              "    <tr>\n",
              "      <th>297103</th>\n",
              "      <td>Lux Black</td>\n",
              "      <td>Lyft</td>\n",
              "    </tr>\n",
              "    <tr>\n",
              "      <th>589041</th>\n",
              "      <td>UberPool</td>\n",
              "      <td>Uber</td>\n",
              "    </tr>\n",
              "  </tbody>\n",
              "</table>\n",
              "<p>554448 rows × 2 columns</p>\n",
              "</div>"
            ],
            "text/plain": [
              "                name cab_type\n",
              "190502  Lux Black XL     Lyft\n",
              "119148  Lux Black XL     Lyft\n",
              "603648        UberXL     Uber\n",
              "269185     Black SUV     Uber\n",
              "632624        UberXL     Uber\n",
              "...              ...      ...\n",
              "516374         UberX     Uber\n",
              "125680        UberXL     Uber\n",
              "491926           Lux     Lyft\n",
              "297103     Lux Black     Lyft\n",
              "589041      UberPool     Uber\n",
              "\n",
              "[554448 rows x 2 columns]"
            ]
          },
          "execution_count": 47,
          "metadata": {},
          "output_type": "execute_result"
        }
      ],
      "source": [
        "# Split Train-Set and Test-Set based on Column Types \n",
        "\n",
        "X_train_num = X_train[num_kolom]\n",
        "X_train_cat = X_train[cat_kolom]\n",
        "\n",
        "X_test_num = X_test[num_kolom]\n",
        "X_test_cat = X_test[cat_kolom]\n",
        "\n",
        "X_train_cat"
      ]
    },
    {
      "cell_type": "markdown",
      "metadata": {
        "id": "R3h6em0HZKFX"
      },
      "source": [
        "### Feature Scaling\n",
        "\n",
        "x_train_num harus di scaling , agar tidak melihat data kolom dengan nilai paling besar saja. semua besaran indeks dari puluhan, ratusan dan jutaanya menjadi setara."
      ]
    },
    {
      "cell_type": "code",
      "execution_count": 48,
      "metadata": {
        "colab": {
          "base_uri": "https://localhost:8080/",
          "height": 424
        },
        "id": "ybgg7xB6ZhJc",
        "outputId": "96ecc118-876c-48b5-a4b5-93bb241e4394"
      },
      "outputs": [
        {
          "data": {
            "text/html": [
              "<div>\n",
              "<style scoped>\n",
              "    .dataframe tbody tr th:only-of-type {\n",
              "        vertical-align: middle;\n",
              "    }\n",
              "\n",
              "    .dataframe tbody tr th {\n",
              "        vertical-align: top;\n",
              "    }\n",
              "\n",
              "    .dataframe thead th {\n",
              "        text-align: right;\n",
              "    }\n",
              "</style>\n",
              "<table border=\"1\" class=\"dataframe\">\n",
              "  <thead>\n",
              "    <tr style=\"text-align: right;\">\n",
              "      <th></th>\n",
              "      <th>distance</th>\n",
              "      <th>surge_multiplier</th>\n",
              "      <th>moonPhase</th>\n",
              "      <th>visibility</th>\n",
              "    </tr>\n",
              "  </thead>\n",
              "  <tbody>\n",
              "    <tr>\n",
              "      <th>190502</th>\n",
              "      <td>3.01</td>\n",
              "      <td>1.0</td>\n",
              "      <td>0.64</td>\n",
              "      <td>8.677</td>\n",
              "    </tr>\n",
              "    <tr>\n",
              "      <th>119148</th>\n",
              "      <td>2.65</td>\n",
              "      <td>1.0</td>\n",
              "      <td>0.79</td>\n",
              "      <td>9.966</td>\n",
              "    </tr>\n",
              "    <tr>\n",
              "      <th>603648</th>\n",
              "      <td>3.20</td>\n",
              "      <td>1.0</td>\n",
              "      <td>0.79</td>\n",
              "      <td>10.000</td>\n",
              "    </tr>\n",
              "    <tr>\n",
              "      <th>269185</th>\n",
              "      <td>2.66</td>\n",
              "      <td>1.0</td>\n",
              "      <td>0.68</td>\n",
              "      <td>9.961</td>\n",
              "    </tr>\n",
              "    <tr>\n",
              "      <th>632624</th>\n",
              "      <td>2.88</td>\n",
              "      <td>1.0</td>\n",
              "      <td>0.79</td>\n",
              "      <td>9.944</td>\n",
              "    </tr>\n",
              "    <tr>\n",
              "      <th>...</th>\n",
              "      <td>...</td>\n",
              "      <td>...</td>\n",
              "      <td>...</td>\n",
              "      <td>...</td>\n",
              "    </tr>\n",
              "    <tr>\n",
              "      <th>516374</th>\n",
              "      <td>3.04</td>\n",
              "      <td>1.0</td>\n",
              "      <td>0.09</td>\n",
              "      <td>9.972</td>\n",
              "    </tr>\n",
              "    <tr>\n",
              "      <th>125680</th>\n",
              "      <td>5.38</td>\n",
              "      <td>1.0</td>\n",
              "      <td>0.37</td>\n",
              "      <td>10.000</td>\n",
              "    </tr>\n",
              "    <tr>\n",
              "      <th>491926</th>\n",
              "      <td>1.03</td>\n",
              "      <td>1.0</td>\n",
              "      <td>0.68</td>\n",
              "      <td>6.086</td>\n",
              "    </tr>\n",
              "    <tr>\n",
              "      <th>297103</th>\n",
              "      <td>1.69</td>\n",
              "      <td>1.0</td>\n",
              "      <td>0.89</td>\n",
              "      <td>6.086</td>\n",
              "    </tr>\n",
              "    <tr>\n",
              "      <th>589041</th>\n",
              "      <td>1.97</td>\n",
              "      <td>1.0</td>\n",
              "      <td>0.72</td>\n",
              "      <td>9.924</td>\n",
              "    </tr>\n",
              "  </tbody>\n",
              "</table>\n",
              "<p>554448 rows × 4 columns</p>\n",
              "</div>"
            ],
            "text/plain": [
              "        distance  surge_multiplier  moonPhase  visibility\n",
              "190502      3.01               1.0       0.64       8.677\n",
              "119148      2.65               1.0       0.79       9.966\n",
              "603648      3.20               1.0       0.79      10.000\n",
              "269185      2.66               1.0       0.68       9.961\n",
              "632624      2.88               1.0       0.79       9.944\n",
              "...          ...               ...        ...         ...\n",
              "516374      3.04               1.0       0.09       9.972\n",
              "125680      5.38               1.0       0.37      10.000\n",
              "491926      1.03               1.0       0.68       6.086\n",
              "297103      1.69               1.0       0.89       6.086\n",
              "589041      1.97               1.0       0.72       9.924\n",
              "\n",
              "[554448 rows x 4 columns]"
            ]
          },
          "execution_count": 48,
          "metadata": {},
          "output_type": "execute_result"
        }
      ],
      "source": [
        "X_train_num"
      ]
    },
    {
      "cell_type": "code",
      "execution_count": 49,
      "metadata": {},
      "outputs": [
        {
          "data": {
            "text/plain": [
              "distance            0.583470\n",
              "surge_multiplier    8.335347\n",
              "moonPhase          -0.379752\n",
              "visibility         -1.205732\n",
              "dtype: float64"
            ]
          },
          "execution_count": 49,
          "metadata": {},
          "output_type": "execute_result"
        }
      ],
      "source": [
        "X_train_num.skew()"
      ]
    },
    {
      "cell_type": "markdown",
      "metadata": {},
      "source": [
        "Data tergolong skewed walaupun tidak terlalu besar nilainya."
      ]
    },
    {
      "cell_type": "code",
      "execution_count": 50,
      "metadata": {
        "colab": {
          "base_uri": "https://localhost:8080/"
        },
        "id": "KnueL-fMZMGy",
        "outputId": "bf42e3bb-a0bb-402b-b7ce-a5524d406329"
      },
      "outputs": [
        {
          "data": {
            "text/plain": [
              "array([[0.55783582, 0.        , 0.6547619 , 0.66198263],\n",
              "       [0.49067164, 0.        , 0.83333333, 0.99131323],\n",
              "       [0.59328358, 0.        , 0.83333333, 1.        ],\n",
              "       ...,\n",
              "       [0.18843284, 0.        , 0.70238095, 0.        ],\n",
              "       [0.31156716, 0.        , 0.95238095, 0.        ],\n",
              "       [0.36380597, 0.        , 0.75      , 0.98058252]])"
            ]
          },
          "execution_count": 50,
          "metadata": {},
          "output_type": "execute_result"
        }
      ],
      "source": [
        "# Feature Scaling using MinMaxScaler \n",
        "\n",
        "scaler = MinMaxScaler() # # Nilainya di ubah skalanya menjadi 0 sampai 1\n",
        "scaler.fit(X_train_num) # .fit itu proses tranning untuk mencari kolom yang akan di ubah scaler nya, .fit hanya di gunakan untuk X_train dan tidak untuk X_test\n",
        "                        # fit itu proses pencarian batas 0 dan batas 1\n",
        "                        \n",
        "X_train_num_scaled = scaler.transform(X_train_num) #setelah di lakukan scaler baru di transform/mengubah nilainya menjadi 0 sampai 1\n",
        "X_test_num_scaled = scaler.transform(X_test_num)\n",
        "X_train_num_scaled"
      ]
    },
    {
      "cell_type": "markdown",
      "metadata": {
        "id": "V_d1pA4kc2jS"
      },
      "source": [
        "### Feature Encoding\n",
        "\n",
        "Feature encoding proses pengubahan suatu data berupa kategorik yang akan diubah menjadi bentuknya menjadi numerik/angka, karena dalam meachine learning tidak bisa memproses suatu string . Jadi harus di ubah ke angka, salah satu caranya orgin encoding"
      ]
    },
    {
      "cell_type": "code",
      "execution_count": 51,
      "metadata": {
        "colab": {
          "base_uri": "https://localhost:8080/",
          "height": 424
        },
        "id": "f739LPVtc4-C",
        "outputId": "6e501eb3-83fb-4b3b-ccec-39f85a0d7f54"
      },
      "outputs": [
        {
          "data": {
            "text/html": [
              "<div>\n",
              "<style scoped>\n",
              "    .dataframe tbody tr th:only-of-type {\n",
              "        vertical-align: middle;\n",
              "    }\n",
              "\n",
              "    .dataframe tbody tr th {\n",
              "        vertical-align: top;\n",
              "    }\n",
              "\n",
              "    .dataframe thead th {\n",
              "        text-align: right;\n",
              "    }\n",
              "</style>\n",
              "<table border=\"1\" class=\"dataframe\">\n",
              "  <thead>\n",
              "    <tr style=\"text-align: right;\">\n",
              "      <th></th>\n",
              "      <th>name</th>\n",
              "      <th>cab_type</th>\n",
              "    </tr>\n",
              "  </thead>\n",
              "  <tbody>\n",
              "    <tr>\n",
              "      <th>190502</th>\n",
              "      <td>Lux Black XL</td>\n",
              "      <td>Lyft</td>\n",
              "    </tr>\n",
              "    <tr>\n",
              "      <th>119148</th>\n",
              "      <td>Lux Black XL</td>\n",
              "      <td>Lyft</td>\n",
              "    </tr>\n",
              "    <tr>\n",
              "      <th>603648</th>\n",
              "      <td>UberXL</td>\n",
              "      <td>Uber</td>\n",
              "    </tr>\n",
              "    <tr>\n",
              "      <th>269185</th>\n",
              "      <td>Black SUV</td>\n",
              "      <td>Uber</td>\n",
              "    </tr>\n",
              "    <tr>\n",
              "      <th>632624</th>\n",
              "      <td>UberXL</td>\n",
              "      <td>Uber</td>\n",
              "    </tr>\n",
              "    <tr>\n",
              "      <th>...</th>\n",
              "      <td>...</td>\n",
              "      <td>...</td>\n",
              "    </tr>\n",
              "    <tr>\n",
              "      <th>516374</th>\n",
              "      <td>UberX</td>\n",
              "      <td>Uber</td>\n",
              "    </tr>\n",
              "    <tr>\n",
              "      <th>125680</th>\n",
              "      <td>UberXL</td>\n",
              "      <td>Uber</td>\n",
              "    </tr>\n",
              "    <tr>\n",
              "      <th>491926</th>\n",
              "      <td>Lux</td>\n",
              "      <td>Lyft</td>\n",
              "    </tr>\n",
              "    <tr>\n",
              "      <th>297103</th>\n",
              "      <td>Lux Black</td>\n",
              "      <td>Lyft</td>\n",
              "    </tr>\n",
              "    <tr>\n",
              "      <th>589041</th>\n",
              "      <td>UberPool</td>\n",
              "      <td>Uber</td>\n",
              "    </tr>\n",
              "  </tbody>\n",
              "</table>\n",
              "<p>554448 rows × 2 columns</p>\n",
              "</div>"
            ],
            "text/plain": [
              "                name cab_type\n",
              "190502  Lux Black XL     Lyft\n",
              "119148  Lux Black XL     Lyft\n",
              "603648        UberXL     Uber\n",
              "269185     Black SUV     Uber\n",
              "632624        UberXL     Uber\n",
              "...              ...      ...\n",
              "516374         UberX     Uber\n",
              "125680        UberXL     Uber\n",
              "491926           Lux     Lyft\n",
              "297103     Lux Black     Lyft\n",
              "589041      UberPool     Uber\n",
              "\n",
              "[554448 rows x 2 columns]"
            ]
          },
          "execution_count": 51,
          "metadata": {},
          "output_type": "execute_result"
        }
      ],
      "source": [
        "# Display X_train_cat\n",
        "\n",
        "X_train_cat"
      ]
    },
    {
      "cell_type": "code",
      "execution_count": 52,
      "metadata": {
        "colab": {
          "base_uri": "https://localhost:8080/"
        },
        "id": "IsGu-0gBdIES",
        "outputId": "33b70840-9100-414d-af78-de0859b8b64d"
      },
      "outputs": [
        {
          "data": {
            "text/plain": [
              "OrdinalEncoder()"
            ]
          },
          "execution_count": 52,
          "metadata": {},
          "output_type": "execute_result"
        }
      ],
      "source": [
        "# Feature Encoding using Ordinal Encoder\n",
        "# Ordinalencoder karena data ordinal\n",
        "\n",
        "encoder = OrdinalEncoder()\n",
        "encoder.fit(X_train_cat)"
      ]
    },
    {
      "cell_type": "code",
      "execution_count": 53,
      "metadata": {},
      "outputs": [
        {
          "data": {
            "text/plain": [
              "array([[ 4.,  0.],\n",
              "       [ 4.,  0.],\n",
              "       [11.,  1.],\n",
              "       ...,\n",
              "       [ 2.,  0.],\n",
              "       [ 3.,  0.],\n",
              "       [ 9.,  1.]])"
            ]
          },
          "execution_count": 53,
          "metadata": {},
          "output_type": "execute_result"
        }
      ],
      "source": [
        "# Data X_train_set menjadi matriks\n",
        "# Melakukan encoding bagi category ordinal sesuai dengan urutan yang telah ditentukan\n",
        "\n",
        "X_train_cat_encoded = encoder.transform(X_train_cat) # lakukan transform train berdasarkan fit\n",
        "X_train_cat_encoded"
      ]
    },
    {
      "cell_type": "code",
      "execution_count": 54,
      "metadata": {},
      "outputs": [
        {
          "data": {
            "text/plain": [
              "array([[12.,  1.],\n",
              "       [ 7.,  0.],\n",
              "       [ 8.,  1.],\n",
              "       ...,\n",
              "       [ 2.,  0.],\n",
              "       [10.,  1.],\n",
              "       [ 3.,  0.]])"
            ]
          },
          "execution_count": 54,
          "metadata": {},
          "output_type": "execute_result"
        }
      ],
      "source": [
        "# Data X_test_set menjadi matriks\n",
        "# Melakukan encoding bagi category ordinal sesuai dengan urutan yang telah ditentukan\n",
        "\n",
        "X_test_cat_encoded = encoder.transform(X_test_cat)  # lakukan transform test berdasarkan fit\n",
        "X_test_cat_encoded"
      ]
    },
    {
      "cell_type": "markdown",
      "metadata": {
        "id": "qtuJgFBze1xr"
      },
      "source": [
        "### Concate between Numerical Columns and Categorical Columns"
      ]
    },
    {
      "cell_type": "code",
      "execution_count": 55,
      "metadata": {
        "colab": {
          "base_uri": "https://localhost:8080/"
        },
        "id": "euHdYQJefeVR",
        "outputId": "34f5316c-8bec-4714-8404-5202ab42a239"
      },
      "outputs": [
        {
          "data": {
            "text/plain": [
              "array([[ 0.55783582,  0.        ,  0.6547619 ,  0.66198263,  4.        ,\n",
              "         0.        ],\n",
              "       [ 0.49067164,  0.        ,  0.83333333,  0.99131323,  4.        ,\n",
              "         0.        ],\n",
              "       [ 0.59328358,  0.        ,  0.83333333,  1.        , 11.        ,\n",
              "         1.        ],\n",
              "       ...,\n",
              "       [ 0.18843284,  0.        ,  0.70238095,  0.        ,  2.        ,\n",
              "         0.        ],\n",
              "       [ 0.31156716,  0.        ,  0.95238095,  0.        ,  3.        ,\n",
              "         0.        ],\n",
              "       [ 0.36380597,  0.        ,  0.75      ,  0.98058252,  9.        ,\n",
              "         1.        ]])"
            ]
          },
          "execution_count": 55,
          "metadata": {},
          "output_type": "execute_result"
        }
      ],
      "source": [
        "# Concate Columns\n",
        "# Satukan keempat dataset train dan test yang telah melewati proses scaling dan encoding (X_train_num_sc, X_train_cat_encoded)\n",
        "X_train_final = np.concatenate([X_train_num_scaled, X_train_cat_encoded], axis=1)\n",
        "X_test_final = np.concatenate([X_test_num_scaled, X_test_cat_encoded], axis=1)\n",
        "X_train_final"
      ]
    },
    {
      "cell_type": "markdown",
      "metadata": {},
      "source": [
        "Data numerik dan kategorik yang telah diencode digabungkan lagi matriksnya."
      ]
    },
    {
      "cell_type": "code",
      "execution_count": 56,
      "metadata": {
        "colab": {
          "base_uri": "https://localhost:8080/",
          "height": 488
        },
        "id": "1RCHRajof7Jz",
        "outputId": "c14efb06-9319-451f-c983-ac59ea429dba"
      },
      "outputs": [
        {
          "data": {
            "text/html": [
              "<div>\n",
              "<style scoped>\n",
              "    .dataframe tbody tr th:only-of-type {\n",
              "        vertical-align: middle;\n",
              "    }\n",
              "\n",
              "    .dataframe tbody tr th {\n",
              "        vertical-align: top;\n",
              "    }\n",
              "\n",
              "    .dataframe thead tr th {\n",
              "        text-align: left;\n",
              "    }\n",
              "</style>\n",
              "<table border=\"1\" class=\"dataframe\">\n",
              "  <thead>\n",
              "    <tr>\n",
              "      <th></th>\n",
              "      <th>distance</th>\n",
              "      <th>surge_multiplier</th>\n",
              "      <th>moonPhase</th>\n",
              "      <th>visibility</th>\n",
              "      <th>name</th>\n",
              "      <th>cab_type</th>\n",
              "    </tr>\n",
              "  </thead>\n",
              "  <tbody>\n",
              "    <tr>\n",
              "      <th>0</th>\n",
              "      <td>0.557836</td>\n",
              "      <td>0.0</td>\n",
              "      <td>0.654762</td>\n",
              "      <td>0.661983</td>\n",
              "      <td>4.0</td>\n",
              "      <td>0.0</td>\n",
              "    </tr>\n",
              "    <tr>\n",
              "      <th>1</th>\n",
              "      <td>0.490672</td>\n",
              "      <td>0.0</td>\n",
              "      <td>0.833333</td>\n",
              "      <td>0.991313</td>\n",
              "      <td>4.0</td>\n",
              "      <td>0.0</td>\n",
              "    </tr>\n",
              "    <tr>\n",
              "      <th>2</th>\n",
              "      <td>0.593284</td>\n",
              "      <td>0.0</td>\n",
              "      <td>0.833333</td>\n",
              "      <td>1.000000</td>\n",
              "      <td>11.0</td>\n",
              "      <td>1.0</td>\n",
              "    </tr>\n",
              "    <tr>\n",
              "      <th>3</th>\n",
              "      <td>0.492537</td>\n",
              "      <td>0.0</td>\n",
              "      <td>0.702381</td>\n",
              "      <td>0.990036</td>\n",
              "      <td>1.0</td>\n",
              "      <td>1.0</td>\n",
              "    </tr>\n",
              "    <tr>\n",
              "      <th>4</th>\n",
              "      <td>0.533582</td>\n",
              "      <td>0.0</td>\n",
              "      <td>0.833333</td>\n",
              "      <td>0.985692</td>\n",
              "      <td>11.0</td>\n",
              "      <td>1.0</td>\n",
              "    </tr>\n",
              "    <tr>\n",
              "      <th>...</th>\n",
              "      <td>...</td>\n",
              "      <td>...</td>\n",
              "      <td>...</td>\n",
              "      <td>...</td>\n",
              "      <td>...</td>\n",
              "      <td>...</td>\n",
              "    </tr>\n",
              "    <tr>\n",
              "      <th>554443</th>\n",
              "      <td>0.563433</td>\n",
              "      <td>0.0</td>\n",
              "      <td>0.000000</td>\n",
              "      <td>0.992846</td>\n",
              "      <td>10.0</td>\n",
              "      <td>1.0</td>\n",
              "    </tr>\n",
              "    <tr>\n",
              "      <th>554444</th>\n",
              "      <td>1.000000</td>\n",
              "      <td>0.0</td>\n",
              "      <td>0.333333</td>\n",
              "      <td>1.000000</td>\n",
              "      <td>11.0</td>\n",
              "      <td>1.0</td>\n",
              "    </tr>\n",
              "    <tr>\n",
              "      <th>554445</th>\n",
              "      <td>0.188433</td>\n",
              "      <td>0.0</td>\n",
              "      <td>0.702381</td>\n",
              "      <td>0.000000</td>\n",
              "      <td>2.0</td>\n",
              "      <td>0.0</td>\n",
              "    </tr>\n",
              "    <tr>\n",
              "      <th>554446</th>\n",
              "      <td>0.311567</td>\n",
              "      <td>0.0</td>\n",
              "      <td>0.952381</td>\n",
              "      <td>0.000000</td>\n",
              "      <td>3.0</td>\n",
              "      <td>0.0</td>\n",
              "    </tr>\n",
              "    <tr>\n",
              "      <th>554447</th>\n",
              "      <td>0.363806</td>\n",
              "      <td>0.0</td>\n",
              "      <td>0.750000</td>\n",
              "      <td>0.980583</td>\n",
              "      <td>9.0</td>\n",
              "      <td>1.0</td>\n",
              "    </tr>\n",
              "  </tbody>\n",
              "</table>\n",
              "<p>554448 rows × 6 columns</p>\n",
              "</div>"
            ],
            "text/plain": [
              "        distance surge_multiplier moonPhase visibility  name cab_type\n",
              "0       0.557836              0.0  0.654762   0.661983   4.0      0.0\n",
              "1       0.490672              0.0  0.833333   0.991313   4.0      0.0\n",
              "2       0.593284              0.0  0.833333   1.000000  11.0      1.0\n",
              "3       0.492537              0.0  0.702381   0.990036   1.0      1.0\n",
              "4       0.533582              0.0  0.833333   0.985692  11.0      1.0\n",
              "...          ...              ...       ...        ...   ...      ...\n",
              "554443  0.563433              0.0  0.000000   0.992846  10.0      1.0\n",
              "554444  1.000000              0.0  0.333333   1.000000  11.0      1.0\n",
              "554445  0.188433              0.0  0.702381   0.000000   2.0      0.0\n",
              "554446  0.311567              0.0  0.952381   0.000000   3.0      0.0\n",
              "554447  0.363806              0.0  0.750000   0.980583   9.0      1.0\n",
              "\n",
              "[554448 rows x 6 columns]"
            ]
          },
          "execution_count": 56,
          "metadata": {},
          "output_type": "execute_result"
        }
      ],
      "source": [
        "# Create DataFrame of `X_train_final`\n",
        "\n",
        "X_train_final_df = pd.DataFrame(X_train_final, columns=[num_kolom+cat_kolom])\n",
        "X_train_final_df"
      ]
    },
    {
      "cell_type": "markdown",
      "metadata": {},
      "source": [
        "Matriks yang sudah digabung diubah menjadi dataframe lagi."
      ]
    },
    {
      "cell_type": "markdown",
      "metadata": {
        "id": "y0m4W149gVMG"
      },
      "source": [
        "# 6 - Model Definition"
      ]
    },
    {
      "cell_type": "markdown",
      "metadata": {
        "id": "1SdhZSz_gefu"
      },
      "source": [
        "Notes : \n",
        "\n",
        "1. Algoritma yang dipakai adalah `Linear Regression`. \n",
        "\n",
        "2. Metrics yang akan dipakai adalah `Mean Absolute Error (MAE)`.\n",
        "\n",
        "Model Definition yang saya gunakan adalah linear regresi. Karena Linear Regresi dapat digunakan untuk mengetahui arah dari hubungan antara Target dengan fitur, berdasarkan proses data.corr().sort_values('price',ascending=False, key=abs).index sebelumnya terdapat fitur yang memiliki hubungan positif untuk memprediksi nilai dari variabel target. Berdasarkan hal ini maka saya akan mendefinisikan modelnya berupa linear regresi dan utuk matriks yang digunakan berupa MAE dan R2."
      ]
    },
    {
      "cell_type": "code",
      "execution_count": 57,
      "metadata": {
        "id": "Hry-6dHzgrew"
      },
      "outputs": [],
      "source": [
        "# Training using Linear Regression\n",
        "# Algoritma yang akan di gunakan untuk memproses data adalah linear regression dan metrics yang digunakan adalah MAE\n",
        "\n",
        "model_lin_reg = LinearRegression()"
      ]
    },
    {
      "cell_type": "markdown",
      "metadata": {
        "id": "zPOdW8qjg7Pg"
      },
      "source": [
        "# 7 - Model Training"
      ]
    },
    {
      "cell_type": "markdown",
      "metadata": {
        "id": "dA99vsNig9NC"
      },
      "source": [
        "> Cell pada bagian ini hanya berisi code untuk melatih model dan output yang dihasilkan. Lakukan beberapa kali proses training dengan hyperparameter yang berbeda untuk melihat hasil yang didapatkan. Analisis dan narasikan hasil ini pada bagian Model Evaluation."
      ]
    },
    {
      "cell_type": "code",
      "execution_count": 58,
      "metadata": {
        "colab": {
          "base_uri": "https://localhost:8080/"
        },
        "id": "zlMow_XbhEbp",
        "outputId": "1cf0db8f-a9a4-4ea6-d549-c54c8252dbc6"
      },
      "outputs": [
        {
          "data": {
            "text/plain": [
              "(554448, 6)"
            ]
          },
          "execution_count": 58,
          "metadata": {},
          "output_type": "execute_result"
        }
      ],
      "source": [
        "# Train the Model\n",
        "\n",
        "X_train_final.shape"
      ]
    },
    {
      "cell_type": "code",
      "execution_count": 59,
      "metadata": {},
      "outputs": [
        {
          "data": {
            "text/plain": [
              "(554448,)"
            ]
          },
          "execution_count": 59,
          "metadata": {},
          "output_type": "execute_result"
        }
      ],
      "source": [
        "y_train.shape"
      ]
    },
    {
      "cell_type": "code",
      "execution_count": 60,
      "metadata": {},
      "outputs": [
        {
          "data": {
            "text/plain": [
              "LinearRegression()"
            ]
          },
          "execution_count": 60,
          "metadata": {},
          "output_type": "execute_result"
        }
      ],
      "source": [
        "model_lin_reg.fit(X_train_final, y_train) # .fit nya harus X_train_final yang sudah di scalling dan encoding dengan y-train"
      ]
    },
    {
      "cell_type": "markdown",
      "metadata": {
        "id": "KnCppvIThsI9"
      },
      "source": [
        "# 8 - Model Evaluation"
      ]
    },
    {
      "cell_type": "markdown",
      "metadata": {
        "id": "B2mOvTdwhx-i"
      },
      "source": [
        "> Pada bagian ini, dilakukan evaluasi model yang harus menunjukkan bagaimana performa model berdasarkan metrics yang dipilih. Hal ini harus dibuktikan dengan visualisasi tren performa dan/atau tingkat kesalahan model. Lakukan analisis terkait dengan hasil pada model dan tuliskan hasil analisisnya."
      ]
    },
    {
      "cell_type": "code",
      "execution_count": 61,
      "metadata": {
        "id": "okoXy6ZyhzZ7"
      },
      "outputs": [],
      "source": [
        "# Predict Train-Set and Test-Set \n",
        "\n",
        "y_pred_train = model_lin_reg.predict(X_train_final)\n",
        "y_pred_test = model_lin_reg.predict(X_test_final)"
      ]
    },
    {
      "cell_type": "code",
      "execution_count": 62,
      "metadata": {
        "colab": {
          "base_uri": "https://localhost:8080/"
        },
        "id": "MGVIURc1iIFd",
        "outputId": "be7edc1e-d8b1-4654-b93f-b76bc27496ab"
      },
      "outputs": [
        {
          "data": {
            "text/plain": [
              "(554448,)"
            ]
          },
          "execution_count": 62,
          "metadata": {},
          "output_type": "execute_result"
        }
      ],
      "source": [
        "y_pred_train.shape"
      ]
    },
    {
      "cell_type": "markdown",
      "metadata": {},
      "source": [
        "Pada bagian ini, dilakukan evaluasi model yang harus menunjukkan bagaimana performa model berdasarkan metrics yang dipilih. Hal ini harus dibuktikan dengan visualisasi tren performa dan/atau tingkat kesalahan model."
      ]
    },
    {
      "cell_type": "code",
      "execution_count": 63,
      "metadata": {
        "colab": {
          "base_uri": "https://localhost:8080/"
        },
        "id": "0OGzYJcDiZ-5",
        "outputId": "715fd518-21ea-47fa-ae71-3243367d559a"
      },
      "outputs": [
        {
          "name": "stdout",
          "output_type": "stream",
          "text": [
            "MAE Train-Set :  4.85772497411483\n",
            "MAE Test-Set  :  4.848679161113726\n",
            "\n",
            "r2score Train-Set :  0.5067354034150156\n",
            "r2score Test-Set  :  0.510095351757546\n"
          ]
        }
      ],
      "source": [
        "# Model Evaluation using MAE \n",
        "\n",
        "print('MAE Train-Set : ', mean_absolute_error(y_train, y_pred_train))\n",
        "print('MAE Test-Set  : ', mean_absolute_error(y_test, y_pred_test))\n",
        "print('')\n",
        "\n",
        "# Model Evaluation menggunakan MAE\n",
        "print('r2score Train-Set : ', r2_score(y_train, y_pred_train))\n",
        "print('r2score Test-Set  : ', r2_score(y_test, y_pred_test))"
      ]
    },
    {
      "cell_type": "markdown",
      "metadata": {},
      "source": [
        "Nilai MAE train set dan test set menggambarkan seberapa besar eror rata-rata per prediksinya yakni +- 4.9. Kedua train dan test bernilai hampir sama dan memiliki angka yang relatif kecil sehingga dapat ditentukan sebagai Good fit.\n",
        "\n",
        "Nilai R2 mencerminkan % kesesuaian model yang dibuat dengan keadaan aktual. Model yang di memiliki kemiripan 50% dengan kondisi aktual, perbedaan antara train dan test juga kecil. Sama dengan hasil MAE, model ini ditentukan sebagai Good fit meskipun hanya mengambarkan 50 % dengan kondisi aktual."
      ]
    },
    {
      "cell_type": "markdown",
      "metadata": {
        "id": "ofyO5tNCkRNA"
      },
      "source": [
        "# 9 - Model Saving"
      ]
    },
    {
      "cell_type": "code",
      "execution_count": 64,
      "metadata": {
        "id": "XsOiO51GkTJh"
      },
      "outputs": [],
      "source": [
        "# Save the Files\n",
        "\n",
        "import pickle\n",
        "\n",
        "with open('model_scaler.pkl', 'wb') as file_1:\n",
        "  pickle.dump(scaler, file_1)\n",
        "\n",
        "with open('model_encoder.pkl', 'wb') as file_2:\n",
        "  pickle.dump(encoder, file_2)\n",
        "\n",
        "with open('model_lin_reg.pkl', 'wb') as file_3:\n",
        "  pickle.dump(model_lin_reg, file_3)\n",
        "\n",
        "with open('list_num_kolom.txt', 'w') as file_4:\n",
        "  file_4.write(str(num_kolom))\n",
        "\n",
        "with open('list_cat_kolom.txt', 'w') as file_5:\n",
        "  file_5.write(str(cat_kolom))"
      ]
    },
    {
      "cell_type": "markdown",
      "metadata": {
        "id": "9wbpbJGgmj5O"
      },
      "source": [
        "# 10 - Model Inference"
      ]
    },
    {
      "cell_type": "markdown",
      "metadata": {
        "id": "MGECi_LLoQYv"
      },
      "source": [
        "## Load Model"
      ]
    },
    {
      "cell_type": "code",
      "execution_count": 65,
      "metadata": {
        "id": "kZLAYB9snNzB"
      },
      "outputs": [],
      "source": [
        "# Load All Files \n",
        "\n",
        "import joblib \n",
        "import json\n",
        "\n",
        "with open('model_scaler.pkl', 'rb') as file_1:  # variabel model_lin_reg akan di dump /save jadi mmodel_scaler.pkl.pkl\n",
        "   model_scaler = pickle.load(file_1)\n",
        "\n",
        "with open('model_encoder.pkl', 'rb') as file_2: # variabel scaler akan di dump /save jadi model_encoder.pkl\n",
        "  model_encoder = pickle.load(file_2)\n",
        "\n",
        "with open('model_lin_reg.pkl', 'rb') as file_3: # variabel scaler akan di dump /save jadi model_lin_reg.pkl\n",
        "  model_lin_reg = pickle.load(file_3)\n",
        "\n",
        "with open('list_num_kolom.txt', 'r') as file_4: # variabel scaler akan di dump /save jadi list_num_kolom.txt\n",
        "  list_num_columns = file_4.read()\n",
        "\n",
        "with open('list_cat_kolom.txt', 'r') as file_5: # variabel scaler akan di dump /save jadi list_cat_kolom.txt\n",
        "  list_cat_columns = file_5.read()"
      ]
    },
    {
      "cell_type": "markdown",
      "metadata": {
        "id": "-hb51gleoIyu"
      },
      "source": [
        "## Inferencing\n",
        "Lakukan test terhadap data inference (data yang akan ada di masa depan). Model yang sudah dilatih akan dicoba pada data yang bukan termasuk ke dalam train-set ataupun test-set. Data ini harus dalam format yang asli, bukan data yang sudah di-scaled."
      ]
    },
    {
      "cell_type": "code",
      "execution_count": 66,
      "metadata": {
        "colab": {
          "base_uri": "https://localhost:8080/",
          "height": 462
        },
        "id": "W15WCY3CoFH4",
        "outputId": "8f2d4196-4eaf-451c-a8eb-d35592eff363"
      },
      "outputs": [
        {
          "data": {
            "text/html": [
              "<div>\n",
              "<style scoped>\n",
              "    .dataframe tbody tr th:only-of-type {\n",
              "        vertical-align: middle;\n",
              "    }\n",
              "\n",
              "    .dataframe tbody tr th {\n",
              "        vertical-align: top;\n",
              "    }\n",
              "\n",
              "    .dataframe thead th {\n",
              "        text-align: right;\n",
              "    }\n",
              "</style>\n",
              "<table border=\"1\" class=\"dataframe\">\n",
              "  <thead>\n",
              "    <tr style=\"text-align: right;\">\n",
              "      <th></th>\n",
              "      <th>price</th>\n",
              "      <th>distance</th>\n",
              "      <th>surge_multiplier</th>\n",
              "      <th>moonPhase</th>\n",
              "      <th>visibility</th>\n",
              "      <th>name</th>\n",
              "      <th>cab_type</th>\n",
              "    </tr>\n",
              "  </thead>\n",
              "  <tbody>\n",
              "    <tr>\n",
              "      <th>0</th>\n",
              "      <td>7.0</td>\n",
              "      <td>3.05</td>\n",
              "      <td>1.00</td>\n",
              "      <td>0.33</td>\n",
              "      <td>3.606</td>\n",
              "      <td>Shared</td>\n",
              "      <td>Lyft</td>\n",
              "    </tr>\n",
              "    <tr>\n",
              "      <th>1</th>\n",
              "      <td>13.5</td>\n",
              "      <td>4.22</td>\n",
              "      <td>1.00</td>\n",
              "      <td>0.37</td>\n",
              "      <td>10.000</td>\n",
              "      <td>Lyft</td>\n",
              "      <td>Lyft</td>\n",
              "    </tr>\n",
              "    <tr>\n",
              "      <th>2</th>\n",
              "      <td>7.5</td>\n",
              "      <td>1.57</td>\n",
              "      <td>1.00</td>\n",
              "      <td>0.79</td>\n",
              "      <td>9.920</td>\n",
              "      <td>UberPool</td>\n",
              "      <td>Uber</td>\n",
              "    </tr>\n",
              "    <tr>\n",
              "      <th>3</th>\n",
              "      <td>13.5</td>\n",
              "      <td>1.04</td>\n",
              "      <td>1.00</td>\n",
              "      <td>0.89</td>\n",
              "      <td>1.413</td>\n",
              "      <td>Lux</td>\n",
              "      <td>Lyft</td>\n",
              "    </tr>\n",
              "    <tr>\n",
              "      <th>4</th>\n",
              "      <td>26.0</td>\n",
              "      <td>0.61</td>\n",
              "      <td>1.00</td>\n",
              "      <td>0.79</td>\n",
              "      <td>9.928</td>\n",
              "      <td>Lux Black XL</td>\n",
              "      <td>Lyft</td>\n",
              "    </tr>\n",
              "    <tr>\n",
              "      <th>5</th>\n",
              "      <td>26.0</td>\n",
              "      <td>0.72</td>\n",
              "      <td>1.00</td>\n",
              "      <td>0.72</td>\n",
              "      <td>10.000</td>\n",
              "      <td>Black SUV</td>\n",
              "      <td>Uber</td>\n",
              "    </tr>\n",
              "    <tr>\n",
              "      <th>6</th>\n",
              "      <td>7.0</td>\n",
              "      <td>1.56</td>\n",
              "      <td>1.00</td>\n",
              "      <td>0.64</td>\n",
              "      <td>4.273</td>\n",
              "      <td>Lyft</td>\n",
              "      <td>Lyft</td>\n",
              "    </tr>\n",
              "    <tr>\n",
              "      <th>7</th>\n",
              "      <td>13.5</td>\n",
              "      <td>1.12</td>\n",
              "      <td>1.25</td>\n",
              "      <td>0.86</td>\n",
              "      <td>1.348</td>\n",
              "      <td>Lyft XL</td>\n",
              "      <td>Lyft</td>\n",
              "    </tr>\n",
              "    <tr>\n",
              "      <th>8</th>\n",
              "      <td>7.0</td>\n",
              "      <td>2.46</td>\n",
              "      <td>1.00</td>\n",
              "      <td>0.72</td>\n",
              "      <td>9.996</td>\n",
              "      <td>Shared</td>\n",
              "      <td>Lyft</td>\n",
              "    </tr>\n",
              "    <tr>\n",
              "      <th>9</th>\n",
              "      <td>9.5</td>\n",
              "      <td>1.34</td>\n",
              "      <td>1.00</td>\n",
              "      <td>0.30</td>\n",
              "      <td>2.994</td>\n",
              "      <td>UberX</td>\n",
              "      <td>Uber</td>\n",
              "    </tr>\n",
              "  </tbody>\n",
              "</table>\n",
              "</div>"
            ],
            "text/plain": [
              "   price  distance  surge_multiplier  moonPhase  visibility          name  \\\n",
              "0    7.0      3.05              1.00       0.33       3.606        Shared   \n",
              "1   13.5      4.22              1.00       0.37      10.000          Lyft   \n",
              "2    7.5      1.57              1.00       0.79       9.920      UberPool   \n",
              "3   13.5      1.04              1.00       0.89       1.413           Lux   \n",
              "4   26.0      0.61              1.00       0.79       9.928  Lux Black XL   \n",
              "5   26.0      0.72              1.00       0.72      10.000     Black SUV   \n",
              "6    7.0      1.56              1.00       0.64       4.273          Lyft   \n",
              "7   13.5      1.12              1.25       0.86       1.348       Lyft XL   \n",
              "8    7.0      2.46              1.00       0.72       9.996        Shared   \n",
              "9    9.5      1.34              1.00       0.30       2.994         UberX   \n",
              "\n",
              "  cab_type  \n",
              "0     Lyft  \n",
              "1     Lyft  \n",
              "2     Uber  \n",
              "3     Lyft  \n",
              "4     Lyft  \n",
              "5     Uber  \n",
              "6     Lyft  \n",
              "7     Lyft  \n",
              "8     Lyft  \n",
              "9     Uber  "
            ]
          },
          "execution_count": 66,
          "metadata": {},
          "output_type": "execute_result"
        }
      ],
      "source": [
        "# Display Inference-Set \n",
        "\n",
        "data_inf"
      ]
    },
    {
      "cell_type": "code",
      "execution_count": 86,
      "metadata": {},
      "outputs": [
        {
          "data": {
            "text/plain": [
              "price               0\n",
              "distance            0\n",
              "surge_multiplier    0\n",
              "moonPhase           0\n",
              "visibility          0\n",
              "name                0\n",
              "cab_type            0\n",
              "dtype: int64"
            ]
          },
          "execution_count": 86,
          "metadata": {},
          "output_type": "execute_result"
        }
      ],
      "source": [
        "data_inf.isnull().sum() # Melihat masih ada missing value apa tidak pada data inference"
      ]
    },
    {
      "cell_type": "code",
      "execution_count": 67,
      "metadata": {},
      "outputs": [
        {
          "data": {
            "text/plain": [
              "['distance', 'surge_multiplier', 'moonPhase', 'visibility']"
            ]
          },
          "execution_count": 67,
          "metadata": {},
          "output_type": "execute_result"
        }
      ],
      "source": [
        "# Convert `num_columns` and `cat_columns` into List\n",
        "\n",
        "import ast\n",
        "\n",
        "list_num_columns = ast.literal_eval(list_num_columns)\n",
        "list_cat_columns = ast.literal_eval(list_cat_columns)\n",
        "list_num_columns"
      ]
    },
    {
      "cell_type": "code",
      "execution_count": 79,
      "metadata": {
        "colab": {
          "base_uri": "https://localhost:8080/",
          "height": 363
        },
        "id": "HAxhuAUtoau1",
        "outputId": "42b5f69a-0556-4aef-d712-7fa0f94319ff"
      },
      "outputs": [
        {
          "data": {
            "text/html": [
              "<div>\n",
              "<style scoped>\n",
              "    .dataframe tbody tr th:only-of-type {\n",
              "        vertical-align: middle;\n",
              "    }\n",
              "\n",
              "    .dataframe tbody tr th {\n",
              "        vertical-align: top;\n",
              "    }\n",
              "\n",
              "    .dataframe thead th {\n",
              "        text-align: right;\n",
              "    }\n",
              "</style>\n",
              "<table border=\"1\" class=\"dataframe\">\n",
              "  <thead>\n",
              "    <tr style=\"text-align: right;\">\n",
              "      <th></th>\n",
              "      <th>distance</th>\n",
              "      <th>surge_multiplier</th>\n",
              "      <th>moonPhase</th>\n",
              "      <th>visibility</th>\n",
              "    </tr>\n",
              "  </thead>\n",
              "  <tbody>\n",
              "    <tr>\n",
              "      <th>0</th>\n",
              "      <td>3.05</td>\n",
              "      <td>1.00</td>\n",
              "      <td>0.33</td>\n",
              "      <td>3.606</td>\n",
              "    </tr>\n",
              "    <tr>\n",
              "      <th>1</th>\n",
              "      <td>4.22</td>\n",
              "      <td>1.00</td>\n",
              "      <td>0.37</td>\n",
              "      <td>10.000</td>\n",
              "    </tr>\n",
              "    <tr>\n",
              "      <th>2</th>\n",
              "      <td>1.57</td>\n",
              "      <td>1.00</td>\n",
              "      <td>0.79</td>\n",
              "      <td>9.920</td>\n",
              "    </tr>\n",
              "    <tr>\n",
              "      <th>3</th>\n",
              "      <td>1.04</td>\n",
              "      <td>1.00</td>\n",
              "      <td>0.89</td>\n",
              "      <td>1.413</td>\n",
              "    </tr>\n",
              "    <tr>\n",
              "      <th>4</th>\n",
              "      <td>0.61</td>\n",
              "      <td>1.00</td>\n",
              "      <td>0.79</td>\n",
              "      <td>9.928</td>\n",
              "    </tr>\n",
              "    <tr>\n",
              "      <th>5</th>\n",
              "      <td>0.72</td>\n",
              "      <td>1.00</td>\n",
              "      <td>0.72</td>\n",
              "      <td>10.000</td>\n",
              "    </tr>\n",
              "    <tr>\n",
              "      <th>6</th>\n",
              "      <td>1.56</td>\n",
              "      <td>1.00</td>\n",
              "      <td>0.64</td>\n",
              "      <td>4.273</td>\n",
              "    </tr>\n",
              "    <tr>\n",
              "      <th>7</th>\n",
              "      <td>1.12</td>\n",
              "      <td>1.25</td>\n",
              "      <td>0.86</td>\n",
              "      <td>1.348</td>\n",
              "    </tr>\n",
              "    <tr>\n",
              "      <th>8</th>\n",
              "      <td>2.46</td>\n",
              "      <td>1.00</td>\n",
              "      <td>0.72</td>\n",
              "      <td>9.996</td>\n",
              "    </tr>\n",
              "    <tr>\n",
              "      <th>9</th>\n",
              "      <td>1.34</td>\n",
              "      <td>1.00</td>\n",
              "      <td>0.30</td>\n",
              "      <td>2.994</td>\n",
              "    </tr>\n",
              "  </tbody>\n",
              "</table>\n",
              "</div>"
            ],
            "text/plain": [
              "   distance  surge_multiplier  moonPhase  visibility\n",
              "0      3.05              1.00       0.33       3.606\n",
              "1      4.22              1.00       0.37      10.000\n",
              "2      1.57              1.00       0.79       9.920\n",
              "3      1.04              1.00       0.89       1.413\n",
              "4      0.61              1.00       0.79       9.928\n",
              "5      0.72              1.00       0.72      10.000\n",
              "6      1.56              1.00       0.64       4.273\n",
              "7      1.12              1.25       0.86       1.348\n",
              "8      2.46              1.00       0.72       9.996\n",
              "9      1.34              1.00       0.30       2.994"
            ]
          },
          "execution_count": 79,
          "metadata": {},
          "output_type": "execute_result"
        }
      ],
      "source": [
        "# Split between Numerical Columns and Categorical Columns\n",
        "\n",
        "data_inf_num = data_inf[list_num_columns]\n",
        "data_inf_cat = data_inf[list_cat_columns]\n",
        "\n",
        "data_inf_num"
      ]
    },
    {
      "cell_type": "code",
      "execution_count": 80,
      "metadata": {
        "colab": {
          "base_uri": "https://localhost:8080/"
        },
        "id": "H7VFIZQjoui2",
        "outputId": "4db19e06-0b7f-49f3-ddce-0b38040066e4"
      },
      "outputs": [
        {
          "data": {
            "text/plain": [
              "array([[ 0.56529851,  0.        ,  0.28571429, -0.63362289],\n",
              "       [ 0.78358209,  0.        ,  0.33333333,  1.        ],\n",
              "       [ 0.2891791 ,  0.        ,  0.83333333,  0.97956055],\n",
              "       [ 0.19029851,  0.        ,  0.95238095, -1.19391926],\n",
              "       [ 0.11007463,  0.        ,  0.83333333,  0.9816045 ],\n",
              "       [ 0.13059701,  0.        ,  0.75      ,  1.        ],\n",
              "       [ 0.28731343,  0.        ,  0.6547619 , -0.46320899],\n",
              "       [ 0.20522388,  0.125     ,  0.91666667, -1.21052632],\n",
              "       [ 0.45522388,  0.        ,  0.75      ,  0.99897803],\n",
              "       [ 0.24626866,  0.        ,  0.25      , -0.78998467]])"
            ]
          },
          "execution_count": 80,
          "metadata": {},
          "output_type": "execute_result"
        }
      ],
      "source": [
        "# Feature Scaling and Feature Encoding\n",
        "\n",
        "data_inf_num_scaled = model_scaler.transform(data_inf_num)\n",
        "data_inf_cat_encoded = model_encoder.transform(data_inf_cat)\n",
        "data_inf_num_scaled"
      ]
    },
    {
      "cell_type": "code",
      "execution_count": 81,
      "metadata": {
        "colab": {
          "base_uri": "https://localhost:8080/"
        },
        "id": "zL4ljhPupK62",
        "outputId": "cb281cc0-6b23-4428-b5f2-029934dfee62"
      },
      "outputs": [
        {
          "data": {
            "text/plain": [
              "array([[ 0.56529851,  0.        ,  0.28571429, -0.63362289,  7.        ,\n",
              "         0.        ],\n",
              "       [ 0.78358209,  0.        ,  0.33333333,  1.        ,  5.        ,\n",
              "         0.        ],\n",
              "       [ 0.2891791 ,  0.        ,  0.83333333,  0.97956055,  9.        ,\n",
              "         1.        ],\n",
              "       [ 0.19029851,  0.        ,  0.95238095, -1.19391926,  2.        ,\n",
              "         0.        ],\n",
              "       [ 0.11007463,  0.        ,  0.83333333,  0.9816045 ,  4.        ,\n",
              "         0.        ],\n",
              "       [ 0.13059701,  0.        ,  0.75      ,  1.        ,  1.        ,\n",
              "         1.        ],\n",
              "       [ 0.28731343,  0.        ,  0.6547619 , -0.46320899,  5.        ,\n",
              "         0.        ],\n",
              "       [ 0.20522388,  0.125     ,  0.91666667, -1.21052632,  6.        ,\n",
              "         0.        ],\n",
              "       [ 0.45522388,  0.        ,  0.75      ,  0.99897803,  7.        ,\n",
              "         0.        ],\n",
              "       [ 0.24626866,  0.        ,  0.25      , -0.78998467, 10.        ,\n",
              "         1.        ]])"
            ]
          },
          "execution_count": 81,
          "metadata": {},
          "output_type": "execute_result"
        }
      ],
      "source": [
        "# Concate Numerical Columns and Categorical Columns \n",
        "\n",
        "data_inf_final = np.concatenate([data_inf_num_scaled, data_inf_cat_encoded], axis=1)\n",
        "data_inf_final"
      ]
    },
    {
      "cell_type": "code",
      "execution_count": 82,
      "metadata": {
        "colab": {
          "base_uri": "https://localhost:8080/"
        },
        "id": "WQ3vkkeYpiZN",
        "outputId": "25532f24-4b58-470f-d0ed-f7afabc40744"
      },
      "outputs": [
        {
          "data": {
            "text/plain": [
              "array([15.25692536, 21.2197061 , 11.35711946, 17.48447972, 13.40592609,\n",
              "       21.01003141, 14.37965653, 15.88629178, 13.7278595 ,  9.29646738])"
            ]
          },
          "execution_count": 82,
          "metadata": {},
          "output_type": "execute_result"
        }
      ],
      "source": [
        "# Predict using Linear Regression \n",
        "\n",
        "y_pred_inf = model_lin_reg.predict(data_inf_final)\n",
        "y_pred_inf"
      ]
    },
    {
      "cell_type": "code",
      "execution_count": 83,
      "metadata": {
        "colab": {
          "base_uri": "https://localhost:8080/",
          "height": 363
        },
        "id": "09Jbmqd2pxvj",
        "outputId": "d46778ec-cc56-4421-dbf7-414894ca94ea"
      },
      "outputs": [
        {
          "data": {
            "text/html": [
              "<div>\n",
              "<style scoped>\n",
              "    .dataframe tbody tr th:only-of-type {\n",
              "        vertical-align: middle;\n",
              "    }\n",
              "\n",
              "    .dataframe tbody tr th {\n",
              "        vertical-align: top;\n",
              "    }\n",
              "\n",
              "    .dataframe thead th {\n",
              "        text-align: right;\n",
              "    }\n",
              "</style>\n",
              "<table border=\"1\" class=\"dataframe\">\n",
              "  <thead>\n",
              "    <tr style=\"text-align: right;\">\n",
              "      <th></th>\n",
              "      <th>Rating - Prediction</th>\n",
              "    </tr>\n",
              "  </thead>\n",
              "  <tbody>\n",
              "    <tr>\n",
              "      <th>0</th>\n",
              "      <td>15.256925</td>\n",
              "    </tr>\n",
              "    <tr>\n",
              "      <th>1</th>\n",
              "      <td>21.219706</td>\n",
              "    </tr>\n",
              "    <tr>\n",
              "      <th>2</th>\n",
              "      <td>11.357119</td>\n",
              "    </tr>\n",
              "    <tr>\n",
              "      <th>3</th>\n",
              "      <td>17.484480</td>\n",
              "    </tr>\n",
              "    <tr>\n",
              "      <th>4</th>\n",
              "      <td>13.405926</td>\n",
              "    </tr>\n",
              "    <tr>\n",
              "      <th>5</th>\n",
              "      <td>21.010031</td>\n",
              "    </tr>\n",
              "    <tr>\n",
              "      <th>6</th>\n",
              "      <td>14.379657</td>\n",
              "    </tr>\n",
              "    <tr>\n",
              "      <th>7</th>\n",
              "      <td>15.886292</td>\n",
              "    </tr>\n",
              "    <tr>\n",
              "      <th>8</th>\n",
              "      <td>13.727860</td>\n",
              "    </tr>\n",
              "    <tr>\n",
              "      <th>9</th>\n",
              "      <td>9.296467</td>\n",
              "    </tr>\n",
              "  </tbody>\n",
              "</table>\n",
              "</div>"
            ],
            "text/plain": [
              "   Rating - Prediction\n",
              "0            15.256925\n",
              "1            21.219706\n",
              "2            11.357119\n",
              "3            17.484480\n",
              "4            13.405926\n",
              "5            21.010031\n",
              "6            14.379657\n",
              "7            15.886292\n",
              "8            13.727860\n",
              "9             9.296467"
            ]
          },
          "execution_count": 83,
          "metadata": {},
          "output_type": "execute_result"
        }
      ],
      "source": [
        "# Create DataFrame of Rating's Prediction\n",
        "#   Showing actual vs predicted price\n",
        "\n",
        "y_pred_inf_df = pd.DataFrame(y_pred_inf, columns=['Rating - Prediction'])\n",
        "y_pred_inf_df"
      ]
    },
    {
      "cell_type": "code",
      "execution_count": 84,
      "metadata": {
        "colab": {
          "base_uri": "https://localhost:8080/",
          "height": 479
        },
        "id": "V4nhLebTqHeb",
        "outputId": "3a665886-e17c-4f87-cf1c-bdaa44e145c0"
      },
      "outputs": [
        {
          "data": {
            "text/html": [
              "<div>\n",
              "<style scoped>\n",
              "    .dataframe tbody tr th:only-of-type {\n",
              "        vertical-align: middle;\n",
              "    }\n",
              "\n",
              "    .dataframe tbody tr th {\n",
              "        vertical-align: top;\n",
              "    }\n",
              "\n",
              "    .dataframe thead th {\n",
              "        text-align: right;\n",
              "    }\n",
              "</style>\n",
              "<table border=\"1\" class=\"dataframe\">\n",
              "  <thead>\n",
              "    <tr style=\"text-align: right;\">\n",
              "      <th></th>\n",
              "      <th>price</th>\n",
              "      <th>distance</th>\n",
              "      <th>surge_multiplier</th>\n",
              "      <th>moonPhase</th>\n",
              "      <th>visibility</th>\n",
              "      <th>name</th>\n",
              "      <th>cab_type</th>\n",
              "      <th>Rating - Prediction</th>\n",
              "    </tr>\n",
              "  </thead>\n",
              "  <tbody>\n",
              "    <tr>\n",
              "      <th>0</th>\n",
              "      <td>7.0</td>\n",
              "      <td>3.05</td>\n",
              "      <td>1.00</td>\n",
              "      <td>0.33</td>\n",
              "      <td>3.606</td>\n",
              "      <td>Shared</td>\n",
              "      <td>Lyft</td>\n",
              "      <td>15.256925</td>\n",
              "    </tr>\n",
              "    <tr>\n",
              "      <th>1</th>\n",
              "      <td>13.5</td>\n",
              "      <td>4.22</td>\n",
              "      <td>1.00</td>\n",
              "      <td>0.37</td>\n",
              "      <td>10.000</td>\n",
              "      <td>Lyft</td>\n",
              "      <td>Lyft</td>\n",
              "      <td>21.219706</td>\n",
              "    </tr>\n",
              "    <tr>\n",
              "      <th>2</th>\n",
              "      <td>7.5</td>\n",
              "      <td>1.57</td>\n",
              "      <td>1.00</td>\n",
              "      <td>0.79</td>\n",
              "      <td>9.920</td>\n",
              "      <td>UberPool</td>\n",
              "      <td>Uber</td>\n",
              "      <td>11.357119</td>\n",
              "    </tr>\n",
              "    <tr>\n",
              "      <th>3</th>\n",
              "      <td>13.5</td>\n",
              "      <td>1.04</td>\n",
              "      <td>1.00</td>\n",
              "      <td>0.89</td>\n",
              "      <td>1.413</td>\n",
              "      <td>Lux</td>\n",
              "      <td>Lyft</td>\n",
              "      <td>17.484480</td>\n",
              "    </tr>\n",
              "    <tr>\n",
              "      <th>4</th>\n",
              "      <td>26.0</td>\n",
              "      <td>0.61</td>\n",
              "      <td>1.00</td>\n",
              "      <td>0.79</td>\n",
              "      <td>9.928</td>\n",
              "      <td>Lux Black XL</td>\n",
              "      <td>Lyft</td>\n",
              "      <td>13.405926</td>\n",
              "    </tr>\n",
              "    <tr>\n",
              "      <th>5</th>\n",
              "      <td>26.0</td>\n",
              "      <td>0.72</td>\n",
              "      <td>1.00</td>\n",
              "      <td>0.72</td>\n",
              "      <td>10.000</td>\n",
              "      <td>Black SUV</td>\n",
              "      <td>Uber</td>\n",
              "      <td>21.010031</td>\n",
              "    </tr>\n",
              "    <tr>\n",
              "      <th>6</th>\n",
              "      <td>7.0</td>\n",
              "      <td>1.56</td>\n",
              "      <td>1.00</td>\n",
              "      <td>0.64</td>\n",
              "      <td>4.273</td>\n",
              "      <td>Lyft</td>\n",
              "      <td>Lyft</td>\n",
              "      <td>14.379657</td>\n",
              "    </tr>\n",
              "    <tr>\n",
              "      <th>7</th>\n",
              "      <td>13.5</td>\n",
              "      <td>1.12</td>\n",
              "      <td>1.25</td>\n",
              "      <td>0.86</td>\n",
              "      <td>1.348</td>\n",
              "      <td>Lyft XL</td>\n",
              "      <td>Lyft</td>\n",
              "      <td>15.886292</td>\n",
              "    </tr>\n",
              "    <tr>\n",
              "      <th>8</th>\n",
              "      <td>7.0</td>\n",
              "      <td>2.46</td>\n",
              "      <td>1.00</td>\n",
              "      <td>0.72</td>\n",
              "      <td>9.996</td>\n",
              "      <td>Shared</td>\n",
              "      <td>Lyft</td>\n",
              "      <td>13.727860</td>\n",
              "    </tr>\n",
              "    <tr>\n",
              "      <th>9</th>\n",
              "      <td>9.5</td>\n",
              "      <td>1.34</td>\n",
              "      <td>1.00</td>\n",
              "      <td>0.30</td>\n",
              "      <td>2.994</td>\n",
              "      <td>UberX</td>\n",
              "      <td>Uber</td>\n",
              "      <td>9.296467</td>\n",
              "    </tr>\n",
              "  </tbody>\n",
              "</table>\n",
              "</div>"
            ],
            "text/plain": [
              "   price  distance  surge_multiplier  moonPhase  visibility          name  \\\n",
              "0    7.0      3.05              1.00       0.33       3.606        Shared   \n",
              "1   13.5      4.22              1.00       0.37      10.000          Lyft   \n",
              "2    7.5      1.57              1.00       0.79       9.920      UberPool   \n",
              "3   13.5      1.04              1.00       0.89       1.413           Lux   \n",
              "4   26.0      0.61              1.00       0.79       9.928  Lux Black XL   \n",
              "5   26.0      0.72              1.00       0.72      10.000     Black SUV   \n",
              "6    7.0      1.56              1.00       0.64       4.273          Lyft   \n",
              "7   13.5      1.12              1.25       0.86       1.348       Lyft XL   \n",
              "8    7.0      2.46              1.00       0.72       9.996        Shared   \n",
              "9    9.5      1.34              1.00       0.30       2.994         UberX   \n",
              "\n",
              "  cab_type  Rating - Prediction  \n",
              "0     Lyft            15.256925  \n",
              "1     Lyft            21.219706  \n",
              "2     Uber            11.357119  \n",
              "3     Lyft            17.484480  \n",
              "4     Lyft            13.405926  \n",
              "5     Uber            21.010031  \n",
              "6     Lyft            14.379657  \n",
              "7     Lyft            15.886292  \n",
              "8     Lyft            13.727860  \n",
              "9     Uber             9.296467  "
            ]
          },
          "execution_count": 84,
          "metadata": {},
          "output_type": "execute_result"
        }
      ],
      "source": [
        "# Concate between Inference-Set and Rating's Prediction \n",
        "\n",
        "pd.concat([data_inf, y_pred_inf_df], axis=1)"
      ]
    },
    {
      "cell_type": "markdown",
      "metadata": {
        "id": "Tzr31dSyqzcQ"
      },
      "source": [
        "# 11 - Kesimpulan"
      ]
    },
    {
      "cell_type": "markdown",
      "metadata": {
        "id": "5Z0zx144q38k"
      },
      "source": [
        "Dari proses EDA ditemukan beberapa hal\n",
        "\n",
        "-   Dari scatter plot semakin besar distance semakin besar price, namun masih terdapat faktor penentu lain yang membuat price menjadi tinggi.\n",
        "-   Surge multiplier juga mempengaruhi perubahan pada price.. \n",
        "-   Cab_type, dan name mempengaruhi price.\n",
        "-   Mean untuk price setiap cab_type yang ada di boston Lyft 17.351396 / dollar dan Uber 15.795343 / dollar\n",
        "-   Kolom yang berkorelasi dengan kolom price dengan urutan price, distance, surge_multuplier, latitude, moonPhase dan seterusnya."
      ]
    },
    {
      "cell_type": "markdown",
      "metadata": {},
      "source": [
        "Untuk pengembangan selanjutnya, memperbaiki model untuk meningkatkan nilai R2 dan menurukan MAE dengan:\n",
        "\n",
        "-   Menambah atau mengurangi feature\n",
        "-   Mengganti modelnya dengan metode lain (Laso, Ridge, dan EN).\n",
        "-   Menambahkan preprocessing (polynomial feature)"
      ]
    },
    {
      "cell_type": "markdown",
      "metadata": {},
      "source": [
        "# 12 - Conceptual Problems"
      ]
    },
    {
      "cell_type": "markdown",
      "metadata": {},
      "source": [
        "Sebutkan dan jelaskan asumsi yang dipakai oleh Linear Regression !\n",
        "-    Normalitas - sebaran data terdistribusi normal\n",
        "-   Tidak ada autokorelasi (Multikolineariti) - tidak ada korelasi yang kuat antar variable bebas.\n",
        "-   Linear - hubungan antara variable bebas dan terikat adalah linear (setiap perubahan yang terjadi pada satu variabel akan diikuti perubahan dengan besaran yang sejajar pada variabel lainnya)\n",
        "-    Heteroskedastisitas - terdapat perbedaan varian dari error pada semua pengamatan bagi setiap variabel bebas pada model regresi\n",
        "\n",
        "```txtresource: \n",
        "https://www.sopiyudin.com/blog/catatan-statistik-tujuh-syarat-regresi-linear-yang-harus-dipenuhi/\n",
        "\n",
        "https://www.statistikian.com/2013/01/uji-heteroskedastisitas.html"
      ]
    },
    {
      "cell_type": "code",
      "execution_count": 92,
      "metadata": {
        "colab": {
          "base_uri": "https://localhost:8080/"
        },
        "id": "q9AnaabRrVVK",
        "outputId": "39f6349c-c9e8-41ca-d2f6-0ae05fc097cb"
      },
      "outputs": [
        {
          "name": "stdout",
          "output_type": "stream",
          "text": [
            "Intercept :  17.815533300015755\n",
            "Slope :  [ 1.37970578e+01  3.29284004e+01 -3.10112405e-03 -5.46371302e-03\n",
            " -1.48009143e+00  2.88052453e+00]\n"
          ]
        },
        {
          "data": {
            "text/plain": [
              "array([14., 33., -0., -0., -1.,  3.])"
            ]
          },
          "execution_count": 92,
          "metadata": {},
          "output_type": "execute_result"
        }
      ],
      "source": [
        "# Get Intercepet and Slope \n",
        "\n",
        "intercept = model_lin_reg.intercept_\n",
        "slope = model_lin_reg.coef_\n",
        "\n",
        "print('Intercept : ', intercept)\n",
        "print('Slope : ', slope)\n",
        "\n",
        "slope.round()"
      ]
    },
    {
      "cell_type": "markdown",
      "metadata": {},
      "source": [
        "Persamaan linier hasil pemodelan Price Prediction adalah\n",
        "\n",
        "price(y) = 17.81 + 14distance + 3.33surge_multiplier -0.03moonPhase - 0.5visibility - 1name + 3 cab_type"
      ]
    },
    {
      "cell_type": "markdown",
      "metadata": {},
      "source": [
        "Berdasarkan MAE\n",
        "\n",
        "-   Error yang dihasilkan terhadap prediksi sebesar 4.84(dollar), error tersebut diasumsikan cukup besar karena hampir mencapai 30% error.\n",
        "-   Berdasarkan skor r2 nilai cenderung sama maka diasumsikan model yang telah dibuat merupakan best fit."
      ]
    }
  ],
  "metadata": {
    "colab": {
      "collapsed_sections": [],
      "name": "P1W1D1PM - 20220808 - FTDS-014 - Machine Learning Problem Framing.ipynb",
      "provenance": [],
      "toc_visible": true
    },
    "kernelspec": {
      "display_name": "Python 3.9.12 ('base')",
      "language": "python",
      "name": "python3"
    },
    "language_info": {
      "codemirror_mode": {
        "name": "ipython",
        "version": 3
      },
      "file_extension": ".py",
      "mimetype": "text/x-python",
      "name": "python",
      "nbconvert_exporter": "python",
      "pygments_lexer": "ipython3",
      "version": "3.9.12"
    },
    "vscode": {
      "interpreter": {
        "hash": "f4cbc2fb82ae63074d8ddbad6dfccddac99fbfb746d69302fc9985b976028d0b"
      }
    }
  },
  "nbformat": 4,
  "nbformat_minor": 0
}
