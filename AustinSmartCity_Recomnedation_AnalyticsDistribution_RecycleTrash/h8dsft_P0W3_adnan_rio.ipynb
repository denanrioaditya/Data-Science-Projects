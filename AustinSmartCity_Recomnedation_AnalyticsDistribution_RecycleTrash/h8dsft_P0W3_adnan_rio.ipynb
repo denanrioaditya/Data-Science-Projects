{
 "cells": [
  {
   "cell_type": "markdown",
   "metadata": {},
   "source": [
    "# Graded Challenge 3\n",
    "\n",
    "```txt\n",
    "Adnan Rio\n",
    "Batch 14\n",
    "```"
   ]
  },
  {
   "cell_type": "markdown",
   "metadata": {},
   "source": [
    "## Description\n",
    "\n",
    "### Objective\n",
    "\n",
    "```txt\n",
    "1.  Mampu memperoleh data menggunakan BigQuery\n",
    "2.  Mampu melakukan pemrosesan data sebelum melakukan perhitungan\n",
    "3.  Mampu menerapkan konsep statistics descriptive dan inferential pada suatu permasalahan\n",
    "4.  Mampu memahami konsep statistics descriptive dan inferential\n",
    "```\n",
    "\n",
    "### Problem Statement\n",
    "\n",
    "```txt\n",
    "Kamu adalah anggota tim Data Science di Austin Smart City dan sedang mengerjakan projek analisa sistem pembuangan dan pengelolaan sampah di kota tersebut. Sebagai anggota tim, berdasarkan data yang tersedia, coba analisa data tersebut menggunakan statistik deskriptif dan inferensial, serta berikan insight kepada pemerintah kota Austin mengenai kondisi sistem pembuangan dan pengelolaan sampah. Gunakan guideline/langkah berikut untuk mempermudah kamu dalam menganalisa.\n",
    "\n",
    "1. Sebelum melakukan perhitungan dan analisa statistik, lakukan pembersihan data terlebih dahulu. Pastikan tidak ada missing value, dsb.\n",
    "\n",
    "2. Selanjutnya, lakukan eksplorasi data sederhana guna mengetahui dan mengenali data yang kamu punya. Kamu bisa lakukan hal-hal berikut untuk mengeksplorasi data kamu.\n",
    "  - Melihat rentang waktu pengambilan data\n",
    "  - Ada apa saja tipe load sampah di kota Austin berdasarkan data\n",
    "  - Mengetahui tempat pembuangan sampah ada dimana saja\n",
    "  - dsb.\n",
    "\n",
    "3. Berdasarkan central tendency (mean, median, dan modus) untuk masing-masing site, insight/informasi apa yang bisa kamu sampaikan kepada pemerintah kota? (**Caution:** Jangan gunakan pd.DataFrame.describe())\n",
    "\n",
    "4. Pilih site yang paling menarik perhatian kamu, dan berikan alasannya.\n",
    "\n",
    "5. Gunakan site yang kamu pilih untuk dicek apakah data `load_weight` ada outlier atau tidak. *Gunakan teknik yang tepat sesuai dengan distribusi dari datanya!*. Jika iya, berapa persen jumlah outliernya? dan bandingkan central tendency data yang telah dikeluarkan outliernya dengan yang belum (hasil dari perhitungan nomor 3).\n",
    "\n",
    "6. Gunakan site yang telah kamu pilih untuk dihitung range, variance, dan standar deviasi untuk data `load_weight`. Berikan insight dari hasil perhitunganmu kepada pemerintah kota (`Pastikan data yang digunakan adalah data yang sudah dibersihkan dari outlier`).\n",
    "\n",
    "7. Pemerintah kota berencana menambah site baru. Berikan analisa dan saran terkait berapa kapasitas penampungan di site baru berdasarkan perhitungan `confidence interval`. Data apa yang kamu gunakan, apakah hanya dari satu site saja atau dari keseluruhan site?\n",
    "\n",
    "8. Buatlah `analisa uji hipotesis` dari data tersebut dari data yang tersedia (kasusnya dibebaskan). Definisikan H0 dan H1 nya serta lakukan perhitungan menggunakan t-test yang sesuai dengan hipotesis kamu. Tulis kesimpulan dari hasil perhitunganmu kepada pemerintah kota (**Ingat!** pemerintah kota tidak mengerti p-value, hipotesis diterima/tidak diterima).\n",
    "\n",
    "9. Tarik benang merah dan kesimpulan dari perhitungan dan analisa yang kamu telah lakukan di langkah-langkah sebelumnya. Ceritakan kesimpulanmu kepada pemerintah kota dan **hindari** bahasa teknis yang tidak dimengerti oleh orang yang bukan data scientist!\n",
    "```"
   ]
  },
  {
   "cell_type": "markdown",
   "metadata": {},
   "source": [
    "## Working Area\n",
    "\n"
   ]
  },
  {
   "cell_type": "code",
   "execution_count": 67,
   "metadata": {},
   "outputs": [],
   "source": [
    "import pandas as pd\n",
    "import numpy as np\n",
    "import matplotlib.pyplot as plt\n",
    "import seaborn as sns\n",
    "from scipy import stats"
   ]
  },
  {
   "cell_type": "code",
   "execution_count": 3,
   "metadata": {},
   "outputs": [],
   "source": [
    "df=pd.read_csv('h8dsft_P0GC3_adnan_rio.csv')"
   ]
  },
  {
   "cell_type": "markdown",
   "metadata": {},
   "source": [
    " `query yang telah dibuat di Google Cloud Platform`"
   ]
  },
  {
   "cell_type": "code",
   "execution_count": 4,
   "metadata": {},
   "outputs": [],
   "source": [
    "#SELECT \n",
    "#wad.load_time,\n",
    "#wad.load_type,\n",
    "#wad.load_weight,\n",
    "#wad.dropoff_site, \n",
    "#FROM `bigquery-public-data.austin_waste.waste_and_diversion` AS wad\n",
    "#LIMIT 150000"
   ]
  },
  {
   "cell_type": "code",
   "execution_count": 5,
   "metadata": {},
   "outputs": [
    {
     "data": {
      "text/html": [
       "<div>\n",
       "<style scoped>\n",
       "    .dataframe tbody tr th:only-of-type {\n",
       "        vertical-align: middle;\n",
       "    }\n",
       "\n",
       "    .dataframe tbody tr th {\n",
       "        vertical-align: top;\n",
       "    }\n",
       "\n",
       "    .dataframe thead th {\n",
       "        text-align: right;\n",
       "    }\n",
       "</style>\n",
       "<table border=\"1\" class=\"dataframe\">\n",
       "  <thead>\n",
       "    <tr style=\"text-align: right;\">\n",
       "      <th></th>\n",
       "      <th>load_time</th>\n",
       "      <th>load_type</th>\n",
       "      <th>load_weight</th>\n",
       "      <th>dropoff_site</th>\n",
       "    </tr>\n",
       "  </thead>\n",
       "  <tbody>\n",
       "    <tr>\n",
       "      <th>0</th>\n",
       "      <td>2009-08-07 11:51:00 UTC</td>\n",
       "      <td>RECYCLING - SINGLE STREAM</td>\n",
       "      <td>4400.0</td>\n",
       "      <td>MRF</td>\n",
       "    </tr>\n",
       "    <tr>\n",
       "      <th>1</th>\n",
       "      <td>2008-04-11 12:31:00 UTC</td>\n",
       "      <td>RECYCLING - PAPER</td>\n",
       "      <td>1920.0</td>\n",
       "      <td>MRF</td>\n",
       "    </tr>\n",
       "    <tr>\n",
       "      <th>2</th>\n",
       "      <td>2009-01-16 12:58:00 UTC</td>\n",
       "      <td>RECYCLING - SINGLE STREAM</td>\n",
       "      <td>4140.0</td>\n",
       "      <td>MRF</td>\n",
       "    </tr>\n",
       "    <tr>\n",
       "      <th>3</th>\n",
       "      <td>2009-07-10 11:21:00 UTC</td>\n",
       "      <td>RECYCLING - SINGLE STREAM</td>\n",
       "      <td>4020.0</td>\n",
       "      <td>MRF</td>\n",
       "    </tr>\n",
       "    <tr>\n",
       "      <th>4</th>\n",
       "      <td>2006-02-03 12:36:00 UTC</td>\n",
       "      <td>RECYCLING - COMINGLE</td>\n",
       "      <td>1700.0</td>\n",
       "      <td>MRF</td>\n",
       "    </tr>\n",
       "  </tbody>\n",
       "</table>\n",
       "</div>"
      ],
      "text/plain": [
       "                 load_time                  load_type  load_weight  \\\n",
       "0  2009-08-07 11:51:00 UTC  RECYCLING - SINGLE STREAM       4400.0   \n",
       "1  2008-04-11 12:31:00 UTC          RECYCLING - PAPER       1920.0   \n",
       "2  2009-01-16 12:58:00 UTC  RECYCLING - SINGLE STREAM       4140.0   \n",
       "3  2009-07-10 11:21:00 UTC  RECYCLING - SINGLE STREAM       4020.0   \n",
       "4  2006-02-03 12:36:00 UTC       RECYCLING - COMINGLE       1700.0   \n",
       "\n",
       "  dropoff_site  \n",
       "0          MRF  \n",
       "1          MRF  \n",
       "2          MRF  \n",
       "3          MRF  \n",
       "4          MRF  "
      ]
     },
     "execution_count": 5,
     "metadata": {},
     "output_type": "execute_result"
    }
   ],
   "source": [
    "df.head(5) # Melihat 5 data teratas"
   ]
  },
  {
   "cell_type": "code",
   "execution_count": 6,
   "metadata": {},
   "outputs": [
    {
     "data": {
      "text/html": [
       "<div>\n",
       "<style scoped>\n",
       "    .dataframe tbody tr th:only-of-type {\n",
       "        vertical-align: middle;\n",
       "    }\n",
       "\n",
       "    .dataframe tbody tr th {\n",
       "        vertical-align: top;\n",
       "    }\n",
       "\n",
       "    .dataframe thead th {\n",
       "        text-align: right;\n",
       "    }\n",
       "</style>\n",
       "<table border=\"1\" class=\"dataframe\">\n",
       "  <thead>\n",
       "    <tr style=\"text-align: right;\">\n",
       "      <th></th>\n",
       "      <th>load_time</th>\n",
       "      <th>load_type</th>\n",
       "      <th>load_weight</th>\n",
       "      <th>dropoff_site</th>\n",
       "    </tr>\n",
       "  </thead>\n",
       "  <tbody>\n",
       "    <tr>\n",
       "      <th>149995</th>\n",
       "      <td>2011-08-17 12:45:00 UTC</td>\n",
       "      <td>RECYCLING - SINGLE STREAM</td>\n",
       "      <td>13380.0</td>\n",
       "      <td>TDS - MRF</td>\n",
       "    </tr>\n",
       "    <tr>\n",
       "      <th>149996</th>\n",
       "      <td>2011-06-08 10:59:00 UTC</td>\n",
       "      <td>RECYCLING - SINGLE STREAM</td>\n",
       "      <td>14080.0</td>\n",
       "      <td>TDS - MRF</td>\n",
       "    </tr>\n",
       "    <tr>\n",
       "      <th>149997</th>\n",
       "      <td>2012-04-11 12:09:00 UTC</td>\n",
       "      <td>RECYCLING - SINGLE STREAM</td>\n",
       "      <td>14260.0</td>\n",
       "      <td>TDS - MRF</td>\n",
       "    </tr>\n",
       "    <tr>\n",
       "      <th>149998</th>\n",
       "      <td>2011-08-31 02:50:00 UTC</td>\n",
       "      <td>RECYCLING - SINGLE STREAM</td>\n",
       "      <td>4100.0</td>\n",
       "      <td>TDS - MRF</td>\n",
       "    </tr>\n",
       "    <tr>\n",
       "      <th>149999</th>\n",
       "      <td>2011-07-20 11:21:00 UTC</td>\n",
       "      <td>RECYCLING - SINGLE STREAM</td>\n",
       "      <td>6220.0</td>\n",
       "      <td>TDS - MRF</td>\n",
       "    </tr>\n",
       "  </tbody>\n",
       "</table>\n",
       "</div>"
      ],
      "text/plain": [
       "                      load_time                  load_type  load_weight  \\\n",
       "149995  2011-08-17 12:45:00 UTC  RECYCLING - SINGLE STREAM      13380.0   \n",
       "149996  2011-06-08 10:59:00 UTC  RECYCLING - SINGLE STREAM      14080.0   \n",
       "149997  2012-04-11 12:09:00 UTC  RECYCLING - SINGLE STREAM      14260.0   \n",
       "149998  2011-08-31 02:50:00 UTC  RECYCLING - SINGLE STREAM       4100.0   \n",
       "149999  2011-07-20 11:21:00 UTC  RECYCLING - SINGLE STREAM       6220.0   \n",
       "\n",
       "       dropoff_site  \n",
       "149995    TDS - MRF  \n",
       "149996    TDS - MRF  \n",
       "149997    TDS - MRF  \n",
       "149998    TDS - MRF  \n",
       "149999    TDS - MRF  "
      ]
     },
     "execution_count": 6,
     "metadata": {},
     "output_type": "execute_result"
    }
   ],
   "source": [
    "df.tail()  # Melihat 5 data terbawah"
   ]
  },
  {
   "cell_type": "code",
   "execution_count": 7,
   "metadata": {},
   "outputs": [
    {
     "data": {
      "text/plain": [
       "(150000, 4)"
      ]
     },
     "execution_count": 7,
     "metadata": {},
     "output_type": "execute_result"
    }
   ],
   "source": [
    "df.shape"
   ]
  },
  {
   "cell_type": "code",
   "execution_count": 8,
   "metadata": {},
   "outputs": [
    {
     "name": "stdout",
     "output_type": "stream",
     "text": [
      "<class 'pandas.core.frame.DataFrame'>\n",
      "RangeIndex: 150000 entries, 0 to 149999\n",
      "Data columns (total 4 columns):\n",
      " #   Column        Non-Null Count   Dtype  \n",
      "---  ------        --------------   -----  \n",
      " 0   load_time     150000 non-null  object \n",
      " 1   load_type     150000 non-null  object \n",
      " 2   load_weight   144934 non-null  float64\n",
      " 3   dropoff_site  150000 non-null  object \n",
      "dtypes: float64(1), object(3)\n",
      "memory usage: 4.6+ MB\n"
     ]
    }
   ],
   "source": [
    "df.info() # Mengecek tipe data"
   ]
  },
  {
   "cell_type": "code",
   "execution_count": 9,
   "metadata": {},
   "outputs": [
    {
     "data": {
      "text/plain": [
       "load_time          0\n",
       "load_type          0\n",
       "load_weight     5066\n",
       "dropoff_site       0\n",
       "dtype: int64"
      ]
     },
     "execution_count": 9,
     "metadata": {},
     "output_type": "execute_result"
    }
   ],
   "source": [
    "df.isna().sum() # Missing value pada load_weight 5066"
   ]
  },
  {
   "cell_type": "markdown",
   "metadata": {},
   "source": [
    "`-----------------------------Gunakan guideline/langkah berikut untuk mempermudah kamu dalam menganalisa.-------------------------\n",
    "`"
   ]
  },
  {
   "cell_type": "markdown",
   "metadata": {},
   "source": [
    "`1. Sebelum melakukan perhitungan dan analisa statistik, lakukan pembersihan data terlebih dahulu. Pastikan tidak ada missing value, dsb..\n",
    "`"
   ]
  },
  {
   "cell_type": "markdown",
   "metadata": {},
   "source": [
    "Grafik dari data load_weight, garis nilai median data load_weight dan garis nilai maen data load_weight dengan tujuan untuk menentukan nilai yang akan mengisi missing value dari data load_weight."
   ]
  },
  {
   "cell_type": "code",
   "execution_count": 10,
   "metadata": {},
   "outputs": [
    {
     "data": {
      "image/png": "[encoded data removed]",
      "text/plain": [
       "<Figure size 1440x576 with 1 Axes>"
      ]
     },
     "metadata": {
      "needs_background": "light"
     },
     "output_type": "display_data"
    }
   ],
   "source": [
    "plt.figure(figsize=(20,8))\n",
    "sns.histplot(df[\"load_weight\"],kde=True,label=\"Data Load Weight\")\n",
    "plt.axvline(df[\"load_weight\"].mean(),color=\"red\",label=\"Mean data Load Weight\")\n",
    "plt.axvline(df[\"load_weight\"].median(),color=\"green\",label=\"Median dari Data Load weight\")\n",
    "plt.xlabel(\"Value\")\n",
    "plt.ylabel(\"Frequency\")\n",
    "plt.title(\"Tabel Distribusi Data Load Weight\")\n",
    "plt.legend()\n",
    "plt.show()"
   ]
  },
  {
   "cell_type": "code",
   "execution_count": 11,
   "metadata": {},
   "outputs": [
    {
     "name": "stdout",
     "output_type": "stream",
     "text": [
      "5800.0\n"
     ]
    }
   ],
   "source": [
    "print(df[\"load_weight\"].median())"
   ]
  },
  {
   "cell_type": "code",
   "execution_count": 12,
   "metadata": {},
   "outputs": [
    {
     "name": "stdout",
     "output_type": "stream",
     "text": [
      "<class 'pandas.core.frame.DataFrame'>\n",
      "RangeIndex: 150000 entries, 0 to 149999\n",
      "Data columns (total 4 columns):\n",
      " #   Column        Non-Null Count   Dtype  \n",
      "---  ------        --------------   -----  \n",
      " 0   load_time     150000 non-null  object \n",
      " 1   load_type     150000 non-null  object \n",
      " 2   load_weight   150000 non-null  float64\n",
      " 3   dropoff_site  150000 non-null  object \n",
      "dtypes: float64(1), object(3)\n",
      "memory usage: 4.6+ MB\n"
     ]
    }
   ],
   "source": [
    "df[\"load_weight\"].fillna(df[\"load_weight\"].median(),inplace=True)\n",
    "df.info()"
   ]
  },
  {
   "cell_type": "markdown",
   "metadata": {},
   "source": [
    "Berdasarkan hasil generate function dari data tesebut diperoleh tipe data dari ke-empat kolom tersebut yaitu kolom load_time dengan tipe data datetime, kolom load_type dengan tipe data object, kolom load_weight dengan tipe data float dan kolom dropoff_site dengan tipe data object. Hal yang kita bisa dapat disini adalah jika kita ingin melakukan pengolahan data berupa angka, maka kolom load_weight saja yang dapat diolah, sedangkan untuk kolom load_type dan dropoff_site yang bertipe object hanya bisa kita lihat untuk pemilihan data yang akan diolah (query)."
   ]
  },
  {
   "cell_type": "markdown",
   "metadata": {},
   "source": [
    "`2. Selanjutnya, lakukan eksplorasi data sederhana guna mengetahui dan mengenali data yang kamu punya. Kamu bisa lakukan hal-hal berikut untuk mengeksplorasi data kamu.`"
   ]
  },
  {
   "cell_type": "code",
   "execution_count": 13,
   "metadata": {},
   "outputs": [
    {
     "data": {
      "text/plain": [
       "array(['MRF', 'ELMONT', 'KRAMER', 'WILCAB', 'ZILKER', 'CLARKSON',\n",
       "       'PARK BEND', 'TDS - MRF'], dtype=object)"
      ]
     },
     "execution_count": 13,
     "metadata": {},
     "output_type": "execute_result"
    }
   ],
   "source": [
    "df.dropoff_site.unique() # # Melihat dropoff_site list"
   ]
  },
  {
   "cell_type": "code",
   "execution_count": 14,
   "metadata": {},
   "outputs": [
    {
     "name": "stdout",
     "output_type": "stream",
     "text": [
      "['RECYCLING - SINGLE STREAM' 'RECYCLING - PAPER' 'RECYCLING - COMINGLE'\n",
      " 'SWEEPING' 'BRUSH' 'TIRES' 'BULK' 'RECYCLED METAL' 'YARD TRIMMING'\n",
      " 'MIXED LITTER' 'GARBAGE COLLECTIONS' 'ORGANICS'\n",
      " 'RECYCLING - PLASTIC BAGS' 'MULCH' 'LITTER' 'YARD TRIMMING - X-MAS TREES'\n",
      " 'CONTAMINATED RECYCLING' 'DEAD ANIMAL']\n",
      "(18,)\n"
     ]
    }
   ],
   "source": [
    "# Menampilakan load_type apa saja yang ada di kota austin\n",
    "print(df[\"load_type\"].unique())\n",
    "print(df[\"load_type\"].unique().shape)"
   ]
  },
  {
   "cell_type": "code",
   "execution_count": 15,
   "metadata": {},
   "outputs": [
    {
     "name": "stdout",
     "output_type": "stream",
     "text": [
      "Mengambil data awal pada: 2009-08-07 11:51:00 UTC\n",
      "Mengambil data akhir pada: 2011-07-20 11:21:00 UTC\n"
     ]
    }
   ],
   "source": [
    "# Melihat rentang waktu pengambilan data\n",
    "print(\"Mengambil data awal pada:\",df.loc[0,\"load_time\"])\n",
    "print(\"Mengambil data akhir pada:\",df.loc[149999,\"load_time\"])"
   ]
  },
  {
   "cell_type": "code",
   "execution_count": 16,
   "metadata": {},
   "outputs": [
    {
     "name": "stdout",
     "output_type": "stream",
     "text": [
      "7088.65162\n",
      "5800.0\n",
      "0    5800.0\n",
      "Name: load_weight, dtype: float64\n"
     ]
    }
   ],
   "source": [
    "print(df[\"load_weight\"].mean()) # Total mean jumlah  load_weight di kota austin\n",
    "print(df[\"load_weight\"].median()) # Total median jumlah  load_weight di kota austin\n",
    "print(df[\"load_weight\"].mode()) # Total mode jumlah  load_weight di kota austin"
   ]
  },
  {
   "cell_type": "code",
   "execution_count": 17,
   "metadata": {},
   "outputs": [
    {
     "name": "stdout",
     "output_type": "stream",
     "text": [
      "Total data load weight dropoff site MRF adalah: 89625 data\n",
      " \n",
      "Total data load weight dropoff site ELMONT adalah: 1462 data\n",
      " \n",
      "Total data load weight dropoff site KRAMER adalah: 316 data\n",
      " \n",
      "Total data load weight dropoff site WILCAB adalah: 2754 data\n",
      " \n",
      "Total data load weight dropoff site ZILKER adalah: 1024 data\n",
      " \n",
      "Total data load weight dropoff site CLARKSON adalah: 386 data\n",
      " \n",
      "Total data load weight dropoff site PARK BEND adalah: 396 data\n",
      " \n",
      "Total data load weight dropoff site TDS - MRF adalah: 54037 data\n",
      " \n"
     ]
    }
   ],
   "source": [
    "list_dropoff = df[\"dropoff_site\"].unique()\n",
    "for a in list_dropoff:\n",
    "    Total_dropoff_site = df.loc[df[\"dropoff_site\"]==a,\"load_weight\"].count()\n",
    "    print(f\"Total data load weight dropoff site {a} adalah: {Total_dropoff_site} data\")\n",
    "    print(\" \")"
   ]
  },
  {
   "cell_type": "markdown",
   "metadata": {},
   "source": [
    "`3. Berdasarkan central tendency (mean, median, dan modus) untuk masing-masing site, insight/informasi apa yang bisa kamu sampaikan kepada pemerintah kota?`"
   ]
  },
  {
   "cell_type": "code",
   "execution_count": 18,
   "metadata": {},
   "outputs": [
    {
     "name": "stdout",
     "output_type": "stream",
     "text": [
      "Nilai dari mean dari drop off site MRF adalah: 5305.141835425384\n",
      "Nilai dari median dari drop off site MRF adalah: 4260.0\n",
      "Nilai dari modus dari drop off site MRF adalah: 3460.0\n",
      " \n",
      "Nilai dari mean dari drop off site ELMONT adalah: 5832.501367989056\n",
      "Nilai dari median dari drop off site ELMONT adalah: 5800.0\n",
      "Nilai dari modus dari drop off site ELMONT adalah: 5800.0\n",
      " \n",
      "Nilai dari mean dari drop off site KRAMER adalah: 5855.632911392405\n",
      "Nilai dari median dari drop off site KRAMER adalah: 5800.0\n",
      "Nilai dari modus dari drop off site KRAMER adalah: 5800.0\n",
      " \n",
      "Nilai dari mean dari drop off site WILCAB adalah: 5817.0660856935365\n",
      "Nilai dari median dari drop off site WILCAB adalah: 5800.0\n",
      "Nilai dari modus dari drop off site WILCAB adalah: 5800.0\n",
      " \n",
      "Nilai dari mean dari drop off site ZILKER adalah: 9316.125\n",
      "Nilai dari median dari drop off site ZILKER adalah: 7290.0\n",
      "Nilai dari modus dari drop off site ZILKER adalah: 15000.0\n",
      " \n",
      "Nilai dari mean dari drop off site CLARKSON adalah: 5833.264248704663\n",
      "Nilai dari median dari drop off site CLARKSON adalah: 5800.0\n",
      "Nilai dari modus dari drop off site CLARKSON adalah: 5800.0\n",
      " \n",
      "Nilai dari mean dari drop off site PARK BEND adalah: 7474.267676767677\n",
      "Nilai dari median dari drop off site PARK BEND adalah: 5500.0\n",
      "Nilai dari modus dari drop off site PARK BEND adalah: 5500.0\n",
      " \n",
      "Nilai dari mean dari drop off site TDS - MRF adalah: 10116.689435016748\n",
      "Nilai dari median dari drop off site TDS - MRF adalah: 10960.0\n",
      "Nilai dari modus dari drop off site TDS - MRF adalah: 12300.0\n",
      " \n"
     ]
    }
   ],
   "source": [
    "def central_tendency(b):\n",
    "    rata2 = df.loc[df[\"dropoff_site\"]==b,\"load_weight\"].mean()\n",
    "    median = df.loc[df[\"dropoff_site\"]==b,\"load_weight\"].median()\n",
    "    modus = df.loc[df[\"dropoff_site\"]==b,\"load_weight\"].mode()[0]\n",
    "    print(f\"Nilai dari mean dari drop off site {b} adalah:\",rata2)\n",
    "    print(f\"Nilai dari median dari drop off site {b} adalah:\",median)\n",
    "    print(f\"Nilai dari modus dari drop off site {b} adalah:\",modus)\n",
    "    print(\" \")\n",
    "\n",
    "for c in list_dropoff:\n",
    "    central_tendency(c)"
   ]
  },
  {
   "cell_type": "markdown",
   "metadata": {},
   "source": [
    "Disini kita mendapat beberapa informasi yang menarik diantaranya:\n",
    "\n",
    "-   Nilai mean tertinggi terdapat pada site TDS-MRF dengan nilai 10116.689435016748.\n",
    "-   Nilai mean terendah terdapat pada site MDF dengan nilai 5305.141835425384.\n",
    "-   Nilai median tertinggi terdapat pada site TDS-MRF dengan nilai 10960.0.\n",
    "-   Nilai median terendah terdapat pada site MRF dengan nilai 4260.0.\n",
    "-   Nilai modus tertinggi terdapat pada site ZILKER dengna nilai 15000.0.\n",
    "-   Nilai modus terendah terdapat pada site MRF dengan nilai 3460.0.\n",
    "\n",
    "Dari eksplorasi data tersebut terdapat beberapa hal yang menarik perhatian:\n",
    "\n",
    "-   Drop off site MRF memiliki data terbanyak tetapi memiliki nilai central of tendency terkecil diantara site lainnya.\n",
    "-   Drop off site TDS-MRF miliki data terbanyak kedua tetapi memiliki nilai central of tendency rata-rata dan median tertinggi.\n",
    "-   Drop off site WILCAB, ELMONT, KRAMER dan CLARKSON memiliki kemiripan nilai rata-rata walaupun tidak sama persis, tetapi keempat site tersebut memiliki nilai median dan modus yang sama."
   ]
  },
  {
   "cell_type": "markdown",
   "metadata": {},
   "source": [
    "`4. Pilih site yang paling menarik perhatian kamu, dan berikan alasannya.`"
   ]
  },
  {
   "cell_type": "code",
   "execution_count": 19,
   "metadata": {},
   "outputs": [],
   "source": [
    "# MRF jumlah load_weight terbanyak tapi dengan central of tendency terendah\n",
    "EDA_MRF = df.loc[df[\"dropoff_site\"]==\"MRF\",\"load_weight\"].reset_index(drop=True)\n",
    "EDA_TDS_MRF = df.loc[df[\"dropoff_site\"]==\"TDS - MRF\",\"load_weight\"].reset_index(drop=True)"
   ]
  },
  {
   "cell_type": "code",
   "execution_count": 22,
   "metadata": {},
   "outputs": [
    {
     "name": "stdout",
     "output_type": "stream",
     "text": [
      "Nilai dari Skewness data load weight dari dropoff site MRF adalah: 1.0010205810425368\n",
      "Nilai dari Kurtosis data load weight dari dropoff site MRF adalah: 0.1685185345475344\n"
     ]
    },
    {
     "data": {
      "text/plain": [
       "<matplotlib.legend.Legend at 0x27cf6296220>"
      ]
     },
     "execution_count": 22,
     "metadata": {},
     "output_type": "execute_result"
    },
    {
     "data": {
      "image/png": "[encoded data removed]",
      "text/plain": [
       "<Figure size 432x288 with 1 Axes>"
      ]
     },
     "metadata": {
      "needs_background": "light"
     },
     "output_type": "display_data"
    }
   ],
   "source": [
    "print(\"Nilai dari Skewness data load weight dari dropoff site MRF adalah:\",EDA_MRF.skew())\n",
    "print(\"Nilai dari Kurtosis data load weight dari dropoff site MRF adalah:\",EDA_MRF.kurt())\n",
    "sns.histplot(EDA_MRF,kde=True,label=\"Data Load Weight Dropoff Site MRF\",color=\"blue\")\n",
    "plt.legend()"
   ]
  },
  {
   "cell_type": "code",
   "execution_count": null,
   "metadata": {},
   "outputs": [],
   "source": [
    "# Grafik distribusi bahwa data tersebut tidak mengikuti distribusi normal dengan tipe skew right dan grafik yang terdapat dua puncak dari data tersebut sehingga nilai kurtosis disini menjadi tidak pasti."
   ]
  },
  {
   "cell_type": "code",
   "execution_count": 42,
   "metadata": {},
   "outputs": [
    {
     "name": "stdout",
     "output_type": "stream",
     "text": [
      "Nilai dari Skewness data load weight dari dropoff site TDS-MRF adalah: -0.1980694791684961\n",
      "Nilai dari Kurtosis data load weight dari dropoff site TDS-MRF adalah: -0.38273888871747896\n"
     ]
    },
    {
     "data": {
      "text/plain": [
       "<matplotlib.legend.Legend at 0x27cf95bcfa0>"
      ]
     },
     "execution_count": 42,
     "metadata": {},
     "output_type": "execute_result"
    },
    {
     "data": {
      "image/png": "[encoded data removed]",
      "text/plain": [
       "<Figure size 432x288 with 1 Axes>"
      ]
     },
     "metadata": {
      "needs_background": "light"
     },
     "output_type": "display_data"
    }
   ],
   "source": [
    "# TDS - MRF memiliki nilai mean dan median tertinggi.\n",
    "print(\"Nilai dari Skewness data load weight dari dropoff site TDS-MRF adalah:\",EDA_TDS_MRF.skew())\n",
    "print(\"Nilai dari Kurtosis data load weight dari dropoff site TDS-MRF adalah:\",EDA_TDS_MRF.kurt())\n",
    "sns.histplot(EDA_TDS_MRF,kde=True,label=\"Data Load Weight Dropoff Site MRF\",color=\"blue\")\n",
    "plt.legend()"
   ]
  },
  {
   "cell_type": "code",
   "execution_count": null,
   "metadata": {},
   "outputs": [],
   "source": [
    "# Grafik distribusi bahwa data tersebut tidak mengikuti distribusi normal dengan tipe skew right dan grafik yang terdapat dua puncak dari data tersebut sehingga nilai kurtosis disini menjadi tidak pasti."
   ]
  },
  {
   "cell_type": "code",
   "execution_count": null,
   "metadata": {},
   "outputs": [],
   "source": [
    "# Dari 2 visualisi diatas terlihat dari nilai skewness dan kurtosis terhadap dropoff_site disini ,data memiliki kecenderungan terpusat di tengah sehingga mengartikan bahwa persebaran data tersebut tidak menyebar dengan baik."
   ]
  },
  {
   "cell_type": "markdown",
   "metadata": {},
   "source": [
    "`5. Gunakan site yang kamu pilih untuk dicek apakah data load_weight ada outlier atau tidak. Gunakan teknik yang tepat sesuai dengan distribusi dari datanya!. Jika iya, berapa persen jumlah outliernya? dan bandingkan central tendency data yang telah dikeluarkan outliernya dengan yang belum (hasil dari perhitungan nomor 3)`"
   ]
  },
  {
   "cell_type": "markdown",
   "metadata": {},
   "source": [
    "`5a. Outlier Checking`"
   ]
  },
  {
   "cell_type": "code",
   "execution_count": 46,
   "metadata": {},
   "outputs": [],
   "source": [
    "def hapus_outier(e):\n",
    "    iqr_data = e.quantile([0.75])[0.75] - e.quantile([0.25])[0.25]\n",
    "    batas_atas = e.quantile([0.75])[0.75] + 1.5*iqr_data\n",
    "    batas_bawah = e.quantile([0.25])[0.25] - 1.5*iqr_data\n",
    "    for d in range(0,len(e)):\n",
    "        if e[d] > batas_atas or e[d] < batas_bawah:\n",
    "            del e[d]\n",
    "        else:\n",
    "            continue\n",
    "    e.reset_index(drop=True,inplace=True)\n",
    "    plt.figure(figsize=(10,10))\n",
    "    e.plot(kind=\"box\",title=\"Boxplot Data Setelah Hapus Outlier\")"
   ]
  },
  {
   "cell_type": "code",
   "execution_count": null,
   "metadata": {},
   "outputs": [],
   "source": [
    "plt.figure(figsize=(10,10))\n",
    "EDA_MRF.plot(kind=\"box\",title=\"Box plot Data MRF\")"
   ]
  },
  {
   "cell_type": "code",
   "execution_count": null,
   "metadata": {},
   "outputs": [],
   "source": [
    "hapus_outier(EDA_MRF)"
   ]
  },
  {
   "cell_type": "code",
   "execution_count": null,
   "metadata": {},
   "outputs": [],
   "source": [
    "hapus_outier(EDA_MRF) # Dikarena masih ada outlier lakukan syantax di samping secara berulang sampai tidak ada outlier yang terlihat pada visualisi boxplot"
   ]
  },
  {
   "cell_type": "code",
   "execution_count": null,
   "metadata": {},
   "outputs": [],
   "source": [
    "hapus_outier(EDA_MRF) # Dikarena masih ada outlier lakukan syantax di samping secara berulang sampai tidak ada outlier yang terlihat pada visualisi boxplot"
   ]
  },
  {
   "cell_type": "code",
   "execution_count": null,
   "metadata": {},
   "outputs": [],
   "source": [
    "hapus_outier(EDA_MRF) # Dikarena masih ada outlier lakukan syantax di samping secara berulang sampai tidak ada outlier yang terlihat pada visualisi boxplot"
   ]
  },
  {
   "cell_type": "code",
   "execution_count": null,
   "metadata": {},
   "outputs": [],
   "source": [
    "hapus_outier(EDA_MRF) # Dikarena masih ada outlier lakukan syantax di samping secara berulang sampai tidak ada outlier yang terlihat pada visualisi boxplot"
   ]
  },
  {
   "cell_type": "code",
   "execution_count": null,
   "metadata": {},
   "outputs": [],
   "source": [
    "hapus_outier(EDA_MRF) # Bisa dilihat tidak ada outlier yang terlihat pada visualisi boxplot"
   ]
  },
  {
   "cell_type": "code",
   "execution_count": null,
   "metadata": {},
   "outputs": [],
   "source": [
    "hapus_outier(EDA_TDS_MRF) # Dikarena masih ada outlier lakukan syantax di samping secara berulang sampai tidak ada outlier yang terlihat pada visualisi boxplot"
   ]
  },
  {
   "cell_type": "code",
   "execution_count": 50,
   "metadata": {},
   "outputs": [
    {
     "data": {
      "image/png": "[encoded data removed]",
      "text/plain": [
       "<Figure size 720x720 with 1 Axes>"
      ]
     },
     "metadata": {
      "needs_background": "light"
     },
     "output_type": "display_data"
    }
   ],
   "source": [
    "hapus_outier(EDA_TDS_MRF) #  Bisa dilihat tidak ada outlier yang terlihat pada visualisi boxplot"
   ]
  },
  {
   "cell_type": "markdown",
   "metadata": {},
   "source": [
    "`-b. Extreme Value Analysis`"
   ]
  },
  {
   "cell_type": "markdown",
   "metadata": {},
   "source": [
    "Analisis Central of Tendency sesudah dilakukannya pembersihan data outliers."
   ]
  },
  {
   "cell_type": "code",
   "execution_count": 51,
   "metadata": {},
   "outputs": [],
   "source": [
    "def EDA_CT_NO(f):\n",
    "    print(\"Jumlah data setelah pengurangan data outlier adalah:\",f.count())\n",
    "    print(\"Nilai mean setelah tidak ada outlier adalah:\",f.mean())\n",
    "    print(\"Nilai median setelah tidak ada outlier adalah:\",f.median())\n",
    "    print(\"Nilai modus setelah tidak ada outlier adalah:\",f.mode()[0])"
   ]
  },
  {
   "cell_type": "code",
   "execution_count": 52,
   "metadata": {},
   "outputs": [
    {
     "name": "stdout",
     "output_type": "stream",
     "text": [
      "Jumlah data setelah pengurangan data outlier adalah: 74821\n",
      "Nilai mean setelah tidak ada outlier adalah: 3940.5568891086727\n",
      "Nilai median setelah tidak ada outlier adalah: 3740.0\n",
      "Nilai modus setelah tidak ada outlier adalah: 3460.0\n"
     ]
    }
   ],
   "source": [
    "EDA_CT_NO(EDA_MRF)"
   ]
  },
  {
   "cell_type": "markdown",
   "metadata": {},
   "source": [
    "Perbandingan central of tendency data load_weight di dropoff_site MRF sebagai berikut:\n",
    "\n",
    "-   Jumlah data load weight pada dropoff_site MRF sebelum adalah: 89625 data\n",
    "-   Jumlah data load weight pada dropoff_site MRF setelah tidak ada outlier adalah: 74821 data\n",
    "-   Nilai dari rata-rata dari dropoff_site MRF sebelum adalah: 5305.141835425384\n",
    "-   Nilai dari rata-rata dari dropoff_site MRF setelah tidak ada outlier adalah: 3940.5568891086727\n",
    "-   Nilai dari median dari dropoff_site MRF sebelum adalah: 4260.0\n",
    "-   Nilai dari median dari dropoff_site MRF setelah tidak ada outlier adalah: 3740.0\n",
    "-   Nilai dari modus dari dropoff_site MRF sebelum adalah: 3460.0\n",
    "-   Nilai dari modus dari dropoff_site MRF setelah tidak ada outlier adalah: 3460.0\n",
    "\n",
    "Pada jumlah data ada penurunan, mean dan median dikarenakan penghapusan data outliner, sedangkan untuk nilai modus tetap tidak berubah. Penurunan jumlah data sebesar 16.5%, penurunan rata-rata sebesar 25.7% dan penurunan median sebesar 12.2%."
   ]
  },
  {
   "cell_type": "code",
   "execution_count": 47,
   "metadata": {},
   "outputs": [
    {
     "name": "stdout",
     "output_type": "stream",
     "text": [
      "Jumlah data setelah pengurangan data outlier adalah: 53740\n",
      "Nilai mean setelah tidak ada outlier adalah: 10039.086378861184\n",
      "Nilai median setelah tidak ada outlier adalah: 10920.0\n",
      "Nilai modus setelah tidak ada outlier adalah: 12300.0\n"
     ]
    }
   ],
   "source": [
    "EDA_CT_NO(EDA_TDS_MRF)"
   ]
  },
  {
   "cell_type": "markdown",
   "metadata": {},
   "source": [
    "`-d. Central Tendency dropoff_site `"
   ]
  },
  {
   "cell_type": "markdown",
   "metadata": {},
   "source": [
    "Perbandingan central of tendency data load_weight di dropoff_site TDS - MRF sebagai berikut:\n",
    "\n",
    "-   Jumlah data load weight pada dropoff site TDS - MRF sebelum adalah: 54037 data\n",
    "-   Jumlah data load weight pada dropoff site TDS - MRF setelah tidak ada outlier adalah: 53740 data\n",
    "-   Nilai dari rata-rata dari drop off site TDS - MRF sebelum adalah: 10116.689435016748\n",
    "-   Nilai dari rata-rata dari drop off site TDS - MRF setelah tidak ada outlier adalah: 10039.086378861184\n",
    "-   Nilai dari median dari drop off site TDS - MRF sebelum adalah: 10960.0\n",
    "-   Nilai dari median dari drop off site TDS - MRF setelah tidak ada outlier adalah: 10920.0\n",
    "-   Nilai dari modus dari drop off site TDS - MRF sebelum adalah: 12300.0\n",
    "-   Nilai dari modus dari drop off site TDS - MRF setelah tidak ada outlier adalah: 12300.0\n",
    "\n",
    "Pada jumlah data ada penurunan, mean dan median dikarenakan penghapusan data outliner, sedangkan untuk nilai modus tetap tidak berubah. Penurunan jumlah data sebesar 16.5%, penurunan rata-rata sebesar 0.55% dan penurunan median sebesar 0.77%."
   ]
  },
  {
   "cell_type": "markdown",
   "metadata": {},
   "source": [
    "`6. Gunakan site yang telah kamu pilih untuk dihitung range, variance, dan standar deviasi untuk data load_weight. Berikan insight dari hasil perhitunganmu kepada pemerintah kota (Pastikan data yang digunakan adalah data yang sudah dibersihkan dari outlier)`"
   ]
  },
  {
   "cell_type": "code",
   "execution_count": 55,
   "metadata": {},
   "outputs": [],
   "source": [
    "def EDA_VD(g):\n",
    "    print(\"Nilai minimum data:\",g.min())\n",
    "    print(\"Nilai maximum data:\",g.max())\n",
    "    print(\"Nilai range data:\",g.max() - g.min())\n",
    "    print(\"Nilai standar deviasi data:\",g.std())\n",
    "    print(\"Nilai dari variansi data:\",g.var())"
   ]
  },
  {
   "cell_type": "code",
   "execution_count": 56,
   "metadata": {},
   "outputs": [
    {
     "name": "stdout",
     "output_type": "stream",
     "text": [
      "Nilai minimum data: 0.0\n",
      "Nilai maximum data: 9480.0\n",
      "Nilai range data: 9480.0\n",
      "Nilai standar deviasi data: 2099.5480807287795\n",
      "Nilai dari variansi data: 4408102.143291901\n"
     ]
    }
   ],
   "source": [
    "# Variance\n",
    "\n",
    "EDA_VD(EDA_MRF)"
   ]
  },
  {
   "cell_type": "markdown",
   "metadata": {},
   "source": [
    "Kita mendapat informasi bahwa range, standar deviasi dan varansi dari data load_weight dropoff_site MRF adalah 9480, 2099.5480807287663 dan 4408102.143291847. Hal yang kita dapat dari data tersebut adalah bahwa drop_off_site sampah pada MRF berada di range 9480 dengan rentang 2099.5480807287663. Maksud dari hal tersebut adalah bahwa jumlah sampah yang di dropoff_site MRF berada di sekitar (9480 - 2099.5480807287663) dan (9480 + 2099.5480807287663)"
   ]
  },
  {
   "cell_type": "code",
   "execution_count": 58,
   "metadata": {},
   "outputs": [
    {
     "name": "stdout",
     "output_type": "stream",
     "text": [
      "Nilai minimum data: 0.0\n",
      "Nilai maximum data: 22140.0\n",
      "Nilai range data: 22140.0\n",
      "Nilai standar deviasi data: 4282.098008467219\n",
      "Nilai dari variansi data: 18336363.35411893\n"
     ]
    }
   ],
   "source": [
    "EDA_VD(EDA_TDS_MRF)"
   ]
  },
  {
   "cell_type": "markdown",
   "metadata": {},
   "source": [
    "Kita mendapat informasi bahwa range, standar deviasi dan varansi dari data load_weight dropoff_site TDS_MRF adalah 22140.0, 4282.098008467237 dan 18360370.914560582. Hal yang kita dapat dari data tersebut adalah bahwa dropoff_site sampah pada MRF berada di range 22140.0 dengan rentang 4282.098008467237. Maksud dari hal tersebut adalah bahwa jumlah sampah yang di dropoff_site TDS_MRF berada di sekitar (22140.0 - 4282.098008467237) dan (22140.0 + 4282.098008467237)"
   ]
  },
  {
   "cell_type": "markdown",
   "metadata": {},
   "source": [
    "`7. Pemerintah kota berencana menambah site baru. Berikan analisa dan saran terkait berapa kapasitas penampungan di site baru berdasarkan perhitungan confidence interval. Data apa yang kamu gunakan, apakah hanya dari satu site saja atau dari keseluruhan site`"
   ]
  },
  {
   "cell_type": "markdown",
   "metadata": {},
   "source": [
    "- Saran untuk austin state capital city government adalah tidak perlu menambah site dikarenakan terdapat ke-tidak-rataan drop off sampah yang terjadi di kota Austin, seperti pada site WILCAB, ELMONT, KRAMER dan CLARKSON terjadi kekosongan sampah. Maka pemerintah perlu melakukan pemerataan drop off sampah agar sampah di kota Austin menjadi tertampung dengan baik."
   ]
  },
  {
   "cell_type": "markdown",
   "metadata": {},
   "source": [
    "`8. Buatlah analisa uji hipotesis dari data tersebut dari data yang tersedia (kasusnya dibebaskan). Definisikan H0 dan H1 nya serta lakukan perhitungan menggunakan t-test yang sesuai dengan hipotesis kamu. Tulis kesimpulan dari hasil perhitunganmu kepada pemerintah kota (Ingat! pemerintah kota tidak mengerti p-value, hipotesis diterima/tidak diterima`"
   ]
  },
  {
   "cell_type": "markdown",
   "metadata": {},
   "source": [
    "`-a.    T-test One sample Two tail`\n",
    "\n",
    "H0 =  MRF = μ TDS - MRF\n",
    "\n",
    "H1 =  MRF != μ TDS - MRF"
   ]
  },
  {
   "cell_type": "code",
   "execution_count": 64,
   "metadata": {},
   "outputs": [
    {
     "name": "stdout",
     "output_type": "stream",
     "text": [
      "Nilia dari rata-rata load weight MRF adalah: 3940.5568891086727\n",
      "Nilai dari standar deviasi load weight MRF adalah: 2099.5480807287795\n",
      "Nilai dari rata-rata load weight TDS - MRF adalah: 10039.086378861184\n",
      "Nilai dari standar deviasi dari load weight TDS - MRF adalah: 4282.098008467219\n",
      "Nilai alfa yang digunakan adalah: 0.05\n",
      "Nilai dari P adalah: 0.0\n",
      "Nilai dari t hitung adalah: -337.20014340493174\n"
     ]
    }
   ],
   "source": [
    "rata2_MRF = EDA_MRF.mean()\n",
    "std_MRF = EDA_MRF.std()\n",
    "rata2_TDS_MRF = EDA_TDS_MRF.mean()\n",
    "std_TDS_MRF = EDA_TDS_MRF.std()\n",
    "alfa = 0.05\n",
    "t_hitung,nilai_p = stats.ttest_ind(EDA_MRF,EDA_TDS_MRF)\n",
    "print(\"Nilia dari rata-rata load weight MRF adalah:\",rata2_MRF)\n",
    "print(\"Nilai dari standar deviasi load weight MRF adalah:\",std_MRF)\n",
    "print(\"Nilai dari rata-rata load weight TDS - MRF adalah:\",rata2_TDS_MRF)\n",
    "print(\"Nilai dari standar deviasi dari load weight TDS - MRF adalah:\",std_TDS_MRF)\n",
    "print(\"Nilai alfa yang digunakan adalah:\",alfa)\n",
    "print(\"Nilai dari P adalah:\",nilai_p)\n",
    "print(\"Nilai dari t hitung adalah:\",t_hitung)"
   ]
  },
  {
   "cell_type": "code",
   "execution_count": 65,
   "metadata": {},
   "outputs": [],
   "source": [
    "EDA_MRF_pop = np.random.normal(rata2_MRF,std_MRF,1000000)\n",
    "EDA_TDS_MRF_pop = np.random.normal(rata2_TDS_MRF,std_TDS_MRF,1000000)\n",
    "rata2_MRF_pop = EDA_MRF_pop.mean()\n",
    "std_mrf_pop = EDA_MRF_pop.std()\n",
    "nilai_ci = stats.norm.interval(0.95,rata2_MRF,std_MRF)\n"
   ]
  },
  {
   "cell_type": "code",
   "execution_count": 66,
   "metadata": {},
   "outputs": [
    {
     "data": {
      "image/png": "[encoded data removed]",
      "text/plain": [
       "<Figure size 1440x576 with 1 Axes>"
      ]
     },
     "metadata": {
      "needs_background": "light"
     },
     "output_type": "display_data"
    }
   ],
   "source": [
    "plt.figure(figsize=(20,8))\n",
    "sns.histplot(EDA_MRF_pop,kde=True,label=\"Data Populasi Load Weight Site MRF\",color=\"blue\")\n",
    "sns.histplot(EDA_TDS_MRF_pop,kde=True,label=\"Data Populasi Load Weight Site TDS - MRF\",color=\"red\")\n",
    "plt.axvline(rata2_MRF,color=\"blue\",linewidth=2,label=\"Rata-rata load weight MRF\")\n",
    "plt.axvline(rata2_TDS_MRF,color=\"red\",linewidth=2,label=\"Rata-rata load weight TDS - MRF\")\n",
    "plt.axvline(nilai_ci[1],color=\"green\",linestyle=\"dashed\",linewidth=2,label=\"Confidence Threshold 95%\")\n",
    "plt.axvline(nilai_ci[0],color=\"green\",linestyle=\"dashed\",linewidth=2)\n",
    "plt.axvline(rata2_MRF_pop+t_hitung*std_mrf_pop,color=\"black\",linestyle=\"dashed\",linewidth=2,label=\"Alternative Hypothesis\")\n",
    "plt.axvline(rata2_MRF_pop-t_hitung*std_mrf_pop,color=\"black\",linestyle=\"dashed\",linewidth=2)\n",
    "plt.legend()\n",
    "plt.show()"
   ]
  },
  {
   "cell_type": "markdown",
   "metadata": {},
   "source": [
    "Berdasarkan grafik tersebut terlihat bahwa garis hitam berada diluar area garis hijau, yang dimana hal tersebut berarti bahwa mean load_weight dropoff_site MRF tidak sama dengan rata-rata dropoff_site TDS - MRF."
   ]
  },
  {
   "cell_type": "markdown",
   "metadata": {},
   "source": [
    "`9. Tarik benang merah dan kesimpulan dari perhitungan dan analisa yang kamu telah lakukan di langkah-langkah sebelumnya. Ceritakan kesimpulanmu kepada pemerintah kota dan hindari bahasa teknis yang tidak dimengerti oleh orang yang bukan data scientist!`\n",
    "\n",
    "-   Nilai dari mean load weight setiap dropoff_site berbeda-beda, dengan persebaran data yang tidak merata yang ditujukan oleh nilai mean yang berbeda dan grafik yang tidak berdistribusi normal.\n",
    "-   Terdapat dropoff_site yang missing value oleh load_weight sampah, sehingga memunculkan kesenjangan load_weight di setiap dropoff_site.\n",
    "-   Diperlukan pendataan lebih lanjut dikarenakan terdapat banyak missing value pada load_weight di beberapa dropoff_site.\n",
    "-   Banyak data yang tidak terisi load_weight di beberapa dropoff_site yang sangat berpengaruh secara persentase disebabkan missing value"
   ]
  },
  {
   "cell_type": "markdown",
   "metadata": {},
   "source": [
    "`--------------------------------------Jawab pertanyaan berikut untuk mengasah pemahaman konsepmu---------------------------------`"
   ]
  },
  {
   "cell_type": "markdown",
   "metadata": {},
   "source": [
    "`1. Apa perbedaan statistik deskriptif dan inferensial?`\n",
    "Statistik deskriptif hanya terbatas dalam menyajikan data dalam bentuk tabel, diagram, grafik,dan besaran lain, sedangkan statistik inferensial selain mencakup statistik deskriptif juga dapat digunakan untuk melakukan estimasi dan penarikan kesimpulan terhadap populasi dari sampelnya. Untuk sampai pada penarikan kesimpulan statistik inferensial melalui tahap uji hipotesis dan uji statistik"
   ]
  },
  {
   "cell_type": "markdown",
   "metadata": {},
   "source": [
    "`2. Metrik pada central tendency apa yang tepat digunakan untuk menyimpulkan data yang terdistribusi normal dan tidak? Apakah sama atau berbeda?`\n",
    "- Hasil 'Central Tendency' terhadap dropoff_site 'TDS - MRF' tidak ada perbedaan yang signifikan dari jumlah mean dan median, juga nilai modus yang di dapatkan ketika masih terdapat outlier dan yang tidak terdapat outlier ternyata sama.\n",
    "\n",
    "- Persebaran data terbanyak terdapat di tengah, sedangkan nilai persebaran data terkecil (baik positif maupun negative) terdapat di ujung kiri dan kanan.\n",
    "\n",
    "- Metrik yang dapat digunakan untuk menyimpulkan data terdistribusi normal atau tidak adalah mean, median, dan modus"
   ]
  },
  {
   "cell_type": "markdown",
   "metadata": {},
   "source": [
    "`3. Teknik apa yang kamu pilih untuk handling outlier? jelaskan alasannya!` Menggunakan teknik Tukey dengan IQR untuk menghandle outlier Karena persebaran datanya tidak terdistribusi normal."
   ]
  },
  {
   "cell_type": "markdown",
   "metadata": {},
   "source": [
    "`4.  Apa konsep dibalik central tendency sehingga kita dapat menggunakannya untuk menyelesaikan langkah pada nomor 7?`Memberikan satu nilai yang dapat mewakili/menggambarkan seluruh skor dalam kelompok, merupakan deskripsi ringkas dari sejumlah data kuantitatif yang didapat dari sampel dengan ekonomis, praktis, dan ringkas. Dengan central tendency memungkinkan kita melakukan perbandingan antar kelompok; serta memungkinkan kita untuk melakukan proses statistik berikutnya seperti melihat hubungan (korelasi), perbedaan (t-test) antar kelompok, dan lain sebagainya."
   ]
  },
  {
   "cell_type": "markdown",
   "metadata": {},
   "source": [
    "`5.  Jelaskan jenis uji hipotesis apa yang kamu terapkan dan mengapa?` One Sample Two Tailed, disebabkan pada dataset saya membandingkan satu sample terhadap populasi, \n",
    "load_weight yang mempunyai outlier\n",
    "load_weight yang tidak mempunyai outlier\n"
   ]
  }
 ],
 "metadata": {
  "kernelspec": {
   "display_name": "Python 3.9.12 ('base')",
   "language": "python",
   "name": "python3"
  },
  "language_info": {
   "codemirror_mode": {
    "name": "ipython",
    "version": 3
   },
   "file_extension": ".py",
   "mimetype": "text/x-python",
   "name": "python",
   "nbconvert_exporter": "python",
   "pygments_lexer": "ipython3",
   "version": "3.9.12"
  },
  "orig_nbformat": 4,
  "vscode": {
   "interpreter": {
    "hash": "f4cbc2fb82ae63074d8ddbad6dfccddac99fbfb746d69302fc9985b976028d0b"
   }
  }
 },
 "nbformat": 4,
 "nbformat_minor": 2
}
