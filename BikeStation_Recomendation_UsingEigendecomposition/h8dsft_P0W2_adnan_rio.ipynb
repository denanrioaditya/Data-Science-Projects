{
 "cells": [
  {
   "cell_type": "markdown",
   "metadata": {},
   "source": [
    "# Graded Challenge 2\n",
    "\n",
    "```txt\n",
    "Adnan Rio\n",
    "Batch 14\n",
    "```"
   ]
  },
  {
   "cell_type": "markdown",
   "metadata": {},
   "source": [
    "## Description\n",
    "\n",
    "### Objective\n",
    "\n",
    "```txt\n",
    "1.  Mampu memperoleh data menggunakan BigQuery\n",
    "2.  Mampu melakukan pemrosesan data sebelum melakukan perhitungan\n",
    "3.  Mampu menerapkan konsep kalkulus dan linear algebra pada suatu permasalahan\n",
    "4.  Mampu memahami konsep kalkulus dan linear algebra\n",
    "```\n",
    "\n",
    "### Problem Statement\n",
    "\n",
    "```txt\n",
    "1. Mencari stasiun awal mana yang paling favorit di antara stasiun-stasiun lainnya dengan menghitung PageRank menggunakan Eigendecomposition.\n",
    "2. Mencari luas area lingkup stasiun awal sepeda di kota San Francisco\n",
    "```"
   ]
  },
  {
   "cell_type": "markdown",
   "metadata": {},
   "source": [
    "## Working Area\n",
    "\n"
   ]
  },
  {
   "cell_type": "code",
   "execution_count": 31,
   "metadata": {},
   "outputs": [],
   "source": [
    "import pandas as pd #   Memanggil library panda kemudian menganti alias pd\n",
    "import numpy as np #    Memanggil library numpy kemudian menganti alias np"
   ]
  },
  {
   "cell_type": "code",
   "execution_count": 115,
   "metadata": {},
   "outputs": [],
   "source": [
    "df=pd.read_csv('h8dsft_P0GC2_Set_1_adnan_rio.csv')"
   ]
  },
  {
   "cell_type": "markdown",
   "metadata": {},
   "source": [
    " `query yang telah dibuat di Google Cloud Platform`"
   ]
  },
  {
   "cell_type": "code",
   "execution_count": 33,
   "metadata": {},
   "outputs": [],
   "source": [
    "#SELECT  \n",
    "  #bst.trip_id,\n",
    "  #bst.start_station_name, \n",
    "  #bst.end_station_name,\n",
    "  #bst.start_date,\n",
    "  #bst.start_station_latitude,\n",
    "  #bst.start_station_longitude,\n",
    "  #bst.end_station_latitude, \n",
    "  #bst.end_station_longitude,\n",
    "  #bsti.region_id,\n",
    "#FROM `bigquery-public-data.san_francisco_bikeshare.bikeshare_trips` AS bst\n",
    "#LEFT JOIN `bigquery-public-data.san_francisco_bikeshare.bikeshare_station_info` AS bsti\n",
    "#ON bst.start_station_name=bsti.name\n",
    "#WHERE bst.start_station_name != bst.end_station_name\n",
    "  #AND bst.start_station_latitude !=0\n",
    "  #AND bst.start_station_longitude !=0\n",
    "  #AND bst.end_station_latitude!=0 \n",
    "  #AND bst.end_station_longitude !=0\n",
    "  #AND bsti.region_id !=0\n",
    "  #AND bst.start_date BETWEEN '2017-05-15' AND '2018-10-15'"
   ]
  },
  {
   "cell_type": "code",
   "execution_count": 107,
   "metadata": {},
   "outputs": [
    {
     "data": {
      "text/html": [
       "<div>\n",
       "<style scoped>\n",
       "    .dataframe tbody tr th:only-of-type {\n",
       "        vertical-align: middle;\n",
       "    }\n",
       "\n",
       "    .dataframe tbody tr th {\n",
       "        vertical-align: top;\n",
       "    }\n",
       "\n",
       "    .dataframe thead th {\n",
       "        text-align: right;\n",
       "    }\n",
       "</style>\n",
       "<table border=\"1\" class=\"dataframe\">\n",
       "  <thead>\n",
       "    <tr style=\"text-align: right;\">\n",
       "      <th></th>\n",
       "      <th>trip_id</th>\n",
       "      <th>start_date</th>\n",
       "      <th>start_station_name</th>\n",
       "      <th>end_station_name</th>\n",
       "      <th>start_station_latitude</th>\n",
       "      <th>start_station_longitude</th>\n",
       "      <th>end_station_latitude</th>\n",
       "      <th>end_station_longitude</th>\n",
       "      <th>region_id</th>\n",
       "    </tr>\n",
       "  </thead>\n",
       "  <tbody>\n",
       "    <tr>\n",
       "      <th>0</th>\n",
       "      <td>13752017072215524300</td>\n",
       "      <td>2017-07-22T15:52:43Z</td>\n",
       "      <td>Bushrod Park</td>\n",
       "      <td>Snow Park</td>\n",
       "      <td>37.846516</td>\n",
       "      <td>-122.265304</td>\n",
       "      <td>37.807813</td>\n",
       "      <td>-122.264496</td>\n",
       "      <td>12</td>\n",
       "    </tr>\n",
       "    <tr>\n",
       "      <th>1</th>\n",
       "      <td>11702017101108425500</td>\n",
       "      <td>2017-10-11T08:42:55Z</td>\n",
       "      <td>Mosswood Park</td>\n",
       "      <td>Snow Park</td>\n",
       "      <td>37.824931</td>\n",
       "      <td>-122.260479</td>\n",
       "      <td>37.807813</td>\n",
       "      <td>-122.264496</td>\n",
       "      <td>12</td>\n",
       "    </tr>\n",
       "    <tr>\n",
       "      <th>2</th>\n",
       "      <td>6732017071815165800</td>\n",
       "      <td>2017-07-18T15:16:58Z</td>\n",
       "      <td>Mosswood Park</td>\n",
       "      <td>Snow Park</td>\n",
       "      <td>37.824931</td>\n",
       "      <td>-122.260479</td>\n",
       "      <td>37.807813</td>\n",
       "      <td>-122.264496</td>\n",
       "      <td>12</td>\n",
       "    </tr>\n",
       "    <tr>\n",
       "      <th>3</th>\n",
       "      <td>11502017090415222400</td>\n",
       "      <td>2017-09-04T15:22:24Z</td>\n",
       "      <td>DeFremery Park</td>\n",
       "      <td>Snow Park</td>\n",
       "      <td>37.812331</td>\n",
       "      <td>-122.285171</td>\n",
       "      <td>37.807813</td>\n",
       "      <td>-122.264496</td>\n",
       "      <td>12</td>\n",
       "    </tr>\n",
       "    <tr>\n",
       "      <th>4</th>\n",
       "      <td>2472017073111171400</td>\n",
       "      <td>2017-07-31T11:17:14Z</td>\n",
       "      <td>45th St at Manila</td>\n",
       "      <td>Snow Park</td>\n",
       "      <td>37.833294</td>\n",
       "      <td>-122.256224</td>\n",
       "      <td>37.807813</td>\n",
       "      <td>-122.264496</td>\n",
       "      <td>12</td>\n",
       "    </tr>\n",
       "  </tbody>\n",
       "</table>\n",
       "</div>"
      ],
      "text/plain": [
       "                trip_id            start_date start_station_name  \\\n",
       "0  13752017072215524300  2017-07-22T15:52:43Z       Bushrod Park   \n",
       "1  11702017101108425500  2017-10-11T08:42:55Z      Mosswood Park   \n",
       "2   6732017071815165800  2017-07-18T15:16:58Z      Mosswood Park   \n",
       "3  11502017090415222400  2017-09-04T15:22:24Z     DeFremery Park   \n",
       "4   2472017073111171400  2017-07-31T11:17:14Z  45th St at Manila   \n",
       "\n",
       "  end_station_name  start_station_latitude  start_station_longitude  \\\n",
       "0        Snow Park               37.846516              -122.265304   \n",
       "1        Snow Park               37.824931              -122.260479   \n",
       "2        Snow Park               37.824931              -122.260479   \n",
       "3        Snow Park               37.812331              -122.285171   \n",
       "4        Snow Park               37.833294              -122.256224   \n",
       "\n",
       "   end_station_latitude  end_station_longitude  region_id  \n",
       "0             37.807813            -122.264496         12  \n",
       "1             37.807813            -122.264496         12  \n",
       "2             37.807813            -122.264496         12  \n",
       "3             37.807813            -122.264496         12  \n",
       "4             37.807813            -122.264496         12  "
      ]
     },
     "execution_count": 107,
     "metadata": {},
     "output_type": "execute_result"
    }
   ],
   "source": [
    "df.head(5) # Melihat 5 data teratas"
   ]
  },
  {
   "cell_type": "code",
   "execution_count": null,
   "metadata": {},
   "outputs": [],
   "source": [
    "df.tail()  # Melihat 5 data terbawah"
   ]
  },
  {
   "cell_type": "code",
   "execution_count": null,
   "metadata": {},
   "outputs": [],
   "source": [
    "df.isnull().sum() # Memeriksa jumlah data yang kosong dari tiap colom"
   ]
  },
  {
   "cell_type": "markdown",
   "metadata": {},
   "source": [
    "`Mencari stasiun awal mana yang paling favorit di antara stasiun-stasiun lainnya dengan menghitung PageRank menggunakan Eigendecomposition\n",
    "`"
   ]
  },
  {
   "cell_type": "markdown",
   "metadata": {},
   "source": [
    "`1. Buatlah dua variable baru yang bernama start_stations dan end_stations yang masing-masing berisikan list nama stasiun awal dan stasiun akhir. Pastikan tidak ada    nama stasiun yang duplikat di masing-masing variable.\n",
    "`"
   ]
  },
  {
   "cell_type": "code",
   "execution_count": null,
   "metadata": {},
   "outputs": [
    {
     "data": {
      "text/plain": [
       "0"
      ]
     },
     "execution_count": 9,
     "metadata": {},
     "output_type": "execute_result"
    }
   ],
   "source": [
    "sstasiun = df['start_station_name'].unique()\n",
    "estasiun = df['end_station_name'].unique()\n",
    "sum(df['start_station_name'] == df['end_station_name'])"
   ]
  },
  {
   "cell_type": "markdown",
   "metadata": {},
   "source": [
    "`2. Deteksi stasiun-stasiun yang hanya terdapat di salah satu variable dan tidak di keduanya (exclusive-or/xor) menggunakan np.setxor1d(array1,array2). Outputnya akan berupa numpy array dan masukkan output tersebut ke dalam variable bernama exclusive_stations`"
   ]
  },
  {
   "cell_type": "code",
   "execution_count": null,
   "metadata": {},
   "outputs": [],
   "source": [
    "exclusive_stations = np.setxor1d(sstasiun,estasiun) # Menjadikan array di query terhadap sstasiun dan estasiun mengunakan table join (exclusive-or/xor)\n",
    "exclusive_stations"
   ]
  },
  {
   "cell_type": "markdown",
   "metadata": {},
   "source": [
    "`3. Buat dataframe yang berisikan cross-tabulation antara start_stations dan end_stations menggunakan pd.crosstab(pd.Series1,pd.Series2). Hasil dari langkah ini akan menghasilkan dataframe yang menginfokan berapa jumlah/frekuensi perjalanan dari start station tertentu ke end station tertentu. Hasil dari langkah ini dimasukkan ke dalam variable bernama df_matrix`"
   ]
  },
  {
   "cell_type": "code",
   "execution_count": null,
   "metadata": {},
   "outputs": [],
   "source": [
    "df_matrix = pd.crosstab(df['start_station_name'],df['end_station_name'])\n",
    "df_matrix"
   ]
  },
  {
   "cell_type": "code",
   "execution_count": null,
   "metadata": {},
   "outputs": [],
   "source": [
    "df_matrix.shape"
   ]
  },
  {
   "cell_type": "markdown",
   "metadata": {},
   "source": [
    "`4. Buatlah salinan dari data yang di-load ke dalam variable bernama df_copy`"
   ]
  },
  {
   "cell_type": "code",
   "execution_count": null,
   "metadata": {},
   "outputs": [],
   "source": [
    "df_copy = df.copy()"
   ]
  },
  {
   "cell_type": "markdown",
   "metadata": {},
   "source": [
    "`5. Filter df_copy dimana tidak ada start_station_name dan end_station_name yang termasuk dalam list exclusive_stations`"
   ]
  },
  {
   "cell_type": "code",
   "execution_count": null,
   "metadata": {},
   "outputs": [],
   "source": [
    "# Query terhadap Filter df_copy dimana tidak ada start_station_name dan end_station_name yang termasuk dalam list exclusive_stations\n",
    "flr_1= ~df_copy['start_station_name'].isin(exclusive_stations)\n",
    "flr_2 = ~df_copy['end_station_name'].isin(exclusive_stations)\n",
    "flr_add = flr_1 & flr_2\n",
    "df_copy=df_copy[flr_add] # filter terhadap df_copy \n",
    "flr_add"
   ]
  },
  {
   "cell_type": "markdown",
   "metadata": {},
   "source": [
    "`6. Lakukan langkah 3 untuk variable df_copy dan simpan ke dalam variable bernama df_matrix_square. Pastikan jumlah rows dan columns sama, kalau tidak ulangi dari langkah 4`"
   ]
  },
  {
   "cell_type": "code",
   "execution_count": null,
   "metadata": {},
   "outputs": [],
   "source": [
    "df_matrix_square = pd.crosstab(df_copy['start_station_name'],df_copy['end_station_name'])\n",
    "df_matrix_square"
   ]
  },
  {
   "cell_type": "code",
   "execution_count": 63,
   "metadata": {},
   "outputs": [
    {
     "data": {
      "text/plain": [
       "(259, 259)"
      ]
     },
     "execution_count": 63,
     "metadata": {},
     "output_type": "execute_result"
    }
   ],
   "source": [
    "df_matrix_square.shape #df_matrix_square dalam kolom dan baris yg sama dapat menerapkan Eigendecomposition"
   ]
  },
  {
   "cell_type": "markdown",
   "metadata": {},
   "source": [
    "`7. Jumlahkan nilai kolom masing-masing rows pada df_matrix_square menggunakan method sum(axis=1) dan simpan ke dalam variable bernama total_trips`"
   ]
  },
  {
   "cell_type": "code",
   "execution_count": 87,
   "metadata": {},
   "outputs": [],
   "source": [
    "total_trips = df_matrix_square.sum(axis=1) # Memeriksa jumlah data pada kolom total_trips"
   ]
  },
  {
   "cell_type": "markdown",
   "metadata": {},
   "source": [
    "`8. Bagi setiap kolom df_matrix_square dengan menggunakan method .div(), dengan inputan parameter total_trips dan axis='rows'. Masukkan hasilnya ke variable weighted_matrix_df`"
   ]
  },
  {
   "cell_type": "code",
   "execution_count": null,
   "metadata": {},
   "outputs": [],
   "source": [
    "weighted_matrix_df = df_matrix_square.div(total_trips, axis='rows') # Membagi tiap elemen pada baris df_matrix_square \n",
    "weighted_matrix_df"
   ]
  },
  {
   "cell_type": "markdown",
   "metadata": {},
   "source": [
    "`9. Konversikan weighted_matrix_df ke numpy array`"
   ]
  },
  {
   "cell_type": "code",
   "execution_count": 66,
   "metadata": {},
   "outputs": [],
   "source": [
    "weighted_matrix_arr = weighted_matrix_df.to_numpy() # Mengubah data frame ke array"
   ]
  },
  {
   "cell_type": "markdown",
   "metadata": {},
   "source": [
    "`10. Hitung eigen value dan eigen vector menggunakan library numpy`"
   ]
  },
  {
   "cell_type": "code",
   "execution_count": 67,
   "metadata": {},
   "outputs": [],
   "source": [
    "eigVal,eigVec = np.linalg.eig(weighted_matrix_arr)"
   ]
  },
  {
   "cell_type": "code",
   "execution_count": null,
   "metadata": {},
   "outputs": [],
   "source": [
    "eigVal"
   ]
  },
  {
   "cell_type": "code",
   "execution_count": null,
   "metadata": {},
   "outputs": [],
   "source": [
    "eigVec"
   ]
  },
  {
   "cell_type": "code",
   "execution_count": 70,
   "metadata": {},
   "outputs": [],
   "source": [
    "## kita akan mencari nilai modulus atau argument dari eigenvalue\n",
    "eigVal = np.abs(eigVal) \n",
    "eigVec = np.abs(eigVec)"
   ]
  },
  {
   "cell_type": "markdown",
   "metadata": {},
   "source": [
    "`11. Score PageRank terdapat pada eigen vector yang eigen valuenya paling tinggi. Simpan eigen vector tersebut ke dalam variable bernama PR_Scores`"
   ]
  },
  {
   "cell_type": "code",
   "execution_count": null,
   "metadata": {},
   "outputs": [],
   "source": [
    "idx = eigVal.argmax() # Mengetahui indeks pada eigenvalue tertinggi\n",
    "PR_scores = eigVec[:,idx] # Mengetahui eigenvector dengan eigenvalue tertinggi"
   ]
  },
  {
   "cell_type": "markdown",
   "metadata": {},
   "source": [
    "`12. Buat dataframe baru bernama PageRank_df dengan kolom 'start_station' yang berisikan value variable start_stations dan kolom score yang berisikan value variable PR_Scores`"
   ]
  },
  {
   "cell_type": "code",
   "execution_count": null,
   "metadata": {},
   "outputs": [],
   "source": [
    "PageRank_df = pd.DataFrame({'start_station':df['start_station_name'].unique(),'PR_Scores':PR_scores})\n",
    "PageRank_df"
   ]
  },
  {
   "cell_type": "markdown",
   "metadata": {},
   "source": [
    "`13.  Tampilkan head dari dataframe PageRank_df!`"
   ]
  },
  {
   "cell_type": "code",
   "execution_count": 94,
   "metadata": {},
   "outputs": [
    {
     "data": {
      "text/html": [
       "<div>\n",
       "<style scoped>\n",
       "    .dataframe tbody tr th:only-of-type {\n",
       "        vertical-align: middle;\n",
       "    }\n",
       "\n",
       "    .dataframe tbody tr th {\n",
       "        vertical-align: top;\n",
       "    }\n",
       "\n",
       "    .dataframe thead th {\n",
       "        text-align: right;\n",
       "    }\n",
       "</style>\n",
       "<table border=\"1\" class=\"dataframe\">\n",
       "  <thead>\n",
       "    <tr style=\"text-align: right;\">\n",
       "      <th></th>\n",
       "      <th>start_station</th>\n",
       "      <th>PR_Scores</th>\n",
       "    </tr>\n",
       "  </thead>\n",
       "  <tbody>\n",
       "    <tr>\n",
       "      <th>0</th>\n",
       "      <td>Mosswood Park</td>\n",
       "      <td>0.067116+0.000000j</td>\n",
       "    </tr>\n",
       "    <tr>\n",
       "      <th>1</th>\n",
       "      <td>45th St at Manila</td>\n",
       "      <td>0.067116+0.000000j</td>\n",
       "    </tr>\n",
       "    <tr>\n",
       "      <th>2</th>\n",
       "      <td>Jack London Square</td>\n",
       "      <td>0.067116+0.000000j</td>\n",
       "    </tr>\n",
       "    <tr>\n",
       "      <th>3</th>\n",
       "      <td>Bay Pl at Vernon St</td>\n",
       "      <td>0.067116+0.000000j</td>\n",
       "    </tr>\n",
       "    <tr>\n",
       "      <th>4</th>\n",
       "      <td>Broadway at 30th St</td>\n",
       "      <td>0.067116+0.000000j</td>\n",
       "    </tr>\n",
       "  </tbody>\n",
       "</table>\n",
       "</div>"
      ],
      "text/plain": [
       "         start_station           PR_Scores\n",
       "0        Mosswood Park  0.067116+0.000000j\n",
       "1    45th St at Manila  0.067116+0.000000j\n",
       "2   Jack London Square  0.067116+0.000000j\n",
       "3  Bay Pl at Vernon St  0.067116+0.000000j\n",
       "4  Broadway at 30th St  0.067116+0.000000j"
      ]
     },
     "execution_count": 94,
     "metadata": {},
     "output_type": "execute_result"
    }
   ],
   "source": [
    "PageRank_df.head()"
   ]
  },
  {
   "cell_type": "markdown",
   "metadata": {},
   "source": [
    "A.  Mengapa dalam kasus ini kita menerapkan konsep Eigendecomposition?\n",
    "    Dengan menghitung suatu matriks persegi yang tiap kolomnya adalah eigenvector dan matriks diagonal dengan elemen tiap diagonalnya adalah eigenvalue kita bisa langsung dapat memprediksi statsiun favorit "
   ]
  },
  {
   "cell_type": "markdown",
   "metadata": {},
   "source": [
    "B. Dari pengamatanmu, mengapa pada akhirnya kita menggunakan dataframe df_matrix_square dibandingkan df_matrix untuk dilakukan proses Eigendecomposition? Berikan alasan yang logis sesuai dengan konsep Eigendecomposition. == Karena jumlah baris dan kolom pada df_matrix_square adalah sama kita dapat menerapkan konsep Eigendecomposition"
   ]
  },
  {
   "cell_type": "code",
   "execution_count": null,
   "metadata": {},
   "outputs": [],
   "source": [
    "print(f'df_matrix_square jumlah baris dan kolom {weighted_matrix_arr.shape}')"
   ]
  },
  {
   "cell_type": "markdown",
   "metadata": {},
   "source": [
    "Sedangkan pada df_matrix jumlah baris dan kolom tidak sama"
   ]
  },
  {
   "cell_type": "code",
   "execution_count": null,
   "metadata": {},
   "outputs": [],
   "source": [
    "print(f'df_matrix jumlah baris dan kolom {df_matrix.to_numpy().shape}')"
   ]
  },
  {
   "cell_type": "markdown",
   "metadata": {},
   "source": [
    "C.  Jika dilihat dari PageRanknya, dimana nilai PageRank paling besar merupakan stasiun yang paling favorit. Apa insight yang akan kamu berikan?"
   ]
  },
  {
   "cell_type": "code",
   "execution_count": 114,
   "metadata": {},
   "outputs": [
    {
     "data": {
      "text/html": [
       "<div>\n",
       "<style scoped>\n",
       "    .dataframe tbody tr th:only-of-type {\n",
       "        vertical-align: middle;\n",
       "    }\n",
       "\n",
       "    .dataframe tbody tr th {\n",
       "        vertical-align: top;\n",
       "    }\n",
       "\n",
       "    .dataframe thead th {\n",
       "        text-align: right;\n",
       "    }\n",
       "</style>\n",
       "<table border=\"1\" class=\"dataframe\">\n",
       "  <thead>\n",
       "    <tr style=\"text-align: right;\">\n",
       "      <th></th>\n",
       "      <th>start_station</th>\n",
       "      <th>PR_Scores</th>\n",
       "    </tr>\n",
       "  </thead>\n",
       "  <tbody>\n",
       "    <tr>\n",
       "      <th>2</th>\n",
       "      <td>Jack London Square</td>\n",
       "      <td>0.067116+0.000000j</td>\n",
       "    </tr>\n",
       "    <tr>\n",
       "      <th>16</th>\n",
       "      <td>13th St at Franklin St</td>\n",
       "      <td>0.067116+0.000000j</td>\n",
       "    </tr>\n",
       "    <tr>\n",
       "      <th>12</th>\n",
       "      <td>Webster St at 2nd St</td>\n",
       "      <td>0.067116+0.000000j</td>\n",
       "    </tr>\n",
       "    <tr>\n",
       "      <th>9</th>\n",
       "      <td>24th St at Market St</td>\n",
       "      <td>0.067116+0.000000j</td>\n",
       "    </tr>\n",
       "    <tr>\n",
       "      <th>140</th>\n",
       "      <td>Eureka Valley Recreation Center</td>\n",
       "      <td>0.067116+0.000000j</td>\n",
       "    </tr>\n",
       "  </tbody>\n",
       "</table>\n",
       "</div>"
      ],
      "text/plain": [
       "                       start_station           PR_Scores\n",
       "2                 Jack London Square  0.067116+0.000000j\n",
       "16            13th St at Franklin St  0.067116+0.000000j\n",
       "12              Webster St at 2nd St  0.067116+0.000000j\n",
       "9               24th St at Market St  0.067116+0.000000j\n",
       "140  Eureka Valley Recreation Center  0.067116+0.000000j"
      ]
     },
     "execution_count": 114,
     "metadata": {},
     "output_type": "execute_result"
    }
   ],
   "source": [
    "PageRank_df.sort_values('PR_Scores', ascending=False).head(5)"
   ]
  },
  {
   "cell_type": "markdown",
   "metadata": {},
   "source": [
    "Jika dilihat berdasarkan nilai PR_Score, Jack London Square adalah stasiun favorit akan tetapi 4 stasiun dibawahnya tidak berbeda jauh"
   ]
  },
  {
   "cell_type": "markdown",
   "metadata": {},
   "source": [
    "`------------------------------Mencari luas area lingkup stasiun awal sepeda di kota San Francisco-------------------------------`"
   ]
  },
  {
   "cell_type": "markdown",
   "metadata": {},
   "source": [
    "`1. Buat variable baru bernama df_coor_stations yang berisikan data yang sudah di-load dimana kolom region_id = 3. Pastikan tidak ada data yang duplikat dan hanya menyertakan kolom start_station_name,start_station_latitude, dan start_station_longitude. Urutkan pula dataframe tersebut berdasarkan start_station_longitude dari nilai terkecil hingga terbesar.`"
   ]
  },
  {
   "cell_type": "code",
   "execution_count": null,
   "metadata": {},
   "outputs": [],
   "source": [
    "df_flr_region = df['region_id'] == 3\n",
    "df_coor_stations = df[df_flr_region][['start_station_name','start_station_latitude','start_station_longitude']] #Menerapkan query region\n",
    "df_coor_stations.drop_duplicates(subset=['start_station_name'],inplace=True) #Mdrop duplikat nama di kolom start_station_name\n",
    "df_coor_stations.sort_values('start_station_longitude', inplace=True) # sort longitude\n",
    "df_coor_stations"
   ]
  },
  {
   "cell_type": "markdown",
   "metadata": {},
   "source": [
    "`2. Plot grafik area stasiun-stasiun di San Fransisco menggunakan method .plot(). Catatan: Gunakan arahan berikut dalam penggunaan method .plot(), .plot(x='nama kolom untuk sumbu x',y='nama kolom untuk sumbu y',figsize=(20,8)). Longitude merupakan sumbu x dan Latitude merupakan sumbu y.`"
   ]
  },
  {
   "cell_type": "code",
   "execution_count": 119,
   "metadata": {},
   "outputs": [
    {
     "data": {
      "text/plain": [
       "<AxesSubplot:xlabel='start_station_longitude'>"
      ]
     },
     "execution_count": 119,
     "metadata": {},
     "output_type": "execute_result"
    },
    {
     "data": {
      "image/png": "[encoded data removed]",
      "text/plain": [
       "<Figure size 1440x576 with 1 Axes>"
      ]
     },
     "metadata": {
      "needs_background": "light"
     },
     "output_type": "display_data"
    }
   ],
   "source": [
    "df_coor_stations.plot(x='start_station_longitude',y='start_station_latitude',figsize=(20,8))"
   ]
  },
  {
   "cell_type": "markdown",
   "metadata": {},
   "source": [
    "`3. Hitung luas area yang dilingkup stasiun awal menggunakan library Scipy. Hasilnya bersatuan square degree.`"
   ]
  },
  {
   "cell_type": "code",
   "execution_count": 116,
   "metadata": {},
   "outputs": [],
   "source": [
    "from scipy import integrate # Import library\n",
    "from scipy.integrate import trapz"
   ]
  },
  {
   "cell_type": "code",
   "execution_count": null,
   "metadata": {},
   "outputs": [],
   "source": [
    "# Menggunakan trapz dengan nilai adalah 'start_station_lattitude' pada interval dari 'start_station_longitude'\n",
    "area = integrate.trapz(df_coor_stations['start_station_latitude'],df_coor_stations['start_station_longitude'])\n",
    "print(f'Luas area yang dilingkup stasiun awal sebesar {round(area,2)} square degree. ')"
   ]
  },
  {
   "cell_type": "markdown",
   "metadata": {},
   "source": [
    "a. Terdapat 2 jenis integral yaitu definite dan indefinite. Jenis integral apa yang kamu gunakan untuk kasus ini? Berikan alasanmu!\n",
    "   Definite karena luas yang dibatasi oleh kurva yang mempunyai titik atas dan titik bawah\n",
    "\n",
    "b. Terdapat dua metode dalam perhitungan integral yaitu simbolik dan numerik. Mana yang kamu gunakan untuk kasus ini dan mengapa?\n",
    "   Numerik karena hanya terdapat beberapa titik saja (latitude), tidak diketahui fungsi terhadap (longitude) namun kita masih dapat memprediksi dengan intergal numerik (metode trapesium), luas trapesium tersebut berdasarkan titik-titik yang kita dapatkan dari peta\n",
    "\n",
    "c. Apakah diperlukan mendefinisikan fungsi matematis ( seperti `f(x) = x^2+2` ) pada kasus ini? Berikan penjelasan dan alasanmu!\n",
    "   Tidak perlu. Kita sudah menggunakan intergral numerik untuk memperkirakan luas yang tidak memerlukan fungsi matematis seperti `f(x) = x^2+2`"
   ]
  }
 ],
 "metadata": {
  "kernelspec": {
   "display_name": "Python 3.9.12 ('base')",
   "language": "python",
   "name": "python3"
  },
  "language_info": {
   "codemirror_mode": {
    "name": "ipython",
    "version": 3
   },
   "file_extension": ".py",
   "mimetype": "text/x-python",
   "name": "python",
   "nbconvert_exporter": "python",
   "pygments_lexer": "ipython3",
   "version": "3.9.12"
  },
  "orig_nbformat": 4,
  "vscode": {
   "interpreter": {
    "hash": "f4cbc2fb82ae63074d8ddbad6dfccddac99fbfb746d69302fc9985b976028d0b"
   }
  }
 },
 "nbformat": 4,
 "nbformat_minor": 2
}
