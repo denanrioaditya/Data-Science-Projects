{
 "cells": [
  {
   "cell_type": "markdown",
   "metadata": {},
   "source": [
    "# Milestone 1\n",
    "\n",
    "```txt\n",
    "Adnan Rio\n",
    "Batch 14\n",
    "```"
   ]
  },
  {
   "cell_type": "markdown",
   "metadata": {},
   "source": [
    "## Description\n",
    "\n",
    "### Objective\n",
    "\n",
    "```txt\n",
    "Departemen Pengawasan Lalu Lintas Kementerian Perhubungan Amerika Serikat ingin mengetahui kondisi kasus kecelakaan yang terjadi di jalan selama tahun 2016 yang berguna untuk diterapkan kebijakan baru supaya dapat mengurangi angka kecelakaan di kemudian hari\n",
    "```\n",
    "\n",
    "### Problem Statement\n",
    "\n",
    "```txt\n",
    "1.  Pada state_name mana dengan jumlah angka kecelakaan paling tinggi?\n",
    "2.  Kecelakan lebih banyak terjadi di land_use_name Urban atau Rural ?\n",
    "3.  Pada hour_of_crash berapa kecelakaan sering terjadi?\n",
    "4.  Kecelakaan paling sering dialami oleh body_type_name apa?\n",
    "5.  Pada land_use_name urban berapa mean angka fatalitynya?\n",
    "6.  Apakah ada perbedaan signifikan mean angka fatality pada land_use_name Urban (perkotaan) dengan land_use_name Rural (pedesaan)?\n",
    "```"
   ]
  },
  {
   "cell_type": "markdown",
   "metadata": {},
   "source": [
    "# URL Deployment Heroku\n",
    "https://h8dsft-milestone1-adnanrio.herokuapp.com/"
   ]
  },
  {
   "cell_type": "markdown",
   "metadata": {},
   "source": [
    "# Impot Pustaka"
   ]
  },
  {
   "cell_type": "code",
   "execution_count": 21,
   "metadata": {},
   "outputs": [],
   "source": [
    "import pandas as pd\n",
    "import numpy as np\n",
    "import matplotlib.pyplot as plt\n",
    "import seaborn as sns\n",
    "from scipy import stats"
   ]
  },
  {
   "cell_type": "markdown",
   "metadata": {},
   "source": [
    "# Data Loading & Queries"
   ]
  },
  {
   "cell_type": "markdown",
   "metadata": {},
   "source": [
    "\n",
    "### Query yang telah dibuat di Google Cloud Platform\n",
    "\n",
    " ```txt\n",
    "SELECT  \n",
    "accident.state_name,\n",
    "accident.land_use_name,\n",
    "accident.hour_of_crash, \n",
    "accident.atmospheric_conditions_name, \n",
    "vehicle.body_type_name, \n",
    "accident.number_of_fatalities\n",
    "from `bigquery-public-data.nhtsa_traffic_fatalities.accident_2016` AS accident\n",
    "INNER JOIN `bigquery-public-data.nhtsa_traffic_fatalities.vehicle_2016` AS vehicle\n",
    "ON accident.consecutive_number = vehicle.consecutive_number\n",
    "WHERE accident.land_use_name in ('Rural', 'Urban')\n",
    "AND accident.state_name IS NOT NULL \n",
    "AND accident.land_use_name IS NOT NULL\n",
    "AND accident.hour_of_crash IS NOT NULL\n",
    "AND accident.atmospheric_conditions_name IS NOT NULL\n",
    "AND vehicle.body_type_name IS NOT NULL\n",
    "AND accident.number_of_fatalities IS NOT NULL;\n",
    "```"
   ]
  },
  {
   "cell_type": "code",
   "execution_count": 2,
   "metadata": {},
   "outputs": [],
   "source": [
    "df=pd.read_csv('h8dsft_P0ML1_adnan_rio.csv')"
   ]
  },
  {
   "cell_type": "code",
   "execution_count": 12,
   "metadata": {},
   "outputs": [
    {
     "data": {
      "text/html": [
       "<div>\n",
       "<style scoped>\n",
       "    .dataframe tbody tr th:only-of-type {\n",
       "        vertical-align: middle;\n",
       "    }\n",
       "\n",
       "    .dataframe tbody tr th {\n",
       "        vertical-align: top;\n",
       "    }\n",
       "\n",
       "    .dataframe thead th {\n",
       "        text-align: right;\n",
       "    }\n",
       "</style>\n",
       "<table border=\"1\" class=\"dataframe\">\n",
       "  <thead>\n",
       "    <tr style=\"text-align: right;\">\n",
       "      <th></th>\n",
       "      <th>state_name</th>\n",
       "      <th>land_use_name</th>\n",
       "      <th>hour_of_crash</th>\n",
       "      <th>atmospheric_conditions_name</th>\n",
       "      <th>consecutive_number</th>\n",
       "      <th>body_type_name</th>\n",
       "      <th>number_of_fatalities</th>\n",
       "    </tr>\n",
       "  </thead>\n",
       "  <tbody>\n",
       "    <tr>\n",
       "      <th>0</th>\n",
       "      <td>Wyoming</td>\n",
       "      <td>Rural</td>\n",
       "      <td>3</td>\n",
       "      <td>Snow</td>\n",
       "      <td>560099</td>\n",
       "      <td>Standard Pickup</td>\n",
       "      <td>1</td>\n",
       "    </tr>\n",
       "    <tr>\n",
       "      <th>1</th>\n",
       "      <td>Idaho</td>\n",
       "      <td>Rural</td>\n",
       "      <td>16</td>\n",
       "      <td>Blowing Snow</td>\n",
       "      <td>160226</td>\n",
       "      <td>Utility Station Wagon</td>\n",
       "      <td>2</td>\n",
       "    </tr>\n",
       "    <tr>\n",
       "      <th>2</th>\n",
       "      <td>Arkansas</td>\n",
       "      <td>Urban</td>\n",
       "      <td>3</td>\n",
       "      <td>Clear</td>\n",
       "      <td>50006</td>\n",
       "      <td>Standard Pickup</td>\n",
       "      <td>1</td>\n",
       "    </tr>\n",
       "    <tr>\n",
       "      <th>3</th>\n",
       "      <td>Texas</td>\n",
       "      <td>Urban</td>\n",
       "      <td>15</td>\n",
       "      <td>Clear</td>\n",
       "      <td>482027</td>\n",
       "      <td>Large Utility (ANSI D-16 Utility Vehicle Categ...</td>\n",
       "      <td>1</td>\n",
       "    </tr>\n",
       "    <tr>\n",
       "      <th>4</th>\n",
       "      <td>Florida</td>\n",
       "      <td>Urban</td>\n",
       "      <td>19</td>\n",
       "      <td>Clear</td>\n",
       "      <td>121570</td>\n",
       "      <td>Compact Utility (ANSI D-16 Utility Vehicle Cat...</td>\n",
       "      <td>1</td>\n",
       "    </tr>\n",
       "    <tr>\n",
       "      <th>...</th>\n",
       "      <td>...</td>\n",
       "      <td>...</td>\n",
       "      <td>...</td>\n",
       "      <td>...</td>\n",
       "      <td>...</td>\n",
       "      <td>...</td>\n",
       "      <td>...</td>\n",
       "    </tr>\n",
       "    <tr>\n",
       "      <th>52580</th>\n",
       "      <td>Virginia</td>\n",
       "      <td>Urban</td>\n",
       "      <td>15</td>\n",
       "      <td>Not Reported</td>\n",
       "      <td>510436</td>\n",
       "      <td>Large Utility (ANSI D-16 Utility Vehicle Categ...</td>\n",
       "      <td>1</td>\n",
       "    </tr>\n",
       "    <tr>\n",
       "      <th>52581</th>\n",
       "      <td>New Mexico</td>\n",
       "      <td>Urban</td>\n",
       "      <td>14</td>\n",
       "      <td>Clear</td>\n",
       "      <td>350309</td>\n",
       "      <td>Motorcycle</td>\n",
       "      <td>1</td>\n",
       "    </tr>\n",
       "    <tr>\n",
       "      <th>52582</th>\n",
       "      <td>Arizona</td>\n",
       "      <td>Rural</td>\n",
       "      <td>14</td>\n",
       "      <td>Not Reported</td>\n",
       "      <td>40777</td>\n",
       "      <td>ATV (All-Terrain Vehicle; Includes 3 or 4 Wheels)</td>\n",
       "      <td>1</td>\n",
       "    </tr>\n",
       "    <tr>\n",
       "      <th>52583</th>\n",
       "      <td>Washington</td>\n",
       "      <td>Urban</td>\n",
       "      <td>3</td>\n",
       "      <td>Not Reported</td>\n",
       "      <td>530422</td>\n",
       "      <td>Unknown Body Type</td>\n",
       "      <td>1</td>\n",
       "    </tr>\n",
       "    <tr>\n",
       "      <th>52584</th>\n",
       "      <td>Arizona</td>\n",
       "      <td>Rural</td>\n",
       "      <td>18</td>\n",
       "      <td>Not Reported</td>\n",
       "      <td>40096</td>\n",
       "      <td>Standard Pickup</td>\n",
       "      <td>1</td>\n",
       "    </tr>\n",
       "  </tbody>\n",
       "</table>\n",
       "<p>52585 rows × 7 columns</p>\n",
       "</div>"
      ],
      "text/plain": [
       "       state_name land_use_name  hour_of_crash atmospheric_conditions_name  \\\n",
       "0         Wyoming         Rural              3                        Snow   \n",
       "1           Idaho         Rural             16                Blowing Snow   \n",
       "2        Arkansas         Urban              3                       Clear   \n",
       "3           Texas         Urban             15                       Clear   \n",
       "4         Florida         Urban             19                       Clear   \n",
       "...           ...           ...            ...                         ...   \n",
       "52580    Virginia         Urban             15                Not Reported   \n",
       "52581  New Mexico         Urban             14                       Clear   \n",
       "52582     Arizona         Rural             14                Not Reported   \n",
       "52583  Washington         Urban              3                Not Reported   \n",
       "52584     Arizona         Rural             18                Not Reported   \n",
       "\n",
       "       consecutive_number                                     body_type_name  \\\n",
       "0                  560099                                    Standard Pickup   \n",
       "1                  160226                              Utility Station Wagon   \n",
       "2                   50006                                    Standard Pickup   \n",
       "3                  482027  Large Utility (ANSI D-16 Utility Vehicle Categ...   \n",
       "4                  121570  Compact Utility (ANSI D-16 Utility Vehicle Cat...   \n",
       "...                   ...                                                ...   \n",
       "52580              510436  Large Utility (ANSI D-16 Utility Vehicle Categ...   \n",
       "52581              350309                                         Motorcycle   \n",
       "52582               40777  ATV (All-Terrain Vehicle; Includes 3 or 4 Wheels)   \n",
       "52583              530422                                  Unknown Body Type   \n",
       "52584               40096                                    Standard Pickup   \n",
       "\n",
       "       number_of_fatalities  \n",
       "0                         1  \n",
       "1                         2  \n",
       "2                         1  \n",
       "3                         1  \n",
       "4                         1  \n",
       "...                     ...  \n",
       "52580                     1  \n",
       "52581                     1  \n",
       "52582                     1  \n",
       "52583                     1  \n",
       "52584                     1  \n",
       "\n",
       "[52585 rows x 7 columns]"
      ]
     },
     "execution_count": 12,
     "metadata": {},
     "output_type": "execute_result"
    }
   ],
   "source": [
    "df"
   ]
  },
  {
   "cell_type": "code",
   "execution_count": 32,
   "metadata": {},
   "outputs": [
    {
     "data": {
      "text/html": [
       "<div>\n",
       "<style scoped>\n",
       "    .dataframe tbody tr th:only-of-type {\n",
       "        vertical-align: middle;\n",
       "    }\n",
       "\n",
       "    .dataframe tbody tr th {\n",
       "        vertical-align: top;\n",
       "    }\n",
       "\n",
       "    .dataframe thead th {\n",
       "        text-align: right;\n",
       "    }\n",
       "</style>\n",
       "<table border=\"1\" class=\"dataframe\">\n",
       "  <thead>\n",
       "    <tr style=\"text-align: right;\">\n",
       "      <th></th>\n",
       "      <th>state_name</th>\n",
       "      <th>land_use_name</th>\n",
       "      <th>hour_of_crash</th>\n",
       "      <th>atmospheric_conditions_name</th>\n",
       "      <th>consecutive_number</th>\n",
       "      <th>body_type_name</th>\n",
       "      <th>number_of_fatalities</th>\n",
       "    </tr>\n",
       "  </thead>\n",
       "  <tbody>\n",
       "    <tr>\n",
       "      <th>0</th>\n",
       "      <td>Wyoming</td>\n",
       "      <td>Rural</td>\n",
       "      <td>3</td>\n",
       "      <td>Snow</td>\n",
       "      <td>560099</td>\n",
       "      <td>Standard Pickup</td>\n",
       "      <td>1</td>\n",
       "    </tr>\n",
       "    <tr>\n",
       "      <th>1</th>\n",
       "      <td>Idaho</td>\n",
       "      <td>Rural</td>\n",
       "      <td>16</td>\n",
       "      <td>Blowing Snow</td>\n",
       "      <td>160226</td>\n",
       "      <td>Utility Station Wagon</td>\n",
       "      <td>2</td>\n",
       "    </tr>\n",
       "    <tr>\n",
       "      <th>2</th>\n",
       "      <td>Arkansas</td>\n",
       "      <td>Urban</td>\n",
       "      <td>3</td>\n",
       "      <td>Clear</td>\n",
       "      <td>50006</td>\n",
       "      <td>Standard Pickup</td>\n",
       "      <td>1</td>\n",
       "    </tr>\n",
       "    <tr>\n",
       "      <th>3</th>\n",
       "      <td>Texas</td>\n",
       "      <td>Urban</td>\n",
       "      <td>15</td>\n",
       "      <td>Clear</td>\n",
       "      <td>482027</td>\n",
       "      <td>Large Utility (ANSI D-16 Utility Vehicle Categ...</td>\n",
       "      <td>1</td>\n",
       "    </tr>\n",
       "    <tr>\n",
       "      <th>4</th>\n",
       "      <td>Florida</td>\n",
       "      <td>Urban</td>\n",
       "      <td>19</td>\n",
       "      <td>Clear</td>\n",
       "      <td>121570</td>\n",
       "      <td>Compact Utility (ANSI D-16 Utility Vehicle Cat...</td>\n",
       "      <td>1</td>\n",
       "    </tr>\n",
       "  </tbody>\n",
       "</table>\n",
       "</div>"
      ],
      "text/plain": [
       "  state_name land_use_name  hour_of_crash atmospheric_conditions_name  \\\n",
       "0    Wyoming         Rural              3                        Snow   \n",
       "1      Idaho         Rural             16                Blowing Snow   \n",
       "2   Arkansas         Urban              3                       Clear   \n",
       "3      Texas         Urban             15                       Clear   \n",
       "4    Florida         Urban             19                       Clear   \n",
       "\n",
       "   consecutive_number                                     body_type_name  \\\n",
       "0              560099                                    Standard Pickup   \n",
       "1              160226                              Utility Station Wagon   \n",
       "2               50006                                    Standard Pickup   \n",
       "3              482027  Large Utility (ANSI D-16 Utility Vehicle Categ...   \n",
       "4              121570  Compact Utility (ANSI D-16 Utility Vehicle Cat...   \n",
       "\n",
       "   number_of_fatalities  \n",
       "0                     1  \n",
       "1                     2  \n",
       "2                     1  \n",
       "3                     1  \n",
       "4                     1  "
      ]
     },
     "execution_count": 32,
     "metadata": {},
     "output_type": "execute_result"
    }
   ],
   "source": [
    "df.head(5) # Melihat 5 data teratas"
   ]
  },
  {
   "cell_type": "code",
   "execution_count": 33,
   "metadata": {},
   "outputs": [
    {
     "data": {
      "text/html": [
       "<div>\n",
       "<style scoped>\n",
       "    .dataframe tbody tr th:only-of-type {\n",
       "        vertical-align: middle;\n",
       "    }\n",
       "\n",
       "    .dataframe tbody tr th {\n",
       "        vertical-align: top;\n",
       "    }\n",
       "\n",
       "    .dataframe thead th {\n",
       "        text-align: right;\n",
       "    }\n",
       "</style>\n",
       "<table border=\"1\" class=\"dataframe\">\n",
       "  <thead>\n",
       "    <tr style=\"text-align: right;\">\n",
       "      <th></th>\n",
       "      <th>state_name</th>\n",
       "      <th>land_use_name</th>\n",
       "      <th>hour_of_crash</th>\n",
       "      <th>atmospheric_conditions_name</th>\n",
       "      <th>consecutive_number</th>\n",
       "      <th>body_type_name</th>\n",
       "      <th>number_of_fatalities</th>\n",
       "    </tr>\n",
       "  </thead>\n",
       "  <tbody>\n",
       "    <tr>\n",
       "      <th>52580</th>\n",
       "      <td>Virginia</td>\n",
       "      <td>Urban</td>\n",
       "      <td>15</td>\n",
       "      <td>Not Reported</td>\n",
       "      <td>510436</td>\n",
       "      <td>Large Utility (ANSI D-16 Utility Vehicle Categ...</td>\n",
       "      <td>1</td>\n",
       "    </tr>\n",
       "    <tr>\n",
       "      <th>52581</th>\n",
       "      <td>New Mexico</td>\n",
       "      <td>Urban</td>\n",
       "      <td>14</td>\n",
       "      <td>Clear</td>\n",
       "      <td>350309</td>\n",
       "      <td>Motorcycle</td>\n",
       "      <td>1</td>\n",
       "    </tr>\n",
       "    <tr>\n",
       "      <th>52582</th>\n",
       "      <td>Arizona</td>\n",
       "      <td>Rural</td>\n",
       "      <td>14</td>\n",
       "      <td>Not Reported</td>\n",
       "      <td>40777</td>\n",
       "      <td>ATV (All-Terrain Vehicle; Includes 3 or 4 Wheels)</td>\n",
       "      <td>1</td>\n",
       "    </tr>\n",
       "    <tr>\n",
       "      <th>52583</th>\n",
       "      <td>Washington</td>\n",
       "      <td>Urban</td>\n",
       "      <td>3</td>\n",
       "      <td>Not Reported</td>\n",
       "      <td>530422</td>\n",
       "      <td>Unknown Body Type</td>\n",
       "      <td>1</td>\n",
       "    </tr>\n",
       "    <tr>\n",
       "      <th>52584</th>\n",
       "      <td>Arizona</td>\n",
       "      <td>Rural</td>\n",
       "      <td>18</td>\n",
       "      <td>Not Reported</td>\n",
       "      <td>40096</td>\n",
       "      <td>Standard Pickup</td>\n",
       "      <td>1</td>\n",
       "    </tr>\n",
       "  </tbody>\n",
       "</table>\n",
       "</div>"
      ],
      "text/plain": [
       "       state_name land_use_name  hour_of_crash atmospheric_conditions_name  \\\n",
       "52580    Virginia         Urban             15                Not Reported   \n",
       "52581  New Mexico         Urban             14                       Clear   \n",
       "52582     Arizona         Rural             14                Not Reported   \n",
       "52583  Washington         Urban              3                Not Reported   \n",
       "52584     Arizona         Rural             18                Not Reported   \n",
       "\n",
       "       consecutive_number                                     body_type_name  \\\n",
       "52580              510436  Large Utility (ANSI D-16 Utility Vehicle Categ...   \n",
       "52581              350309                                         Motorcycle   \n",
       "52582               40777  ATV (All-Terrain Vehicle; Includes 3 or 4 Wheels)   \n",
       "52583              530422                                  Unknown Body Type   \n",
       "52584               40096                                    Standard Pickup   \n",
       "\n",
       "       number_of_fatalities  \n",
       "52580                     1  \n",
       "52581                     1  \n",
       "52582                     1  \n",
       "52583                     1  \n",
       "52584                     1  "
      ]
     },
     "execution_count": 33,
     "metadata": {},
     "output_type": "execute_result"
    }
   ],
   "source": [
    "df.tail()  # Melihat 5 data terbawah"
   ]
  },
  {
   "cell_type": "code",
   "execution_count": 8,
   "metadata": {},
   "outputs": [
    {
     "data": {
      "text/plain": [
       "(52585, 6)"
      ]
     },
     "execution_count": 8,
     "metadata": {},
     "output_type": "execute_result"
    }
   ],
   "source": [
    "df.shape"
   ]
  },
  {
   "cell_type": "markdown",
   "metadata": {},
   "source": [
    "# Data Cleaning"
   ]
  },
  {
   "cell_type": "code",
   "execution_count": 24,
   "metadata": {},
   "outputs": [
    {
     "name": "stdout",
     "output_type": "stream",
     "text": [
      "<class 'pandas.core.frame.DataFrame'>\n",
      "RangeIndex: 52585 entries, 0 to 52584\n",
      "Data columns (total 7 columns):\n",
      " #   Column                       Non-Null Count  Dtype \n",
      "---  ------                       --------------  ----- \n",
      " 0   state_name                   52585 non-null  object\n",
      " 1   land_use_name                52585 non-null  object\n",
      " 2   hour_of_crash                52585 non-null  int64 \n",
      " 3   atmospheric_conditions_name  52585 non-null  object\n",
      " 4   consecutive_number           52585 non-null  int64 \n",
      " 5   body_type_name               52585 non-null  object\n",
      " 6   number_of_fatalities         52585 non-null  int64 \n",
      "dtypes: int64(3), object(4)\n",
      "memory usage: 2.8+ MB\n"
     ]
    }
   ],
   "source": [
    "df.info() # Mengecek tipe data"
   ]
  },
  {
   "cell_type": "code",
   "execution_count": null,
   "metadata": {},
   "outputs": [],
   "source": [
    "for col in df:\n",
    "  missing_value = df[col].isnull().sum()\n",
    "  print(col, ' : ', missing_value)"
   ]
  },
  {
   "cell_type": "markdown",
   "metadata": {},
   "source": [
    "Dari code diatas bahwa dataset tidak memiliki nilai missing value, karena itu tidak diperlukannya proses cleaning data."
   ]
  },
  {
   "cell_type": "markdown",
   "metadata": {},
   "source": [
    "# Data Exploration"
   ]
  },
  {
   "cell_type": "code",
   "execution_count": 5,
   "metadata": {},
   "outputs": [
    {
     "data": {
      "text/plain": [
       "<AxesSubplot:xlabel='state_name'>"
      ]
     },
     "execution_count": 5,
     "metadata": {},
     "output_type": "execute_result"
    },
    {
     "data": {
      "image/png": "[encoded data removed]",
      "text/plain": [
       "<Figure size 432x288 with 1 Axes>"
      ]
     },
     "metadata": {
      "needs_background": "light"
     },
     "output_type": "display_data"
    }
   ],
   "source": [
    "# stat_name jumlah kecelakaan paling tinggi\n",
    "crash_freq = df['state_name'].value_counts().head(7)\n",
    "sns.barplot(x=crash_freq, y=crash_freq.index, orient='h')"
   ]
  },
  {
   "cell_type": "code",
   "execution_count": 28,
   "metadata": {},
   "outputs": [
    {
     "data": {
      "text/plain": [
       "<AxesSubplot:ylabel='land_use_name'>"
      ]
     },
     "execution_count": 28,
     "metadata": {},
     "output_type": "execute_result"
    },
    {
     "data": {
      "image/png": "[encoded data removed]",
      "text/plain": [
       "<Figure size 720x720 with 1 Axes>"
      ]
     },
     "metadata": {},
     "output_type": "display_data"
    }
   ],
   "source": [
    "# Perbandingan antara Urban dan Rural\n",
    "df['land_use_name'].value_counts().plot(kind='pie', figsize=(10,10), autopct='%.2f')"
   ]
  },
  {
   "cell_type": "markdown",
   "metadata": {},
   "source": [
    "Berdasarkan pie chart 53.37% kecelakaan terjadi di land_use_name urban (perkotaan) dan sisanya terjadi di land_use_name rural (pedesaan)"
   ]
  },
  {
   "cell_type": "code",
   "execution_count": 29,
   "metadata": {},
   "outputs": [
    {
     "data": {
      "image/png": "[encoded data removed]",
      "text/plain": [
       "<Figure size 432x288 with 1 Axes>"
      ]
     },
     "metadata": {
      "needs_background": "light"
     },
     "output_type": "display_data"
    }
   ],
   "source": [
    "# Frekeunsi hour_of_crash kecelakaan paling tinggi\n",
    "hour_of_crash = df['hour_of_crash'].value_counts().head(9)\n",
    "sns.lineplot(x=hour_of_crash .index ,y=hour_of_crash)\n",
    "plt.xticks(rotation=45)\n",
    "plt.show()"
   ]
  },
  {
   "cell_type": "code",
   "execution_count": 31,
   "metadata": {},
   "outputs": [
    {
     "data": {
      "text/plain": [
       "<AxesSubplot:>"
      ]
     },
     "execution_count": 31,
     "metadata": {},
     "output_type": "execute_result"
    },
    {
     "data": {
      "image/png": "[encoded data removed]",
      "text/plain": [
       "<Figure size 432x288 with 1 Axes>"
      ]
     },
     "metadata": {
      "needs_background": "light"
     },
     "output_type": "display_data"
    }
   ],
   "source": [
    "# Frekuensi body_type_name kecelakaan paling tinggi\n",
    "df['body_type_name'].value_counts().head(9).plot(kind='bar')"
   ]
  },
  {
   "cell_type": "code",
   "execution_count": 37,
   "metadata": {},
   "outputs": [
    {
     "data": {
      "text/html": [
       "<div>\n",
       "<style scoped>\n",
       "    .dataframe tbody tr th:only-of-type {\n",
       "        vertical-align: middle;\n",
       "    }\n",
       "\n",
       "    .dataframe tbody tr th {\n",
       "        vertical-align: top;\n",
       "    }\n",
       "\n",
       "    .dataframe thead th {\n",
       "        text-align: right;\n",
       "    }\n",
       "</style>\n",
       "<table border=\"1\" class=\"dataframe\">\n",
       "  <thead>\n",
       "    <tr style=\"text-align: right;\">\n",
       "      <th></th>\n",
       "      <th>land_use_name</th>\n",
       "      <th>atmospheric_conditions_name</th>\n",
       "      <th>number_of_fatalities</th>\n",
       "    </tr>\n",
       "  </thead>\n",
       "  <tbody>\n",
       "    <tr>\n",
       "      <th>0</th>\n",
       "      <td>Rural</td>\n",
       "      <td>Snow</td>\n",
       "      <td>1</td>\n",
       "    </tr>\n",
       "    <tr>\n",
       "      <th>1</th>\n",
       "      <td>Rural</td>\n",
       "      <td>Blowing Snow</td>\n",
       "      <td>2</td>\n",
       "    </tr>\n",
       "    <tr>\n",
       "      <th>2</th>\n",
       "      <td>Urban</td>\n",
       "      <td>Clear</td>\n",
       "      <td>1</td>\n",
       "    </tr>\n",
       "    <tr>\n",
       "      <th>3</th>\n",
       "      <td>Urban</td>\n",
       "      <td>Clear</td>\n",
       "      <td>1</td>\n",
       "    </tr>\n",
       "    <tr>\n",
       "      <th>4</th>\n",
       "      <td>Urban</td>\n",
       "      <td>Clear</td>\n",
       "      <td>1</td>\n",
       "    </tr>\n",
       "    <tr>\n",
       "      <th>...</th>\n",
       "      <td>...</td>\n",
       "      <td>...</td>\n",
       "      <td>...</td>\n",
       "    </tr>\n",
       "    <tr>\n",
       "      <th>52580</th>\n",
       "      <td>Urban</td>\n",
       "      <td>Not Reported</td>\n",
       "      <td>1</td>\n",
       "    </tr>\n",
       "    <tr>\n",
       "      <th>52581</th>\n",
       "      <td>Urban</td>\n",
       "      <td>Clear</td>\n",
       "      <td>1</td>\n",
       "    </tr>\n",
       "    <tr>\n",
       "      <th>52582</th>\n",
       "      <td>Rural</td>\n",
       "      <td>Not Reported</td>\n",
       "      <td>1</td>\n",
       "    </tr>\n",
       "    <tr>\n",
       "      <th>52583</th>\n",
       "      <td>Urban</td>\n",
       "      <td>Not Reported</td>\n",
       "      <td>1</td>\n",
       "    </tr>\n",
       "    <tr>\n",
       "      <th>52584</th>\n",
       "      <td>Rural</td>\n",
       "      <td>Not Reported</td>\n",
       "      <td>1</td>\n",
       "    </tr>\n",
       "  </tbody>\n",
       "</table>\n",
       "<p>52585 rows × 3 columns</p>\n",
       "</div>"
      ],
      "text/plain": [
       "      land_use_name atmospheric_conditions_name  number_of_fatalities\n",
       "0             Rural                        Snow                     1\n",
       "1             Rural                Blowing Snow                     2\n",
       "2             Urban                       Clear                     1\n",
       "3             Urban                       Clear                     1\n",
       "4             Urban                       Clear                     1\n",
       "...             ...                         ...                   ...\n",
       "52580         Urban                Not Reported                     1\n",
       "52581         Urban                       Clear                     1\n",
       "52582         Rural                Not Reported                     1\n",
       "52583         Urban                Not Reported                     1\n",
       "52584         Rural                Not Reported                     1\n",
       "\n",
       "[52585 rows x 3 columns]"
      ]
     },
     "execution_count": 37,
     "metadata": {},
     "output_type": "execute_result"
    }
   ],
   "source": [
    "# Frekuensi number_of_fatalities pada setiap land_use_name\n",
    "EDA_land_fata = df.drop(['state_name','hour_of_crash','consecutive_number','body_type_name'], axis=1)\n",
    "EDA_land_fata"
   ]
  },
  {
   "cell_type": "code",
   "execution_count": 39,
   "metadata": {},
   "outputs": [
    {
     "data": {
      "text/html": [
       "<div>\n",
       "<style scoped>\n",
       "    .dataframe tbody tr th:only-of-type {\n",
       "        vertical-align: middle;\n",
       "    }\n",
       "\n",
       "    .dataframe tbody tr th {\n",
       "        vertical-align: top;\n",
       "    }\n",
       "\n",
       "    .dataframe thead th {\n",
       "        text-align: right;\n",
       "    }\n",
       "</style>\n",
       "<table border=\"1\" class=\"dataframe\">\n",
       "  <thead>\n",
       "    <tr style=\"text-align: right;\">\n",
       "      <th></th>\n",
       "      <th>number_of_fatalities</th>\n",
       "    </tr>\n",
       "    <tr>\n",
       "      <th>atmospheric_conditions_name</th>\n",
       "      <th></th>\n",
       "    </tr>\n",
       "  </thead>\n",
       "  <tbody>\n",
       "    <tr>\n",
       "      <th>Blowing Sand, Soil, Dirt</th>\n",
       "      <td>4</td>\n",
       "    </tr>\n",
       "    <tr>\n",
       "      <th>Clear</th>\n",
       "      <td>22500</td>\n",
       "    </tr>\n",
       "    <tr>\n",
       "      <th>Cloudy</th>\n",
       "      <td>4361</td>\n",
       "    </tr>\n",
       "    <tr>\n",
       "      <th>Fog, Smog, Smoke</th>\n",
       "      <td>161</td>\n",
       "    </tr>\n",
       "    <tr>\n",
       "      <th>Freezing Rain or Drizzle</th>\n",
       "      <td>12</td>\n",
       "    </tr>\n",
       "    <tr>\n",
       "      <th>Not Reported</th>\n",
       "      <td>1156</td>\n",
       "    </tr>\n",
       "    <tr>\n",
       "      <th>Other</th>\n",
       "      <td>52</td>\n",
       "    </tr>\n",
       "    <tr>\n",
       "      <th>Rain</th>\n",
       "      <td>1790</td>\n",
       "    </tr>\n",
       "    <tr>\n",
       "      <th>Severe Crosswinds</th>\n",
       "      <td>17</td>\n",
       "    </tr>\n",
       "    <tr>\n",
       "      <th>Sleet, Hail</th>\n",
       "      <td>34</td>\n",
       "    </tr>\n",
       "    <tr>\n",
       "      <th>Snow</th>\n",
       "      <td>208</td>\n",
       "    </tr>\n",
       "    <tr>\n",
       "      <th>Unknown</th>\n",
       "      <td>67</td>\n",
       "    </tr>\n",
       "  </tbody>\n",
       "</table>\n",
       "</div>"
      ],
      "text/plain": [
       "                             number_of_fatalities\n",
       "atmospheric_conditions_name                      \n",
       "Blowing Sand, Soil, Dirt                        4\n",
       "Clear                                       22500\n",
       "Cloudy                                       4361\n",
       "Fog, Smog, Smoke                              161\n",
       "Freezing Rain or Drizzle                       12\n",
       "Not Reported                                 1156\n",
       "Other                                          52\n",
       "Rain                                         1790\n",
       "Severe Crosswinds                              17\n",
       "Sleet, Hail                                    34\n",
       "Snow                                          208\n",
       "Unknown                                        67"
      ]
     },
     "execution_count": 39,
     "metadata": {},
     "output_type": "execute_result"
    }
   ],
   "source": [
    "EDA_land_name_urban = EDA_land_fata[EDA_land_fata['land_use_name'] == 'Urban'].groupby('atmospheric_conditions_name').sum() # groupby atmospheric_conditions_name pada land_use_name Urban agar mendapatkan nilai number_of_fatalities\n",
    "EDA_land_name_urban"
   ]
  },
  {
   "cell_type": "code",
   "execution_count": 40,
   "metadata": {},
   "outputs": [
    {
     "name": "stdout",
     "output_type": "stream",
     "text": [
      "Mean nilai kematian: 2530.0\n",
      "Median nilai kematian: 114.0\n",
      "Modus nilai kematian: 0         4\n",
      "1        12\n",
      "2        17\n",
      "3        34\n",
      "4        52\n",
      "5        67\n",
      "6       161\n",
      "7       208\n",
      "8      1156\n",
      "9      1790\n",
      "10     4361\n",
      "11    22500\n",
      "Name: number_of_fatalities, dtype: int64\n"
     ]
    }
   ],
   "source": [
    "print('Mean nilai kematian: {}'.format(np.round(EDA_land_name_urban.number_of_fatalities.mean())))\n",
    "print('Median nilai kematian: {}'.format(np.round(EDA_land_name_urban.number_of_fatalities.median())))\n",
    "print('Modus nilai kematian: {}'.format(np.round(EDA_land_name_urban.number_of_fatalities.mode())))"
   ]
  },
  {
   "cell_type": "markdown",
   "metadata": {},
   "source": [
    "Hasil mean nilai kematian di land_use_name urban pada tahun 2016 sebesar 2530\n",
    "\n",
    "Uji hipotesis \n",
    "\n",
    "H0: μ_Urban == μ_Rural\n",
    "H1: μ_Urban != μ_Rural"
   ]
  },
  {
   "cell_type": "code",
   "execution_count": 42,
   "metadata": {},
   "outputs": [
    {
     "name": "stdout",
     "output_type": "stream",
     "text": [
      "P-value: [0.87695144]\n"
     ]
    }
   ],
   "source": [
    "# uji two sample independent\n",
    "Rural = EDA_land_fata[EDA_land_fata['land_use_name'] == 'Rural'].groupby('atmospheric_conditions_name').sum() # groupby atmospheric_conditions_name  agar mendapatkan nilai angka kematian\n",
    "Urban = EDA_land_fata[EDA_land_fata['land_use_name'] == 'Urban'].groupby('atmospheric_conditions_name').sum() # groupby atmospheric_conditions_name agar mendapatkan nilai angka kematian\n",
    "\n",
    "t_stat, p_val = stats.ttest_ind(Urban,Rural)\n",
    "print('P-value:',p_val) "
   ]
  },
  {
   "cell_type": "markdown",
   "metadata": {},
   "source": [
    "Menunjukan tidak ada perbedaan rata-rata fatality antara land_use_name urban dengan land_use_name rural"
   ]
  },
  {
   "cell_type": "markdown",
   "metadata": {},
   "source": [
    "# Kesimpulan"
   ]
  },
  {
   "cell_type": "markdown",
   "metadata": {},
   "source": [
    "-   Dari keseluruhan state_name Amerika serikat, California menduduki posisi pertama dengan tingkat kecelakaan tertinggi dengan lebih dari 5000 kasus yang terjadi, posisi kedua ditempati  texas dengan hasil yang sangat mendekati california, urutan ketiga hingga ketujuh berturut-turut ditempati oleh florida, georgia, north carolina, pennsylvania, ohio.\n",
    "\n",
    "-   Dari land_use_name ini kami melakukan penelitian dan mendapatkan hasil bahwa kecelakaan yang terjadi lebih banyak di land_use_name urban (perkotaan) 53.37% dibanding dengan land_use_name rural (pedesaan) 46.63%. Dimana angka tertinggi kecelakaan terjadi pada pukul 17.00, waktu tersebut merupakan puncak mobilitas orang setelah bekerja. Kecelakaan yang terjadi di dominasi oleh body_type_name 4-Door Sedan/Hardtop dengan lebih dari 14000 kejadian, posisi ke dua ditempati Standard Pickup, posisi ke tiga Compact Utility (ANSI D-16 Utility Vehicle Categories “Small” and “Midsize”) dan posisi ke empat Motorcycle.\n",
    "\n",
    "-   Perhitungan menunjukan bahwa tidak terdapat perbedaan rata-rata kecelakaan diwilayah urban maupun rural yang signifikan, hal tersebut dapat menjadi pertimbangan pemerintah untuk memberlakukan kebijakan pembatasan kecepatan kendaraan di jam sibuk dan juga memberikan rambu peringatan agar masyarakat lebih berhati-hati dimana kebijakan tersebut bersekala nasional."
   ]
  }
 ],
 "metadata": {
  "kernelspec": {
   "display_name": "Python 3.9.12 ('base')",
   "language": "python",
   "name": "python3"
  },
  "language_info": {
   "codemirror_mode": {
    "name": "ipython",
    "version": 3
   },
   "file_extension": ".py",
   "mimetype": "text/x-python",
   "name": "python",
   "nbconvert_exporter": "python",
   "pygments_lexer": "ipython3",
   "version": "3.9.12"
  },
  "orig_nbformat": 4,
  "vscode": {
   "interpreter": {
    "hash": "f4cbc2fb82ae63074d8ddbad6dfccddac99fbfb746d69302fc9985b976028d0b"
   }
  }
 },
 "nbformat": 4,
 "nbformat_minor": 2
}
